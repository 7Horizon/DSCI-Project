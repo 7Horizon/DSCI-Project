{
 "cells": [
  {
   "cell_type": "markdown",
   "id": "09a1a990",
   "metadata": {
    "papermill": {
     "duration": 0.015638,
     "end_time": "2024-07-11T08:39:40.910230",
     "exception": false,
     "start_time": "2024-07-11T08:39:40.894592",
     "status": "completed"
    },
    "tags": []
   },
   "source": [
    "# Model training\n",
    "In diesem Notebook trainieren wir ein Neuronales Netz auf den Trainingsdaten, welche wir im Schritt [Objektextraktion](https://www.kaggle.com/code/toedtlifhsg/giraffenpuzzle-objektextraktion) erstellt haben. Die Daten sollten in einer sog. Baumstruktur angeordnet sein: Wir brauchen ein Verzeichnis für jede Klasse, und darin alle Bilder dieser Klasse."
   ]
  },
  {
   "cell_type": "markdown",
   "id": "3573d187",
   "metadata": {
    "papermill": {
     "duration": 0.01473,
     "end_time": "2024-07-11T08:39:40.940125",
     "exception": false,
     "start_time": "2024-07-11T08:39:40.925395",
     "status": "completed"
    },
    "tags": []
   },
   "source": [
    "Zunächst müssen wir unsere Objektbilder finden. Dies sind Bilder mit einer engen *Bounding Box* um das Objekt herum: "
   ]
  },
  {
   "cell_type": "code",
   "id": "bb99564e",
   "metadata": {
    "execution": {
     "iopub.execute_input": "2024-07-11T08:39:40.972376Z",
     "iopub.status.busy": "2024-07-11T08:39:40.972036Z",
     "iopub.status.idle": "2024-07-11T08:39:41.994548Z",
     "shell.execute_reply": "2024-07-11T08:39:41.993638Z"
    },
    "papermill": {
     "duration": 1.04168,
     "end_time": "2024-07-11T08:39:41.996730",
     "exception": false,
     "start_time": "2024-07-11T08:39:40.955050",
     "status": "completed"
    },
    "tags": [],
    "ExecuteTime": {
     "end_time": "2024-12-30T10:04:02.102451Z",
     "start_time": "2024-12-30T10:04:01.973632Z"
    }
   },
   "source": [
    "#Der folgende Befehl ist ein Linux-Befehl\n",
    "!ls 1_object_extraction_output/Ausschnitte | head   # gebe nur die ersten 10 Dateien aus "
   ],
   "outputs": [
    {
     "name": "stdout",
     "output_type": "stream",
     "text": [
      "fork-big_0_01.jpg\r\n",
      "fork-big_0_02.jpg\r\n",
      "fork-big_0_03.jpg\r\n",
      "fork-big_0_04.jpg\r\n",
      "fork-big_0_05.jpg\r\n",
      "fork-big_0_06.jpg\r\n",
      "fork-big_0_07.jpg\r\n",
      "fork-big_0_08.jpg\r\n",
      "fork-big_0_09.jpg\r\n",
      "fork-big_0_10.jpg\r\n"
     ]
    }
   ],
   "execution_count": 2
  },
  {
   "cell_type": "markdown",
   "id": "f01c46fe",
   "metadata": {
    "papermill": {
     "duration": 0.014839,
     "end_time": "2024-07-11T08:39:42.026940",
     "exception": false,
     "start_time": "2024-07-11T08:39:42.012101",
     "status": "completed"
    },
    "tags": []
   },
   "source": [
    "In der nächsten Zelle extrahieren wir die Klasse aus dem Dateinamen des Bildes"
   ]
  },
  {
   "cell_type": "code",
   "id": "c13f6b0b5d123053",
   "metadata": {
    "ExecuteTime": {
     "end_time": "2024-12-30T10:04:01.966438Z",
     "start_time": "2024-12-30T10:04:01.664912Z"
    }
   },
   "source": [
    "from pathlib import Path\n",
    "import numpy as np\n",
    "import pandas as pd"
   ],
   "outputs": [],
   "execution_count": 1
  },
  {
   "metadata": {
    "execution": {
     "iopub.execute_input": "2024-07-11T08:39:42.058433Z",
     "iopub.status.busy": "2024-07-11T08:39:42.058113Z",
     "iopub.status.idle": "2024-07-11T08:39:42.068175Z",
     "shell.execute_reply": "2024-07-11T08:39:42.067502Z"
    },
    "papermill": {
     "duration": 0.028291,
     "end_time": "2024-07-11T08:39:42.070154",
     "exception": false,
     "start_time": "2024-07-11T08:39:42.041863",
     "status": "completed"
    },
    "tags": [],
    "ExecuteTime": {
     "end_time": "2024-12-30T10:04:02.108861Z",
     "start_time": "2024-12-30T10:04:02.104449Z"
    }
   },
   "cell_type": "code",
   "source": [
    "\n",
    "files = [f for f in Path('1_object_extraction_output/Ausschnitte').glob('*')]\n",
    "s = files[0].name\n",
    "idx = s.find('_')\n",
    "Klassenliste = []\n",
    "filenameliste = [fn for fn in Path('1_object_extraction_output/Ausschnitte').glob('*')]\n",
    "for filename in filenameliste:\n",
    "    idx=filename.name.find('_')\n",
    "    klasse = filename.name[:idx]\n",
    "    Klassenliste.append(klasse)\n",
    "len(Klassenliste)\n",
    "Klassennamen = np.unique(Klassenliste).tolist()"
   ],
   "id": "905a1db2",
   "outputs": [],
   "execution_count": 3
  },
  {
   "cell_type": "code",
   "id": "b93fdb8a",
   "metadata": {
    "execution": {
     "iopub.execute_input": "2024-07-11T08:39:42.101409Z",
     "iopub.status.busy": "2024-07-11T08:39:42.101141Z",
     "iopub.status.idle": "2024-07-11T08:39:42.847661Z",
     "shell.execute_reply": "2024-07-11T08:39:42.846746Z"
    },
    "papermill": {
     "duration": 0.764567,
     "end_time": "2024-07-11T08:39:42.849747",
     "exception": false,
     "start_time": "2024-07-11T08:39:42.085180",
     "status": "completed"
    },
    "tags": [],
    "ExecuteTime": {
     "end_time": "2024-12-30T10:04:02.116258Z",
     "start_time": "2024-12-30T10:04:02.110114Z"
    }
   },
   "source": [
    "\n",
    "Anzahl_Trainingsbeispiele = np.floor(pd.Series(Klassenliste).value_counts()*0.6).astype('int')\n",
    "Anzahl_Trainingsbeispiele"
   ],
   "outputs": [
    {
     "data": {
      "text/plain": [
       "spoon-big    33\n",
       "fork-big     25\n",
       "knife-big    24\n",
       ".DS           0\n",
       "Name: count, dtype: int64"
      ]
     },
     "execution_count": 4,
     "metadata": {},
     "output_type": "execute_result"
    }
   ],
   "execution_count": 4
  },
  {
   "cell_type": "markdown",
   "id": "28d12489",
   "metadata": {
    "papermill": {
     "duration": 0.01557,
     "end_time": "2024-07-11T08:39:42.881069",
     "exception": false,
     "start_time": "2024-07-11T08:39:42.865499",
     "status": "completed"
    },
    "tags": []
   },
   "source": [
    "Nun erstellen wir die Baumstruktur, und zwar unter dem folgenden Pfad (nicht in allen Pfaden lassen sich Unterverzeichnisse erstellen!):"
   ]
  },
  {
   "cell_type": "code",
   "id": "da3be040",
   "metadata": {
    "execution": {
     "iopub.execute_input": "2024-07-11T08:39:42.913006Z",
     "iopub.status.busy": "2024-07-11T08:39:42.912537Z",
     "iopub.status.idle": "2024-07-11T08:39:42.921551Z",
     "shell.execute_reply": "2024-07-11T08:39:42.920888Z"
    },
    "papermill": {
     "duration": 0.027014,
     "end_time": "2024-07-11T08:39:42.923400",
     "exception": false,
     "start_time": "2024-07-11T08:39:42.896386",
     "status": "completed"
    },
    "tags": [],
    "ExecuteTime": {
     "end_time": "2024-12-30T10:04:02.119839Z",
     "start_time": "2024-12-30T10:04:02.117328Z"
    }
   },
   "source": [
    "Baumstrukturpfad = 'Training'\n",
    "Baumstrukturpfad=Path(Baumstrukturpfad)\n",
    "(Baumstrukturpfad/'train').mkdir(parents=True,exist_ok=True)\n",
    "(Baumstrukturpfad/'test').mkdir(parents=True,exist_ok=True)\n",
    "for klasse in Klassennamen:\n",
    "    pfad_train = (Baumstrukturpfad/'train'/klasse)\n",
    "    pfad_test = (Baumstrukturpfad/'test'/klasse)\n",
    "\n",
    "    pfad_train.mkdir(parents=True,exist_ok=True)\n",
    "    pfad_test.mkdir(parents=True,exist_ok=True)"
   ],
   "outputs": [],
   "execution_count": 5
  },
  {
   "cell_type": "markdown",
   "id": "f35ab373",
   "metadata": {
    "papermill": {
     "duration": 0.014833,
     "end_time": "2024-07-11T08:39:42.953470",
     "exception": false,
     "start_time": "2024-07-11T08:39:42.938637",
     "status": "completed"
    },
    "tags": []
   },
   "source": [
    "[DefaultDict-Dictionaries](https://www.python-kurs.eu/python3_dictionaries.php) sind im folgenden nützlich. [Dieses Video](https://ingo-janssen.de/python-erweiterte-datentypen-was-ist-defaultdict/) gibt eine gute Einführung."
   ]
  },
  {
   "cell_type": "code",
   "id": "528bd384",
   "metadata": {
    "execution": {
     "iopub.execute_input": "2024-07-11T08:39:42.984650Z",
     "iopub.status.busy": "2024-07-11T08:39:42.984367Z",
     "iopub.status.idle": "2024-07-11T08:39:42.990190Z",
     "shell.execute_reply": "2024-07-11T08:39:42.989323Z"
    },
    "papermill": {
     "duration": 0.023529,
     "end_time": "2024-07-11T08:39:42.992019",
     "exception": false,
     "start_time": "2024-07-11T08:39:42.968490",
     "status": "completed"
    },
    "tags": [],
    "ExecuteTime": {
     "end_time": "2024-12-30T10:04:02.135078Z",
     "start_time": "2024-12-30T10:04:02.132881Z"
    }
   },
   "source": [
    "from collections import defaultdict\n",
    "already_copied=defaultdict(lambda :0) #defaultdict's sind Dictionaries mit einem Default-Returnwert, hier 0 \n",
    "already_copied['noch nicht existierender Key']"
   ],
   "outputs": [
    {
     "data": {
      "text/plain": [
       "0"
      ]
     },
     "execution_count": 6,
     "metadata": {},
     "output_type": "execute_result"
    }
   ],
   "execution_count": 6
  },
  {
   "cell_type": "markdown",
   "id": "3f6ee880",
   "metadata": {
    "papermill": {
     "duration": 0.015055,
     "end_time": "2024-07-11T08:39:43.022158",
     "exception": false,
     "start_time": "2024-07-11T08:39:43.007103",
     "status": "completed"
    },
    "tags": []
   },
   "source": [
    "Wir bauen damit nun eine if/else-Klausel, so dass die in `Anzahl_Trainingsbeispiele` angegebene Anzahl Dateien als Trainingsdaten verwendet  (in das Unterverzeichnis 'train' kopiert) werden, und der Rest als Testdaten verwendet werden."
   ]
  },
  {
   "cell_type": "code",
   "id": "de617e76",
   "metadata": {
    "execution": {
     "iopub.execute_input": "2024-07-11T08:39:43.054016Z",
     "iopub.status.busy": "2024-07-11T08:39:43.053716Z",
     "iopub.status.idle": "2024-07-11T08:39:43.638208Z",
     "shell.execute_reply": "2024-07-11T08:39:43.637151Z"
    },
    "papermill": {
     "duration": 0.602769,
     "end_time": "2024-07-11T08:39:43.640219",
     "exception": false,
     "start_time": "2024-07-11T08:39:43.037450",
     "status": "completed"
    },
    "tags": [],
    "ExecuteTime": {
     "end_time": "2024-12-30T10:04:02.163872Z",
     "start_time": "2024-12-30T10:04:02.135859Z"
    }
   },
   "source": [
    "import shutil\n",
    "train_or_test=dict()\n",
    "i=0\n",
    "for ifile,(filename,klasse) in enumerate(zip(filenameliste,Klassenliste)):\n",
    "    if ifile<6: #einfach, um ein paar Erklärungen zu erhalten, aber nicht zu viele\n",
    "        print('kopiere',filename,'nach',Baumstrukturpfad/klasse/filename.name)\n",
    "    elif ifile==6:\n",
    "        print('...')\n",
    "    if already_copied[klasse]<Anzahl_Trainingsbeispiele[klasse]:\n",
    "        shutil.copyfile(filename,Baumstrukturpfad/'train'/klasse/filename.name)\n",
    "        already_copied[klasse]+=1 # zähle mit, wieviele Beispiele schon in das Verzeichnis 'train' kopiert wurden.\n",
    "        train_or_test[filename.name]='train'\n",
    "    else:\n",
    "        shutil.copyfile(filename,Baumstrukturpfad/'test'/klasse/filename.name)\n",
    "        train_or_test[filename.name]='test'\n",
    "    \n",
    "print('Done.')"
   ],
   "outputs": [
    {
     "name": "stdout",
     "output_type": "stream",
     "text": [
      "kopiere 1_object_extraction_output/Ausschnitte/knife-big_1_03.jpg nach Training/knife-big/knife-big_1_03.jpg\n",
      "kopiere 1_object_extraction_output/Ausschnitte/fork-big_2_01.jpg nach Training/fork-big/fork-big_2_01.jpg\n",
      "kopiere 1_object_extraction_output/Ausschnitte/knife-big_3_12.jpg nach Training/knife-big/knife-big_3_12.jpg\n",
      "kopiere 1_object_extraction_output/Ausschnitte/fork-big_0_10.jpg nach Training/fork-big/fork-big_0_10.jpg\n",
      "kopiere 1_object_extraction_output/Ausschnitte/fork-big_0_04.jpg nach Training/fork-big/fork-big_0_04.jpg\n",
      "kopiere 1_object_extraction_output/Ausschnitte/spoon-big_0_09.jpg nach Training/spoon-big/spoon-big_0_09.jpg\n",
      "...\n",
      "Done.\n"
     ]
    }
   ],
   "execution_count": 7
  },
  {
   "cell_type": "markdown",
   "id": "7c3fdc43",
   "metadata": {
    "papermill": {
     "duration": 0.015538,
     "end_time": "2024-07-11T08:39:43.671719",
     "exception": false,
     "start_time": "2024-07-11T08:39:43.656181",
     "status": "completed"
    },
    "tags": []
   },
   "source": [
    "Überprüfen wir, dass die Bilder an die richtige Stelle kopiert wurden!"
   ]
  },
  {
   "cell_type": "code",
   "id": "e0bf6fc3",
   "metadata": {
    "execution": {
     "iopub.execute_input": "2024-07-11T08:39:43.703768Z",
     "iopub.status.busy": "2024-07-11T08:39:43.703451Z",
     "iopub.status.idle": "2024-07-11T08:39:44.691728Z",
     "shell.execute_reply": "2024-07-11T08:39:44.690584Z"
    },
    "papermill": {
     "duration": 1.007226,
     "end_time": "2024-07-11T08:39:44.694268",
     "exception": false,
     "start_time": "2024-07-11T08:39:43.687042",
     "status": "completed"
    },
    "tags": [],
    "ExecuteTime": {
     "end_time": "2024-12-30T10:04:02.285894Z",
     "start_time": "2024-12-30T10:04:02.164784Z"
    }
   },
   "source": [
    "!ls {Baumstrukturpfad}/*/*"
   ],
   "outputs": [
    {
     "name": "stdout",
     "output_type": "stream",
     "text": [
      "Training/test/fork-big:\r\n",
      "fork-big_0_08.jpg fork-big_1_05.jpg fork-big_3_04.jpg fork-big_5_06.jpg\r\n",
      "fork-big_0_09.jpg fork-big_1_07.jpg fork-big_3_07.jpg fork-big_5_10.jpg\r\n",
      "fork-big_1_01.jpg fork-big_1_11.jpg fork-big_3_10.jpg\r\n",
      "fork-big_1_02.jpg fork-big_2_08.jpg fork-big_3_11.jpg\r\n",
      "fork-big_1_04.jpg fork-big_2_09.jpg fork-big_5_03.jpg\r\n",
      "\r\n",
      "Training/test/knife-big:\r\n",
      "knife-big_0_03.jpg knife-big_0_10.jpg knife-big_2_01.jpg knife-big_4_05.jpg\r\n",
      "knife-big_0_04.jpg knife-big_0_11.jpg knife-big_2_02.jpg knife-big_4_12.jpg\r\n",
      "knife-big_0_05.jpg knife-big_0_12.jpg knife-big_2_03.jpg\r\n",
      "knife-big_0_06.jpg knife-big_1_08.jpg knife-big_2_06.jpg\r\n",
      "knife-big_0_07.jpg knife-big_1_09.jpg knife-big_4_04.jpg\r\n",
      "\r\n",
      "Training/test/spoon-big:\r\n",
      "spoon-big_0_01.jpg spoon-big_0_07.jpg spoon-big_2_02.jpg spoon-big_2_11.jpg\r\n",
      "spoon-big_0_02.jpg spoon-big_0_10.jpg spoon-big_2_03.jpg spoon-big_2_12.jpg\r\n",
      "spoon-big_0_03.jpg spoon-big_0_11.jpg spoon-big_2_04.jpg spoon-big_2_13.jpg\r\n",
      "spoon-big_0_04.jpg spoon-big_0_12.jpg spoon-big_2_05.jpg spoon-big_2_14.jpg\r\n",
      "spoon-big_0_05.jpg spoon-big_0_13.jpg spoon-big_2_06.jpg spoon-big_4_02.jpg\r\n",
      "spoon-big_0_06.jpg spoon-big_0_14.jpg spoon-big_2_07.jpg\r\n",
      "\r\n",
      "Training/train/fork-big:\r\n",
      "fork-big_0_01.jpg fork-big_0_10.jpg fork-big_2_03.jpg fork-big_3_09.jpg\r\n",
      "fork-big_0_02.jpg fork-big_0_11.jpg fork-big_2_04.jpg fork-big_4_10.jpg\r\n",
      "fork-big_0_03.jpg fork-big_1_06.jpg fork-big_2_05.jpg fork-big_4_11.jpg\r\n",
      "fork-big_0_04.jpg fork-big_1_08.jpg fork-big_2_06.jpg fork-big_6_03.jpg\r\n",
      "fork-big_0_05.jpg fork-big_1_09.jpg fork-big_2_07.jpg\r\n",
      "fork-big_0_06.jpg fork-big_2_01.jpg fork-big_3_02.jpg\r\n",
      "fork-big_0_07.jpg fork-big_2_02.jpg fork-big_3_08.jpg\r\n",
      "\r\n",
      "Training/train/knife-big:\r\n",
      "knife-big_0_01.jpg knife-big_1_03.jpg knife-big_1_11.jpg knife-big_3_01.jpg\r\n",
      "knife-big_0_02.jpg knife-big_1_04.jpg knife-big_2_07.jpg knife-big_3_02.jpg\r\n",
      "knife-big_0_08.jpg knife-big_1_05.jpg knife-big_2_08.jpg knife-big_3_03.jpg\r\n",
      "knife-big_0_09.jpg knife-big_1_06.jpg knife-big_2_09.jpg knife-big_3_12.jpg\r\n",
      "knife-big_1_01.jpg knife-big_1_07.jpg knife-big_2_10.jpg knife-big_5_04.jpg\r\n",
      "knife-big_1_02.jpg knife-big_1_10.jpg knife-big_2_11.jpg knife-big_5_05.jpg\r\n",
      "\r\n",
      "Training/train/spoon-big:\r\n",
      "spoon-big_0_08.jpg spoon-big_1_09.jpg spoon-big_3_02.jpg spoon-big_3_11.jpg\r\n",
      "spoon-big_0_09.jpg spoon-big_1_10.jpg spoon-big_3_03.jpg spoon-big_3_12.jpg\r\n",
      "spoon-big_1_01.jpg spoon-big_1_11.jpg spoon-big_3_04.jpg spoon-big_3_13.jpg\r\n",
      "spoon-big_1_03.jpg spoon-big_1_12.jpg spoon-big_3_05.jpg spoon-big_3_14.jpg\r\n",
      "spoon-big_1_04.jpg spoon-big_1_13.jpg spoon-big_3_06.jpg spoon-big_4_01.jpg\r\n",
      "spoon-big_1_05.jpg spoon-big_1_14.jpg spoon-big_3_07.jpg spoon-big_4_10.jpg\r\n",
      "spoon-big_1_06.jpg spoon-big_2_08.jpg spoon-big_3_08.jpg\r\n",
      "spoon-big_1_07.jpg spoon-big_2_09.jpg spoon-big_3_09.jpg\r\n",
      "spoon-big_1_08.jpg spoon-big_3_01.jpg spoon-big_3_10.jpg\r\n",
      "\r\n",
      "Training/working/model:\r\n",
      "model_Besteck.keras\r\n",
      "\r\n",
      "Training/working/test:\r\n",
      "\u001B[34mfork-big\u001B[m\u001B[m  \u001B[34mknife-big\u001B[m\u001B[m \u001B[34mspoon-big\u001B[m\u001B[m\r\n"
     ]
    }
   ],
   "execution_count": 8
  },
  {
   "cell_type": "markdown",
   "id": "1d3ff8bb",
   "metadata": {
    "papermill": {
     "duration": 0.015633,
     "end_time": "2024-07-11T08:39:44.725887",
     "exception": false,
     "start_time": "2024-07-11T08:39:44.710254",
     "status": "completed"
    },
    "tags": []
   },
   "source": [
    "Wir sollten im Folgenden *nur noch Trainingsbeispiele zum Training des neuronalen Netzes verwenden*. Die Testbeispiele nutzen wir erst, wenn das Neuronale Netzwerk fertig optimiert ist und kurz vor der Inbetriebnahme steht."
   ]
  },
  {
   "cell_type": "code",
   "id": "29e9375f",
   "metadata": {
    "execution": {
     "iopub.execute_input": "2024-07-11T08:39:44.758808Z",
     "iopub.status.busy": "2024-07-11T08:39:44.758449Z",
     "iopub.status.idle": "2024-07-11T08:39:57.687247Z",
     "shell.execute_reply": "2024-07-11T08:39:57.686367Z"
    },
    "papermill": {
     "duration": 12.947663,
     "end_time": "2024-07-11T08:39:57.689189",
     "exception": false,
     "start_time": "2024-07-11T08:39:44.741526",
     "status": "completed"
    },
    "tags": [],
    "ExecuteTime": {
     "end_time": "2024-12-30T10:04:04.986762Z",
     "start_time": "2024-12-30T10:04:02.287372Z"
    }
   },
   "source": [
    "import os,datetime\n",
    "os.environ[\"TF_CPP_MIN_LOG_LEVEL\"] = '1'\n",
    "#os.environ[\"CUDA_VISIBLE_DEVICES\"] = \"-1\" #dies schaltet die GPU aus. GPU-Nutzung führt bei mir zu einem Kernel-Crash... \n",
    "import tensorflow as tf\n",
    "import matplotlib.pyplot as plt\n",
    "from tensorflow.keras import layers\n",
    "import scikitplot as skplt\n",
    "from sklearn import metrics\n",
    "import numpy as np\n",
    "tf.config.list_physical_devices('GPU') #Wenn keine GPU Verfügbar ist, ist das nicht weiter schlimm (nur langsamer)"
   ],
   "outputs": [
    {
     "data": {
      "text/plain": [
       "[]"
      ]
     },
     "execution_count": 9,
     "metadata": {},
     "output_type": "execute_result"
    }
   ],
   "execution_count": 9
  },
  {
   "cell_type": "markdown",
   "id": "fda9131e",
   "metadata": {
    "papermill": {
     "duration": 0.015704,
     "end_time": "2024-07-11T08:39:57.721174",
     "exception": false,
     "start_time": "2024-07-11T08:39:57.705470",
     "status": "completed"
    },
    "tags": []
   },
   "source": [
    "Die Unterverzeichnisse von `path` (2_labelling/Beispiel/Bauteile/) stellen die Klassen dar, welche gelernt werden. In jedem Unterverzeichniss sollten sich Bilder dieser Klasse befinden."
   ]
  },
  {
   "cell_type": "code",
   "id": "d66be1a9",
   "metadata": {
    "execution": {
     "iopub.execute_input": "2024-07-11T08:39:57.754058Z",
     "iopub.status.busy": "2024-07-11T08:39:57.753487Z",
     "iopub.status.idle": "2024-07-11T08:39:57.757696Z",
     "shell.execute_reply": "2024-07-11T08:39:57.756859Z"
    },
    "papermill": {
     "duration": 0.02279,
     "end_time": "2024-07-11T08:39:57.759679",
     "exception": false,
     "start_time": "2024-07-11T08:39:57.736889",
     "status": "completed"
    },
    "tags": [],
    "ExecuteTime": {
     "end_time": "2024-12-30T10:04:04.989351Z",
     "start_time": "2024-12-30T10:04:04.987769Z"
    }
   },
   "source": "Datensatzname = 'Besteck'  #Unbedingt anpassen! Das Trainierte Modell wird später mit diesem String bezeichnet.",
   "outputs": [],
   "execution_count": 10
  },
  {
   "cell_type": "code",
   "id": "e8688a39",
   "metadata": {
    "execution": {
     "iopub.execute_input": "2024-07-11T08:39:57.792699Z",
     "iopub.status.busy": "2024-07-11T08:39:57.792209Z",
     "iopub.status.idle": "2024-07-11T08:39:57.797790Z",
     "shell.execute_reply": "2024-07-11T08:39:57.796966Z"
    },
    "papermill": {
     "duration": 0.024215,
     "end_time": "2024-07-11T08:39:57.799809",
     "exception": false,
     "start_time": "2024-07-11T08:39:57.775594",
     "status": "completed"
    },
    "tags": [],
    "ExecuteTime": {
     "end_time": "2024-12-30T10:04:05.008963Z",
     "start_time": "2024-12-30T10:04:05.006953Z"
    }
   },
   "source": [
    "Baumstrukturpfad = Path(os.path.expanduser(Baumstrukturpfad))\n",
    "downloadable_output_path = 'Training/working' #Nach Klick auf \"Save Version\" wird der Inhalt dieses Verzeichnisses als Output zugänglich.\n",
    "model_output_path = os.path.join(downloadable_output_path,'model')  # kann angepasst werden! Gut überprüfen\n",
    "if not os.path.exists(model_output_path):\n",
    "    os.mkdir(model_output_path)\n",
    "print(f'Modell wird nach {model_output_path} geschrieben')"
   ],
   "outputs": [
    {
     "name": "stdout",
     "output_type": "stream",
     "text": [
      "Modell wird nach Training/working/model geschrieben\n"
     ]
    }
   ],
   "execution_count": 11
  },
  {
   "cell_type": "code",
   "id": "61536efb",
   "metadata": {
    "execution": {
     "iopub.execute_input": "2024-07-11T08:39:57.833404Z",
     "iopub.status.busy": "2024-07-11T08:39:57.832956Z",
     "iopub.status.idle": "2024-07-11T08:39:58.830727Z",
     "shell.execute_reply": "2024-07-11T08:39:58.829577Z"
    },
    "papermill": {
     "duration": 1.017661,
     "end_time": "2024-07-11T08:39:58.833470",
     "exception": false,
     "start_time": "2024-07-11T08:39:57.815809",
     "status": "completed"
    },
    "tags": [],
    "ExecuteTime": {
     "end_time": "2024-12-30T10:04:05.131586Z",
     "start_time": "2024-12-30T10:04:05.009865Z"
    }
   },
   "source": [
    "!ls {Baumstrukturpfad}/'train'"
   ],
   "outputs": [
    {
     "name": "stdout",
     "output_type": "stream",
     "text": [
      "\u001B[34mfork-big\u001B[m\u001B[m  \u001B[34mknife-big\u001B[m\u001B[m \u001B[34mspoon-big\u001B[m\u001B[m\r\n"
     ]
    }
   ],
   "execution_count": 12
  },
  {
   "cell_type": "markdown",
   "id": "09793b3f",
   "metadata": {
    "papermill": {
     "duration": 0.017232,
     "end_time": "2024-07-11T08:39:58.867833",
     "exception": false,
     "start_time": "2024-07-11T08:39:58.850601",
     "status": "completed"
    },
    "tags": []
   },
   "source": [
    "**In der letzten Zelle sollten die Klassen der Aufgabe angezeigt werden (nicht etwa die einzelnen Dateien). Ansonsten ist die Zeile mit `path=...` anzupassen!**  \n",
    "Wir trainieren auf Bildern, welche 64x64 Pixel gross sein sollten. Wenn sie es im obigen Pfad nicht sind, werden sie entsprechend angepasst."
   ]
  },
  {
   "cell_type": "code",
   "id": "208a3122",
   "metadata": {
    "execution": {
     "iopub.execute_input": "2024-07-11T08:39:58.941665Z",
     "iopub.status.busy": "2024-07-11T08:39:58.940778Z",
     "iopub.status.idle": "2024-07-11T08:39:58.945505Z",
     "shell.execute_reply": "2024-07-11T08:39:58.944649Z"
    },
    "papermill": {
     "duration": 0.024379,
     "end_time": "2024-07-11T08:39:58.947472",
     "exception": false,
     "start_time": "2024-07-11T08:39:58.923093",
     "status": "completed"
    },
    "tags": [],
    "ExecuteTime": {
     "end_time": "2024-12-30T10:04:05.135101Z",
     "start_time": "2024-12-30T10:04:05.133013Z"
    }
   },
   "source": [
    "image_size=(64,64)\n",
    "batch_size=32"
   ],
   "outputs": [],
   "execution_count": 13
  },
  {
   "cell_type": "code",
   "id": "094cf0f0",
   "metadata": {
    "execution": {
     "iopub.execute_input": "2024-07-11T08:39:58.981198Z",
     "iopub.status.busy": "2024-07-11T08:39:58.980724Z",
     "iopub.status.idle": "2024-07-11T08:40:01.144980Z",
     "shell.execute_reply": "2024-07-11T08:40:01.144238Z"
    },
    "papermill": {
     "duration": 2.18328,
     "end_time": "2024-07-11T08:40:01.147059",
     "exception": false,
     "start_time": "2024-07-11T08:39:58.963779",
     "status": "completed"
    },
    "tags": [],
    "ExecuteTime": {
     "end_time": "2024-12-30T10:04:05.184694Z",
     "start_time": "2024-12-30T10:04:05.136108Z"
    }
   },
   "source": [
    "train_ds = tf.keras.utils.image_dataset_from_directory(\n",
    "  Baumstrukturpfad/'train',\n",
    "  validation_split=0.2,\n",
    "  subset=\"training\",\n",
    "  seed=123,\n",
    "  image_size=image_size,\n",
    "  batch_size=batch_size)\n",
    "\n",
    "val_ds = tf.keras.utils.image_dataset_from_directory(\n",
    "  Baumstrukturpfad/'train',  #es ist wichtig, dass zur Validierung keine Testdaten verwendet werden!\n",
    "  validation_split=0.2,\n",
    "  subset=\"validation\",\n",
    "  seed=123,\n",
    "  image_size=image_size,\n",
    "  batch_size=batch_size)\n"
   ],
   "outputs": [
    {
     "name": "stdout",
     "output_type": "stream",
     "text": [
      "Found 82 files belonging to 3 classes.\n",
      "Using 66 files for training.\n",
      "Found 82 files belonging to 3 classes.\n",
      "Using 16 files for validation.\n"
     ]
    }
   ],
   "execution_count": 14
  },
  {
   "cell_type": "markdown",
   "id": "37d94a40",
   "metadata": {
    "papermill": {
     "duration": 0.016218,
     "end_time": "2024-07-11T08:40:01.180121",
     "exception": false,
     "start_time": "2024-07-11T08:40:01.163903",
     "status": "completed"
    },
    "tags": []
   },
   "source": [
    "Keras hat nun alle Unterverzeichnisse eingelesen. Die Reihenfolge der Klassennamen können wir so ausgeben:"
   ]
  },
  {
   "cell_type": "code",
   "id": "a6bc9e74",
   "metadata": {
    "execution": {
     "iopub.execute_input": "2024-07-11T08:40:01.214106Z",
     "iopub.status.busy": "2024-07-11T08:40:01.213821Z",
     "iopub.status.idle": "2024-07-11T08:40:01.220139Z",
     "shell.execute_reply": "2024-07-11T08:40:01.219136Z"
    },
    "papermill": {
     "duration": 0.025565,
     "end_time": "2024-07-11T08:40:01.222057",
     "exception": false,
     "start_time": "2024-07-11T08:40:01.196492",
     "status": "completed"
    },
    "tags": [],
    "ExecuteTime": {
     "end_time": "2024-12-30T10:04:05.187834Z",
     "start_time": "2024-12-30T10:04:05.185777Z"
    }
   },
   "source": [
    "class_names = train_ds.class_names\n",
    "class_names"
   ],
   "outputs": [
    {
     "data": {
      "text/plain": [
       "['fork-big', 'knife-big', 'spoon-big']"
      ]
     },
     "execution_count": 15,
     "metadata": {},
     "output_type": "execute_result"
    }
   ],
   "execution_count": 15
  },
  {
   "cell_type": "markdown",
   "id": "781bc2e5",
   "metadata": {
    "papermill": {
     "duration": 0.016362,
     "end_time": "2024-07-11T08:40:01.254869",
     "exception": false,
     "start_time": "2024-07-11T08:40:01.238507",
     "status": "completed"
    },
    "tags": []
   },
   "source": [
    "Unser Modell wird später einfach nur z.B. \"Klasse 3\" ausspucken. Dies bedeutet dann, dass ein Bild der Klasse vorliegt, welche den namen des 4. Eintrags in obiger Liste hat.  \n",
    "\n",
    "Schauen wir uns ein paar Trainingsbilder an! Wenn Sie denken ,dass diese Bilder für das neuronale Netz eine zu geringe Auflösung haben, als dass etwas erkannt werden könnte: dann kann weiter oben der Wert der Variablen image_size angepasst werden. `image_size=(64,64)` sollte aber meist ausreichen."
   ]
  },
  {
   "cell_type": "code",
   "id": "2d521127",
   "metadata": {
    "execution": {
     "iopub.execute_input": "2024-07-11T08:40:01.289166Z",
     "iopub.status.busy": "2024-07-11T08:40:01.288896Z",
     "iopub.status.idle": "2024-07-11T08:40:01.862455Z",
     "shell.execute_reply": "2024-07-11T08:40:01.861657Z"
    },
    "papermill": {
     "duration": 0.593716,
     "end_time": "2024-07-11T08:40:01.865132",
     "exception": false,
     "start_time": "2024-07-11T08:40:01.271416",
     "status": "completed"
    },
    "tags": [],
    "ExecuteTime": {
     "end_time": "2024-12-30T10:04:05.376356Z",
     "start_time": "2024-12-30T10:04:05.194207Z"
    }
   },
   "source": [
    "import matplotlib.pyplot as plt\n",
    "\n",
    "plt.figure(figsize=(10, 10))\n",
    "for images, labels in train_ds.take(1):\n",
    "    for i in range(5):\n",
    "        ax = plt.subplot(3, 2, i + 1)\n",
    "        im = images[i].numpy().astype(\"uint8\")\n",
    "        plt.imshow(im)\n",
    "        plt.title(class_names[labels[i]])\n",
    "        plt.axis(\"off\")"
   ],
   "outputs": [
    {
     "data": {
      "text/plain": [
       "<Figure size 1000x1000 with 5 Axes>"
      ],
      "image/png": "[encoded data removed]"
     },
     "metadata": {},
     "output_type": "display_data"
    }
   ],
   "execution_count": 16
  },
  {
   "cell_type": "markdown",
   "id": "fcc4bec9",
   "metadata": {
    "papermill": {
     "duration": 0.017413,
     "end_time": "2024-07-11T08:40:01.900519",
     "exception": false,
     "start_time": "2024-07-11T08:40:01.883106",
     "status": "completed"
    },
    "tags": []
   },
   "source": [
    "Die folgende Zelle versucht, die Hardware gut auszulasten. Es gäbe [viel dazu zu sagen](https://www.tensorflow.org/guide/data_performance), aber sagen wir einfach, dass die Daten für einen raschen Zugriff vorbereitet werden:"
   ]
  },
  {
   "cell_type": "code",
   "id": "2070a48e",
   "metadata": {
    "execution": {
     "iopub.execute_input": "2024-07-11T08:40:01.936862Z",
     "iopub.status.busy": "2024-07-11T08:40:01.936546Z",
     "iopub.status.idle": "2024-07-11T08:40:01.950409Z",
     "shell.execute_reply": "2024-07-11T08:40:01.949740Z"
    },
    "papermill": {
     "duration": 0.03434,
     "end_time": "2024-07-11T08:40:01.952297",
     "exception": false,
     "start_time": "2024-07-11T08:40:01.917957",
     "status": "completed"
    },
    "tags": [],
    "ExecuteTime": {
     "end_time": "2024-12-30T10:04:05.387367Z",
     "start_time": "2024-12-30T10:04:05.380270Z"
    }
   },
   "source": [
    "train_ds = train_ds.cache().shuffle(100).prefetch(buffer_size=tf.data.AUTOTUNE)\n",
    "val_ds = val_ds.cache().prefetch(buffer_size=tf.data.AUTOTUNE)"
   ],
   "outputs": [],
   "execution_count": 17
  },
  {
   "cell_type": "markdown",
   "id": "380e22f1",
   "metadata": {
    "papermill": {
     "duration": 0.017347,
     "end_time": "2024-07-11T08:40:01.987568",
     "exception": false,
     "start_time": "2024-07-11T08:40:01.970221",
     "status": "completed"
    },
    "tags": []
   },
   "source": [
    "Nun definieren wir unser Modell! Hier können Sie Schichten von Neuronalen Netzen hinzufügen, die Aktivierungsfunktionen verändern und vieles mehr. Wichtig ist, dass `num_classes` stimmt, die Anzahl der Klassen und gleichzeitig die Anzahl Neuronen in der letzten (Ausgabe-)Schicht. Und natürlich die Grösse des Eingabebildes, `image_size`. "
   ]
  },
  {
   "cell_type": "code",
   "id": "296aba71",
   "metadata": {
    "execution": {
     "iopub.execute_input": "2024-07-11T08:40:02.023883Z",
     "iopub.status.busy": "2024-07-11T08:40:02.023560Z",
     "iopub.status.idle": "2024-07-11T08:40:02.141438Z",
     "shell.execute_reply": "2024-07-11T08:40:02.140566Z"
    },
    "papermill": {
     "duration": 0.138213,
     "end_time": "2024-07-11T08:40:02.143305",
     "exception": false,
     "start_time": "2024-07-11T08:40:02.005092",
     "status": "completed"
    },
    "tags": [],
    "ExecuteTime": {
     "end_time": "2024-12-30T10:04:05.463563Z",
     "start_time": "2024-12-30T10:04:05.394584Z"
    }
   },
   "source": [
    "#functional API (https://keras.io/guides/functional_api/):\n",
    "num_classes = len(class_names)\n",
    "color_image_size=(*image_size,3)\n",
    "def make_model():\n",
    "    img_inputs = tf.keras.Input(shape=color_image_size,name='Eingabe')\n",
    "\n",
    "    # Datenvorverarbeitung und Augmentierung\n",
    "    x = layers.Rescaling(1./255, input_shape=color_image_size)(img_inputs)\n",
    "    x = layers.RandomFlip(\"horizontal\")(x)\n",
    "    x = layers.RandomRotation(0.1)(x)  # Kleinere Drehung realistischer für Besteck\n",
    "    \n",
    "    # Convolutional Layers mit erhöhter Komplexität\n",
    "    x = layers.Conv2D(32, (5, 5), padding='same', activation='relu')(x)  \n",
    "    x = layers.MaxPooling2D(pool_size=(2, 2))(x)\n",
    "    x = layers.Conv2D(64, (3, 3), padding='same', activation='relu')(x)\n",
    "    x = layers.MaxPooling2D(pool_size=(2, 2))(x)\n",
    "    x = layers.Conv2D(128, (3, 3), padding='same', activation='relu')(x)\n",
    "    x = layers.MaxPooling2D(pool_size=(2, 2))(x)\n",
    "    x = layers.Conv2D(256, (3, 3), padding='same', activation='relu')(x)\n",
    "    x = layers.MaxPooling2D(pool_size=(2, 2))(x)\n",
    "    \n",
    "    # Regularisierung\n",
    "    x = layers.Dropout(0.3)(x)  # Dropout für Convolutional Layers\n",
    "    \n",
    "    # Übergang zu Dense Layers\n",
    "    x = layers.Flatten()(x)\n",
    "    x = layers.Dense(256, activation='relu', kernel_regularizer=tf.keras.regularizers.l2(0.01))(x)\n",
    "    x = layers.Dropout(0.5)(x)  # Dropout für Fully-Connected Layer\n",
    "    x = layers.Dense(128, activation='relu', kernel_regularizer=tf.keras.regularizers.l2(0.01))(x)\n",
    "\n",
    "    outputs = layers.Dense(num_classes,name='Ausgabe',activation='softmax')(x)\n",
    "    \n",
    "    model = tf.keras.Model(inputs=img_inputs,outputs=outputs,name='Conv-Model-Standard') #Geben Sie Ihrem Modell doch einen hübschen, wiedererkennbaren Namen!\n",
    "    return model \n",
    "\n",
    "model = make_model()\n",
    "\n",
    "model.summary()"
   ],
   "outputs": [
    {
     "name": "stderr",
     "output_type": "stream",
     "text": [
      "/Users/jan/Documents/venv/lib/python3.12/site-packages/keras/src/layers/preprocessing/tf_data_layer.py:19: UserWarning: Do not pass an `input_shape`/`input_dim` argument to a layer. When using Sequential models, prefer using an `Input(shape)` object as the first layer in the model instead.\n",
      "  super().__init__(**kwargs)\n"
     ]
    },
    {
     "data": {
      "text/plain": [
       "\u001B[1mModel: \"Conv-Model-Standard\"\u001B[0m\n"
      ],
      "text/html": [
       "<pre style=\"white-space:pre;overflow-x:auto;line-height:normal;font-family:Menlo,'DejaVu Sans Mono',consolas,'Courier New',monospace\"><span style=\"font-weight: bold\">Model: \"Conv-Model-Standard\"</span>\n",
       "</pre>\n"
      ]
     },
     "metadata": {},
     "output_type": "display_data"
    },
    {
     "data": {
      "text/plain": [
       "┏━━━━━━━━━━━━━━━━━━━━━━━━━━━━━━━━━┳━━━━━━━━━━━━━━━━━━━━━━━━┳━━━━━━━━━━━━━━━┓\n",
       "┃\u001B[1m \u001B[0m\u001B[1mLayer (type)                   \u001B[0m\u001B[1m \u001B[0m┃\u001B[1m \u001B[0m\u001B[1mOutput Shape          \u001B[0m\u001B[1m \u001B[0m┃\u001B[1m \u001B[0m\u001B[1m      Param #\u001B[0m\u001B[1m \u001B[0m┃\n",
       "┡━━━━━━━━━━━━━━━━━━━━━━━━━━━━━━━━━╇━━━━━━━━━━━━━━━━━━━━━━━━╇━━━━━━━━━━━━━━━┩\n",
       "│ Eingabe (\u001B[38;5;33mInputLayer\u001B[0m)            │ (\u001B[38;5;45mNone\u001B[0m, \u001B[38;5;34m64\u001B[0m, \u001B[38;5;34m64\u001B[0m, \u001B[38;5;34m3\u001B[0m)      │             \u001B[38;5;34m0\u001B[0m │\n",
       "├─────────────────────────────────┼────────────────────────┼───────────────┤\n",
       "│ rescaling (\u001B[38;5;33mRescaling\u001B[0m)           │ (\u001B[38;5;45mNone\u001B[0m, \u001B[38;5;34m64\u001B[0m, \u001B[38;5;34m64\u001B[0m, \u001B[38;5;34m3\u001B[0m)      │             \u001B[38;5;34m0\u001B[0m │\n",
       "├─────────────────────────────────┼────────────────────────┼───────────────┤\n",
       "│ random_flip (\u001B[38;5;33mRandomFlip\u001B[0m)        │ (\u001B[38;5;45mNone\u001B[0m, \u001B[38;5;34m64\u001B[0m, \u001B[38;5;34m64\u001B[0m, \u001B[38;5;34m3\u001B[0m)      │             \u001B[38;5;34m0\u001B[0m │\n",
       "├─────────────────────────────────┼────────────────────────┼───────────────┤\n",
       "│ random_rotation                 │ (\u001B[38;5;45mNone\u001B[0m, \u001B[38;5;34m64\u001B[0m, \u001B[38;5;34m64\u001B[0m, \u001B[38;5;34m3\u001B[0m)      │             \u001B[38;5;34m0\u001B[0m │\n",
       "│ (\u001B[38;5;33mRandomRotation\u001B[0m)                │                        │               │\n",
       "├─────────────────────────────────┼────────────────────────┼───────────────┤\n",
       "│ conv2d (\u001B[38;5;33mConv2D\u001B[0m)                 │ (\u001B[38;5;45mNone\u001B[0m, \u001B[38;5;34m64\u001B[0m, \u001B[38;5;34m64\u001B[0m, \u001B[38;5;34m32\u001B[0m)     │         \u001B[38;5;34m2,432\u001B[0m │\n",
       "├─────────────────────────────────┼────────────────────────┼───────────────┤\n",
       "│ max_pooling2d (\u001B[38;5;33mMaxPooling2D\u001B[0m)    │ (\u001B[38;5;45mNone\u001B[0m, \u001B[38;5;34m32\u001B[0m, \u001B[38;5;34m32\u001B[0m, \u001B[38;5;34m32\u001B[0m)     │             \u001B[38;5;34m0\u001B[0m │\n",
       "├─────────────────────────────────┼────────────────────────┼───────────────┤\n",
       "│ conv2d_1 (\u001B[38;5;33mConv2D\u001B[0m)               │ (\u001B[38;5;45mNone\u001B[0m, \u001B[38;5;34m32\u001B[0m, \u001B[38;5;34m32\u001B[0m, \u001B[38;5;34m64\u001B[0m)     │        \u001B[38;5;34m18,496\u001B[0m │\n",
       "├─────────────────────────────────┼────────────────────────┼───────────────┤\n",
       "│ max_pooling2d_1 (\u001B[38;5;33mMaxPooling2D\u001B[0m)  │ (\u001B[38;5;45mNone\u001B[0m, \u001B[38;5;34m16\u001B[0m, \u001B[38;5;34m16\u001B[0m, \u001B[38;5;34m64\u001B[0m)     │             \u001B[38;5;34m0\u001B[0m │\n",
       "├─────────────────────────────────┼────────────────────────┼───────────────┤\n",
       "│ conv2d_2 (\u001B[38;5;33mConv2D\u001B[0m)               │ (\u001B[38;5;45mNone\u001B[0m, \u001B[38;5;34m16\u001B[0m, \u001B[38;5;34m16\u001B[0m, \u001B[38;5;34m128\u001B[0m)    │        \u001B[38;5;34m73,856\u001B[0m │\n",
       "├─────────────────────────────────┼────────────────────────┼───────────────┤\n",
       "│ max_pooling2d_2 (\u001B[38;5;33mMaxPooling2D\u001B[0m)  │ (\u001B[38;5;45mNone\u001B[0m, \u001B[38;5;34m8\u001B[0m, \u001B[38;5;34m8\u001B[0m, \u001B[38;5;34m128\u001B[0m)      │             \u001B[38;5;34m0\u001B[0m │\n",
       "├─────────────────────────────────┼────────────────────────┼───────────────┤\n",
       "│ conv2d_3 (\u001B[38;5;33mConv2D\u001B[0m)               │ (\u001B[38;5;45mNone\u001B[0m, \u001B[38;5;34m8\u001B[0m, \u001B[38;5;34m8\u001B[0m, \u001B[38;5;34m256\u001B[0m)      │       \u001B[38;5;34m295,168\u001B[0m │\n",
       "├─────────────────────────────────┼────────────────────────┼───────────────┤\n",
       "│ max_pooling2d_3 (\u001B[38;5;33mMaxPooling2D\u001B[0m)  │ (\u001B[38;5;45mNone\u001B[0m, \u001B[38;5;34m4\u001B[0m, \u001B[38;5;34m4\u001B[0m, \u001B[38;5;34m256\u001B[0m)      │             \u001B[38;5;34m0\u001B[0m │\n",
       "├─────────────────────────────────┼────────────────────────┼───────────────┤\n",
       "│ dropout (\u001B[38;5;33mDropout\u001B[0m)               │ (\u001B[38;5;45mNone\u001B[0m, \u001B[38;5;34m4\u001B[0m, \u001B[38;5;34m4\u001B[0m, \u001B[38;5;34m256\u001B[0m)      │             \u001B[38;5;34m0\u001B[0m │\n",
       "├─────────────────────────────────┼────────────────────────┼───────────────┤\n",
       "│ flatten (\u001B[38;5;33mFlatten\u001B[0m)               │ (\u001B[38;5;45mNone\u001B[0m, \u001B[38;5;34m4096\u001B[0m)           │             \u001B[38;5;34m0\u001B[0m │\n",
       "├─────────────────────────────────┼────────────────────────┼───────────────┤\n",
       "│ dense (\u001B[38;5;33mDense\u001B[0m)                   │ (\u001B[38;5;45mNone\u001B[0m, \u001B[38;5;34m256\u001B[0m)            │     \u001B[38;5;34m1,048,832\u001B[0m │\n",
       "├─────────────────────────────────┼────────────────────────┼───────────────┤\n",
       "│ dropout_1 (\u001B[38;5;33mDropout\u001B[0m)             │ (\u001B[38;5;45mNone\u001B[0m, \u001B[38;5;34m256\u001B[0m)            │             \u001B[38;5;34m0\u001B[0m │\n",
       "├─────────────────────────────────┼────────────────────────┼───────────────┤\n",
       "│ dense_1 (\u001B[38;5;33mDense\u001B[0m)                 │ (\u001B[38;5;45mNone\u001B[0m, \u001B[38;5;34m128\u001B[0m)            │        \u001B[38;5;34m32,896\u001B[0m │\n",
       "├─────────────────────────────────┼────────────────────────┼───────────────┤\n",
       "│ Ausgabe (\u001B[38;5;33mDense\u001B[0m)                 │ (\u001B[38;5;45mNone\u001B[0m, \u001B[38;5;34m3\u001B[0m)              │           \u001B[38;5;34m387\u001B[0m │\n",
       "└─────────────────────────────────┴────────────────────────┴───────────────┘\n"
      ],
      "text/html": [
       "<pre style=\"white-space:pre;overflow-x:auto;line-height:normal;font-family:Menlo,'DejaVu Sans Mono',consolas,'Courier New',monospace\">┏━━━━━━━━━━━━━━━━━━━━━━━━━━━━━━━━━┳━━━━━━━━━━━━━━━━━━━━━━━━┳━━━━━━━━━━━━━━━┓\n",
       "┃<span style=\"font-weight: bold\"> Layer (type)                    </span>┃<span style=\"font-weight: bold\"> Output Shape           </span>┃<span style=\"font-weight: bold\">       Param # </span>┃\n",
       "┡━━━━━━━━━━━━━━━━━━━━━━━━━━━━━━━━━╇━━━━━━━━━━━━━━━━━━━━━━━━╇━━━━━━━━━━━━━━━┩\n",
       "│ Eingabe (<span style=\"color: #0087ff; text-decoration-color: #0087ff\">InputLayer</span>)            │ (<span style=\"color: #00d7ff; text-decoration-color: #00d7ff\">None</span>, <span style=\"color: #00af00; text-decoration-color: #00af00\">64</span>, <span style=\"color: #00af00; text-decoration-color: #00af00\">64</span>, <span style=\"color: #00af00; text-decoration-color: #00af00\">3</span>)      │             <span style=\"color: #00af00; text-decoration-color: #00af00\">0</span> │\n",
       "├─────────────────────────────────┼────────────────────────┼───────────────┤\n",
       "│ rescaling (<span style=\"color: #0087ff; text-decoration-color: #0087ff\">Rescaling</span>)           │ (<span style=\"color: #00d7ff; text-decoration-color: #00d7ff\">None</span>, <span style=\"color: #00af00; text-decoration-color: #00af00\">64</span>, <span style=\"color: #00af00; text-decoration-color: #00af00\">64</span>, <span style=\"color: #00af00; text-decoration-color: #00af00\">3</span>)      │             <span style=\"color: #00af00; text-decoration-color: #00af00\">0</span> │\n",
       "├─────────────────────────────────┼────────────────────────┼───────────────┤\n",
       "│ random_flip (<span style=\"color: #0087ff; text-decoration-color: #0087ff\">RandomFlip</span>)        │ (<span style=\"color: #00d7ff; text-decoration-color: #00d7ff\">None</span>, <span style=\"color: #00af00; text-decoration-color: #00af00\">64</span>, <span style=\"color: #00af00; text-decoration-color: #00af00\">64</span>, <span style=\"color: #00af00; text-decoration-color: #00af00\">3</span>)      │             <span style=\"color: #00af00; text-decoration-color: #00af00\">0</span> │\n",
       "├─────────────────────────────────┼────────────────────────┼───────────────┤\n",
       "│ random_rotation                 │ (<span style=\"color: #00d7ff; text-decoration-color: #00d7ff\">None</span>, <span style=\"color: #00af00; text-decoration-color: #00af00\">64</span>, <span style=\"color: #00af00; text-decoration-color: #00af00\">64</span>, <span style=\"color: #00af00; text-decoration-color: #00af00\">3</span>)      │             <span style=\"color: #00af00; text-decoration-color: #00af00\">0</span> │\n",
       "│ (<span style=\"color: #0087ff; text-decoration-color: #0087ff\">RandomRotation</span>)                │                        │               │\n",
       "├─────────────────────────────────┼────────────────────────┼───────────────┤\n",
       "│ conv2d (<span style=\"color: #0087ff; text-decoration-color: #0087ff\">Conv2D</span>)                 │ (<span style=\"color: #00d7ff; text-decoration-color: #00d7ff\">None</span>, <span style=\"color: #00af00; text-decoration-color: #00af00\">64</span>, <span style=\"color: #00af00; text-decoration-color: #00af00\">64</span>, <span style=\"color: #00af00; text-decoration-color: #00af00\">32</span>)     │         <span style=\"color: #00af00; text-decoration-color: #00af00\">2,432</span> │\n",
       "├─────────────────────────────────┼────────────────────────┼───────────────┤\n",
       "│ max_pooling2d (<span style=\"color: #0087ff; text-decoration-color: #0087ff\">MaxPooling2D</span>)    │ (<span style=\"color: #00d7ff; text-decoration-color: #00d7ff\">None</span>, <span style=\"color: #00af00; text-decoration-color: #00af00\">32</span>, <span style=\"color: #00af00; text-decoration-color: #00af00\">32</span>, <span style=\"color: #00af00; text-decoration-color: #00af00\">32</span>)     │             <span style=\"color: #00af00; text-decoration-color: #00af00\">0</span> │\n",
       "├─────────────────────────────────┼────────────────────────┼───────────────┤\n",
       "│ conv2d_1 (<span style=\"color: #0087ff; text-decoration-color: #0087ff\">Conv2D</span>)               │ (<span style=\"color: #00d7ff; text-decoration-color: #00d7ff\">None</span>, <span style=\"color: #00af00; text-decoration-color: #00af00\">32</span>, <span style=\"color: #00af00; text-decoration-color: #00af00\">32</span>, <span style=\"color: #00af00; text-decoration-color: #00af00\">64</span>)     │        <span style=\"color: #00af00; text-decoration-color: #00af00\">18,496</span> │\n",
       "├─────────────────────────────────┼────────────────────────┼───────────────┤\n",
       "│ max_pooling2d_1 (<span style=\"color: #0087ff; text-decoration-color: #0087ff\">MaxPooling2D</span>)  │ (<span style=\"color: #00d7ff; text-decoration-color: #00d7ff\">None</span>, <span style=\"color: #00af00; text-decoration-color: #00af00\">16</span>, <span style=\"color: #00af00; text-decoration-color: #00af00\">16</span>, <span style=\"color: #00af00; text-decoration-color: #00af00\">64</span>)     │             <span style=\"color: #00af00; text-decoration-color: #00af00\">0</span> │\n",
       "├─────────────────────────────────┼────────────────────────┼───────────────┤\n",
       "│ conv2d_2 (<span style=\"color: #0087ff; text-decoration-color: #0087ff\">Conv2D</span>)               │ (<span style=\"color: #00d7ff; text-decoration-color: #00d7ff\">None</span>, <span style=\"color: #00af00; text-decoration-color: #00af00\">16</span>, <span style=\"color: #00af00; text-decoration-color: #00af00\">16</span>, <span style=\"color: #00af00; text-decoration-color: #00af00\">128</span>)    │        <span style=\"color: #00af00; text-decoration-color: #00af00\">73,856</span> │\n",
       "├─────────────────────────────────┼────────────────────────┼───────────────┤\n",
       "│ max_pooling2d_2 (<span style=\"color: #0087ff; text-decoration-color: #0087ff\">MaxPooling2D</span>)  │ (<span style=\"color: #00d7ff; text-decoration-color: #00d7ff\">None</span>, <span style=\"color: #00af00; text-decoration-color: #00af00\">8</span>, <span style=\"color: #00af00; text-decoration-color: #00af00\">8</span>, <span style=\"color: #00af00; text-decoration-color: #00af00\">128</span>)      │             <span style=\"color: #00af00; text-decoration-color: #00af00\">0</span> │\n",
       "├─────────────────────────────────┼────────────────────────┼───────────────┤\n",
       "│ conv2d_3 (<span style=\"color: #0087ff; text-decoration-color: #0087ff\">Conv2D</span>)               │ (<span style=\"color: #00d7ff; text-decoration-color: #00d7ff\">None</span>, <span style=\"color: #00af00; text-decoration-color: #00af00\">8</span>, <span style=\"color: #00af00; text-decoration-color: #00af00\">8</span>, <span style=\"color: #00af00; text-decoration-color: #00af00\">256</span>)      │       <span style=\"color: #00af00; text-decoration-color: #00af00\">295,168</span> │\n",
       "├─────────────────────────────────┼────────────────────────┼───────────────┤\n",
       "│ max_pooling2d_3 (<span style=\"color: #0087ff; text-decoration-color: #0087ff\">MaxPooling2D</span>)  │ (<span style=\"color: #00d7ff; text-decoration-color: #00d7ff\">None</span>, <span style=\"color: #00af00; text-decoration-color: #00af00\">4</span>, <span style=\"color: #00af00; text-decoration-color: #00af00\">4</span>, <span style=\"color: #00af00; text-decoration-color: #00af00\">256</span>)      │             <span style=\"color: #00af00; text-decoration-color: #00af00\">0</span> │\n",
       "├─────────────────────────────────┼────────────────────────┼───────────────┤\n",
       "│ dropout (<span style=\"color: #0087ff; text-decoration-color: #0087ff\">Dropout</span>)               │ (<span style=\"color: #00d7ff; text-decoration-color: #00d7ff\">None</span>, <span style=\"color: #00af00; text-decoration-color: #00af00\">4</span>, <span style=\"color: #00af00; text-decoration-color: #00af00\">4</span>, <span style=\"color: #00af00; text-decoration-color: #00af00\">256</span>)      │             <span style=\"color: #00af00; text-decoration-color: #00af00\">0</span> │\n",
       "├─────────────────────────────────┼────────────────────────┼───────────────┤\n",
       "│ flatten (<span style=\"color: #0087ff; text-decoration-color: #0087ff\">Flatten</span>)               │ (<span style=\"color: #00d7ff; text-decoration-color: #00d7ff\">None</span>, <span style=\"color: #00af00; text-decoration-color: #00af00\">4096</span>)           │             <span style=\"color: #00af00; text-decoration-color: #00af00\">0</span> │\n",
       "├─────────────────────────────────┼────────────────────────┼───────────────┤\n",
       "│ dense (<span style=\"color: #0087ff; text-decoration-color: #0087ff\">Dense</span>)                   │ (<span style=\"color: #00d7ff; text-decoration-color: #00d7ff\">None</span>, <span style=\"color: #00af00; text-decoration-color: #00af00\">256</span>)            │     <span style=\"color: #00af00; text-decoration-color: #00af00\">1,048,832</span> │\n",
       "├─────────────────────────────────┼────────────────────────┼───────────────┤\n",
       "│ dropout_1 (<span style=\"color: #0087ff; text-decoration-color: #0087ff\">Dropout</span>)             │ (<span style=\"color: #00d7ff; text-decoration-color: #00d7ff\">None</span>, <span style=\"color: #00af00; text-decoration-color: #00af00\">256</span>)            │             <span style=\"color: #00af00; text-decoration-color: #00af00\">0</span> │\n",
       "├─────────────────────────────────┼────────────────────────┼───────────────┤\n",
       "│ dense_1 (<span style=\"color: #0087ff; text-decoration-color: #0087ff\">Dense</span>)                 │ (<span style=\"color: #00d7ff; text-decoration-color: #00d7ff\">None</span>, <span style=\"color: #00af00; text-decoration-color: #00af00\">128</span>)            │        <span style=\"color: #00af00; text-decoration-color: #00af00\">32,896</span> │\n",
       "├─────────────────────────────────┼────────────────────────┼───────────────┤\n",
       "│ Ausgabe (<span style=\"color: #0087ff; text-decoration-color: #0087ff\">Dense</span>)                 │ (<span style=\"color: #00d7ff; text-decoration-color: #00d7ff\">None</span>, <span style=\"color: #00af00; text-decoration-color: #00af00\">3</span>)              │           <span style=\"color: #00af00; text-decoration-color: #00af00\">387</span> │\n",
       "└─────────────────────────────────┴────────────────────────┴───────────────┘\n",
       "</pre>\n"
      ]
     },
     "metadata": {},
     "output_type": "display_data"
    },
    {
     "data": {
      "text/plain": [
       "\u001B[1m Total params: \u001B[0m\u001B[38;5;34m1,472,067\u001B[0m (5.62 MB)\n"
      ],
      "text/html": [
       "<pre style=\"white-space:pre;overflow-x:auto;line-height:normal;font-family:Menlo,'DejaVu Sans Mono',consolas,'Courier New',monospace\"><span style=\"font-weight: bold\"> Total params: </span><span style=\"color: #00af00; text-decoration-color: #00af00\">1,472,067</span> (5.62 MB)\n",
       "</pre>\n"
      ]
     },
     "metadata": {},
     "output_type": "display_data"
    },
    {
     "data": {
      "text/plain": [
       "\u001B[1m Trainable params: \u001B[0m\u001B[38;5;34m1,472,067\u001B[0m (5.62 MB)\n"
      ],
      "text/html": [
       "<pre style=\"white-space:pre;overflow-x:auto;line-height:normal;font-family:Menlo,'DejaVu Sans Mono',consolas,'Courier New',monospace\"><span style=\"font-weight: bold\"> Trainable params: </span><span style=\"color: #00af00; text-decoration-color: #00af00\">1,472,067</span> (5.62 MB)\n",
       "</pre>\n"
      ]
     },
     "metadata": {},
     "output_type": "display_data"
    },
    {
     "data": {
      "text/plain": [
       "\u001B[1m Non-trainable params: \u001B[0m\u001B[38;5;34m0\u001B[0m (0.00 B)\n"
      ],
      "text/html": [
       "<pre style=\"white-space:pre;overflow-x:auto;line-height:normal;font-family:Menlo,'DejaVu Sans Mono',consolas,'Courier New',monospace\"><span style=\"font-weight: bold\"> Non-trainable params: </span><span style=\"color: #00af00; text-decoration-color: #00af00\">0</span> (0.00 B)\n",
       "</pre>\n"
      ]
     },
     "metadata": {},
     "output_type": "display_data"
    }
   ],
   "execution_count": 18
  },
  {
   "cell_type": "markdown",
   "id": "09f38ee0",
   "metadata": {
    "papermill": {
     "duration": 0.018362,
     "end_time": "2024-07-11T08:40:02.180410",
     "exception": false,
     "start_time": "2024-07-11T08:40:02.162048",
     "status": "completed"
    },
    "tags": []
   },
   "source": [
    "Kompilieren des Modells heisst, dass der Gradientenabstieg und das Lernverfahren spezifiziert werden, und der low-level Code vorbereitet wird, welcher dann später die Hauptarbeit leistet. "
   ]
  },
  {
   "cell_type": "code",
   "id": "f62d7b01",
   "metadata": {
    "execution": {
     "iopub.execute_input": "2024-07-11T08:40:02.218675Z",
     "iopub.status.busy": "2024-07-11T08:40:02.218373Z",
     "iopub.status.idle": "2024-07-11T08:40:02.230396Z",
     "shell.execute_reply": "2024-07-11T08:40:02.229493Z"
    },
    "papermill": {
     "duration": 0.033381,
     "end_time": "2024-07-11T08:40:02.232383",
     "exception": false,
     "start_time": "2024-07-11T08:40:02.199002",
     "status": "completed"
    },
    "tags": [],
    "ExecuteTime": {
     "end_time": "2024-12-30T10:04:05.472492Z",
     "start_time": "2024-12-30T10:04:05.466482Z"
    }
   },
   "source": [
    "model.compile(optimizer='adam',\n",
    "              loss=tf.keras.losses.SparseCategoricalCrossentropy(from_logits=False),\n",
    "              metrics=['accuracy'])"
   ],
   "outputs": [],
   "execution_count": 19
  },
  {
   "cell_type": "markdown",
   "id": "1e860dba",
   "metadata": {
    "papermill": {
     "duration": 0.018549,
     "end_time": "2024-07-11T08:40:02.269431",
     "exception": false,
     "start_time": "2024-07-11T08:40:02.250882",
     "status": "completed"
    },
    "tags": []
   },
   "source": [
    "Es ist immer gut zu verstehen, was während des Trainings passiert- und allenfalls im richtigen Moment zu reagieren. Tensorboard ist eine Web-Applikation, mit der Sie den Trainingsfortschritt verfolgen können. EarlyStopping ist ein Callback, der genau das tut: Er unterbricht das Training, sobald sich die gemonitorte Grösse (hier die Validierungsgenauigkeit) nicht mehr verbessert."
   ]
  },
  {
   "cell_type": "code",
   "id": "ce3d1348",
   "metadata": {
    "execution": {
     "iopub.execute_input": "2024-07-11T08:40:02.307535Z",
     "iopub.status.busy": "2024-07-11T08:40:02.307265Z",
     "iopub.status.idle": "2024-07-11T08:40:02.311573Z",
     "shell.execute_reply": "2024-07-11T08:40:02.310754Z"
    },
    "papermill": {
     "duration": 0.025598,
     "end_time": "2024-07-11T08:40:02.313554",
     "exception": false,
     "start_time": "2024-07-11T08:40:02.287956",
     "status": "completed"
    },
    "tags": [],
    "ExecuteTime": {
     "end_time": "2024-12-30T10:04:05.550528Z",
     "start_time": "2024-12-30T10:04:05.548703Z"
    }
   },
   "source": [
    "early_stopping_callback = tf.keras.callbacks.EarlyStopping(monitor='val_accuracy',patience=200) #patience = 0? patience = 40? patience=200? \n",
    "lr_schedule = tf.keras.callbacks.ReduceLROnPlateau(\n",
    "    monitor='val_loss', factor=0.5, patience=10, min_lr=1e-6\n",
    ")"
   ],
   "outputs": [],
   "execution_count": 20
  },
  {
   "cell_type": "markdown",
   "id": "dc9624bd",
   "metadata": {
    "papermill": {
     "duration": 0.018439,
     "end_time": "2024-07-11T08:40:02.350555",
     "exception": false,
     "start_time": "2024-07-11T08:40:02.332116",
     "status": "completed"
    },
    "tags": []
   },
   "source": [
    "Und...**LOS GEHT'S!** Je nach Grösse des Trainingsdatensatzes kann die nächste Zeile länger dauern. Die Anzahl Epochen kann auch limitiert werden. Stellen Sie sie vorerst so ein, dass Sie sich das Warten *leisten* können. Ev. ist es besser, vorerst mal ein sehr schlechtes Modell zu erzeugen- einfach um zu sehen, ob der Rest des Codes auch wirklich funktioniert."
   ]
  },
  {
   "cell_type": "code",
   "id": "32ec5ee4",
   "metadata": {
    "execution": {
     "iopub.execute_input": "2024-07-11T08:40:02.389004Z",
     "iopub.status.busy": "2024-07-11T08:40:02.388754Z",
     "iopub.status.idle": "2024-07-11T08:40:16.783695Z",
     "shell.execute_reply": "2024-07-11T08:40:16.782928Z"
    },
    "papermill": {
     "duration": 14.416311,
     "end_time": "2024-07-11T08:40:16.785674",
     "exception": false,
     "start_time": "2024-07-11T08:40:02.369363",
     "status": "completed"
    },
    "tags": [],
    "ExecuteTime": {
     "end_time": "2024-12-30T10:04:45.162103Z",
     "start_time": "2024-12-30T10:04:05.551379Z"
    }
   },
   "source": [
    "epochs=10000\n",
    "history = model.fit(\n",
    "  train_ds,\n",
    "  validation_data=val_ds,\n",
    "  epochs=epochs,\n",
    "  callbacks=[early_stopping_callback,lr_schedule]\n",
    ")"
   ],
   "outputs": [
    {
     "name": "stdout",
     "output_type": "stream",
     "text": [
      "Epoch 1/10000\n",
      "\u001B[1m3/3\u001B[0m \u001B[32m━━━━━━━━━━━━━━━━━━━━\u001B[0m\u001B[37m\u001B[0m \u001B[1m1s\u001B[0m 62ms/step - accuracy: 0.3636 - loss: 7.4849 - val_accuracy: 0.1250 - val_loss: 6.7667 - learning_rate: 0.0010\n",
      "Epoch 2/10000\n",
      "\u001B[1m3/3\u001B[0m \u001B[32m━━━━━━━━━━━━━━━━━━━━\u001B[0m\u001B[37m\u001B[0m \u001B[1m0s\u001B[0m 44ms/step - accuracy: 0.5049 - loss: 6.4278 - val_accuracy: 0.1250 - val_loss: 6.0790 - learning_rate: 0.0010\n",
      "Epoch 3/10000\n",
      "\u001B[1m3/3\u001B[0m \u001B[32m━━━━━━━━━━━━━━━━━━━━\u001B[0m\u001B[37m\u001B[0m \u001B[1m0s\u001B[0m 29ms/step - accuracy: 0.4079 - loss: 5.8691 - val_accuracy: 0.5000 - val_loss: 5.3518 - learning_rate: 0.0010\n",
      "Epoch 4/10000\n",
      "\u001B[1m3/3\u001B[0m \u001B[32m━━━━━━━━━━━━━━━━━━━━\u001B[0m\u001B[37m\u001B[0m \u001B[1m0s\u001B[0m 45ms/step - accuracy: 0.1798 - loss: 5.4009 - val_accuracy: 0.1875 - val_loss: 4.8205 - learning_rate: 0.0010\n",
      "Epoch 5/10000\n",
      "\u001B[1m3/3\u001B[0m \u001B[32m━━━━━━━━━━━━━━━━━━━━\u001B[0m\u001B[37m\u001B[0m \u001B[1m0s\u001B[0m 30ms/step - accuracy: 0.3790 - loss: 4.7235 - val_accuracy: 0.3750 - val_loss: 4.4014 - learning_rate: 0.0010\n",
      "Epoch 6/10000\n",
      "\u001B[1m3/3\u001B[0m \u001B[32m━━━━━━━━━━━━━━━━━━━━\u001B[0m\u001B[37m\u001B[0m \u001B[1m0s\u001B[0m 29ms/step - accuracy: 0.3181 - loss: 4.3106 - val_accuracy: 0.3125 - val_loss: 4.0349 - learning_rate: 0.0010\n",
      "Epoch 7/10000\n",
      "\u001B[1m3/3\u001B[0m \u001B[32m━━━━━━━━━━━━━━━━━━━━\u001B[0m\u001B[37m\u001B[0m \u001B[1m0s\u001B[0m 29ms/step - accuracy: 0.2423 - loss: 3.9557 - val_accuracy: 0.1875 - val_loss: 3.7208 - learning_rate: 0.0010\n",
      "Epoch 8/10000\n",
      "\u001B[1m3/3\u001B[0m \u001B[32m━━━━━━━━━━━━━━━━━━━━\u001B[0m\u001B[37m\u001B[0m \u001B[1m0s\u001B[0m 32ms/step - accuracy: 0.3153 - loss: 3.6620 - val_accuracy: 0.1250 - val_loss: 3.4540 - learning_rate: 0.0010\n",
      "Epoch 9/10000\n",
      "\u001B[1m3/3\u001B[0m \u001B[32m━━━━━━━━━━━━━━━━━━━━\u001B[0m\u001B[37m\u001B[0m \u001B[1m0s\u001B[0m 49ms/step - accuracy: 0.3050 - loss: 3.3335 - val_accuracy: 0.0625 - val_loss: 3.2382 - learning_rate: 0.0010\n",
      "Epoch 10/10000\n",
      "\u001B[1m3/3\u001B[0m \u001B[32m━━━━━━━━━━━━━━━━━━━━\u001B[0m\u001B[37m\u001B[0m \u001B[1m0s\u001B[0m 49ms/step - accuracy: 0.3050 - loss: 3.1290 - val_accuracy: 0.0625 - val_loss: 3.0574 - learning_rate: 0.0010\n",
      "Epoch 11/10000\n",
      "\u001B[1m3/3\u001B[0m \u001B[32m━━━━━━━━━━━━━━━━━━━━\u001B[0m\u001B[37m\u001B[0m \u001B[1m0s\u001B[0m 33ms/step - accuracy: 0.2878 - loss: 3.0024 - val_accuracy: 0.1250 - val_loss: 2.9018 - learning_rate: 0.0010\n",
      "Epoch 12/10000\n",
      "\u001B[1m3/3\u001B[0m \u001B[32m━━━━━━━━━━━━━━━━━━━━\u001B[0m\u001B[37m\u001B[0m \u001B[1m0s\u001B[0m 34ms/step - accuracy: 0.3484 - loss: 2.8348 - val_accuracy: 0.1250 - val_loss: 2.7738 - learning_rate: 0.0010\n",
      "Epoch 13/10000\n",
      "\u001B[1m3/3\u001B[0m \u001B[32m━━━━━━━━━━━━━━━━━━━━\u001B[0m\u001B[37m\u001B[0m \u001B[1m0s\u001B[0m 31ms/step - accuracy: 0.3310 - loss: 2.7217 - val_accuracy: 0.1250 - val_loss: 2.6596 - learning_rate: 0.0010\n",
      "Epoch 14/10000\n",
      "\u001B[1m3/3\u001B[0m \u001B[32m━━━━━━━━━━━━━━━━━━━━\u001B[0m\u001B[37m\u001B[0m \u001B[1m0s\u001B[0m 44ms/step - accuracy: 0.4022 - loss: 2.5617 - val_accuracy: 0.1250 - val_loss: 2.5693 - learning_rate: 0.0010\n",
      "Epoch 15/10000\n",
      "\u001B[1m3/3\u001B[0m \u001B[32m━━━━━━━━━━━━━━━━━━━━\u001B[0m\u001B[37m\u001B[0m \u001B[1m0s\u001B[0m 45ms/step - accuracy: 0.3877 - loss: 2.4771 - val_accuracy: 0.1250 - val_loss: 2.4766 - learning_rate: 0.0010\n",
      "Epoch 16/10000\n",
      "\u001B[1m3/3\u001B[0m \u001B[32m━━━━━━━━━━━━━━━━━━━━\u001B[0m\u001B[37m\u001B[0m \u001B[1m0s\u001B[0m 30ms/step - accuracy: 0.3305 - loss: 2.4202 - val_accuracy: 0.1250 - val_loss: 2.3860 - learning_rate: 0.0010\n",
      "Epoch 17/10000\n",
      "\u001B[1m3/3\u001B[0m \u001B[32m━━━━━━━━━━━━━━━━━━━━\u001B[0m\u001B[37m\u001B[0m \u001B[1m0s\u001B[0m 46ms/step - accuracy: 0.3728 - loss: 2.3005 - val_accuracy: 0.1250 - val_loss: 2.3115 - learning_rate: 0.0010\n",
      "Epoch 18/10000\n",
      "\u001B[1m3/3\u001B[0m \u001B[32m━━━━━━━━━━━━━━━━━━━━\u001B[0m\u001B[37m\u001B[0m \u001B[1m0s\u001B[0m 33ms/step - accuracy: 0.3617 - loss: 2.2576 - val_accuracy: 0.1250 - val_loss: 2.2406 - learning_rate: 0.0010\n",
      "Epoch 19/10000\n",
      "\u001B[1m3/3\u001B[0m \u001B[32m━━━━━━━━━━━━━━━━━━━━\u001B[0m\u001B[37m\u001B[0m \u001B[1m0s\u001B[0m 46ms/step - accuracy: 0.3728 - loss: 2.1597 - val_accuracy: 0.1250 - val_loss: 2.1843 - learning_rate: 0.0010\n",
      "Epoch 20/10000\n",
      "\u001B[1m3/3\u001B[0m \u001B[32m━━━━━━━━━━━━━━━━━━━━\u001B[0m\u001B[37m\u001B[0m \u001B[1m0s\u001B[0m 30ms/step - accuracy: 0.3810 - loss: 2.1311 - val_accuracy: 0.1250 - val_loss: 2.1277 - learning_rate: 0.0010\n",
      "Epoch 21/10000\n",
      "\u001B[1m3/3\u001B[0m \u001B[32m━━━━━━━━━━━━━━━━━━━━\u001B[0m\u001B[37m\u001B[0m \u001B[1m0s\u001B[0m 44ms/step - accuracy: 0.4022 - loss: 2.0281 - val_accuracy: 0.1250 - val_loss: 2.0912 - learning_rate: 0.0010\n",
      "Epoch 22/10000\n",
      "\u001B[1m3/3\u001B[0m \u001B[32m━━━━━━━━━━━━━━━━━━━━\u001B[0m\u001B[37m\u001B[0m \u001B[1m0s\u001B[0m 44ms/step - accuracy: 0.3728 - loss: 1.9963 - val_accuracy: 0.1250 - val_loss: 2.0558 - learning_rate: 0.0010\n",
      "Epoch 23/10000\n",
      "\u001B[1m3/3\u001B[0m \u001B[32m━━━━━━━━━━━━━━━━━━━━\u001B[0m\u001B[37m\u001B[0m \u001B[1m0s\u001B[0m 30ms/step - accuracy: 0.2953 - loss: 1.9939 - val_accuracy: 0.1250 - val_loss: 2.0000 - learning_rate: 0.0010\n",
      "Epoch 24/10000\n",
      "\u001B[1m3/3\u001B[0m \u001B[32m━━━━━━━━━━━━━━━━━━━━\u001B[0m\u001B[37m\u001B[0m \u001B[1m0s\u001B[0m 45ms/step - accuracy: 0.3873 - loss: 1.8856 - val_accuracy: 0.1250 - val_loss: 1.9582 - learning_rate: 0.0010\n",
      "Epoch 25/10000\n",
      "\u001B[1m3/3\u001B[0m \u001B[32m━━━━━━━━━━━━━━━━━━━━\u001B[0m\u001B[37m\u001B[0m \u001B[1m0s\u001B[0m 48ms/step - accuracy: 0.3873 - loss: 1.8454 - val_accuracy: 0.1250 - val_loss: 1.9195 - learning_rate: 0.0010\n",
      "Epoch 26/10000\n",
      "\u001B[1m3/3\u001B[0m \u001B[32m━━━━━━━━━━━━━━━━━━━━\u001B[0m\u001B[37m\u001B[0m \u001B[1m0s\u001B[0m 32ms/step - accuracy: 0.3195 - loss: 1.8558 - val_accuracy: 0.1250 - val_loss: 1.8681 - learning_rate: 0.0010\n",
      "Epoch 27/10000\n",
      "\u001B[1m3/3\u001B[0m \u001B[32m━━━━━━━━━━━━━━━━━━━━\u001B[0m\u001B[37m\u001B[0m \u001B[1m0s\u001B[0m 49ms/step - accuracy: 0.3801 - loss: 1.7670 - val_accuracy: 0.1250 - val_loss: 1.8421 - learning_rate: 0.0010\n",
      "Epoch 28/10000\n",
      "\u001B[1m3/3\u001B[0m \u001B[32m━━━━━━━━━━━━━━━━━━━━\u001B[0m\u001B[37m\u001B[0m \u001B[1m0s\u001B[0m 33ms/step - accuracy: 0.3408 - loss: 1.7834 - val_accuracy: 0.0625 - val_loss: 1.8224 - learning_rate: 0.0010\n",
      "Epoch 29/10000\n",
      "\u001B[1m3/3\u001B[0m \u001B[32m━━━━━━━━━━━━━━━━━━━━\u001B[0m\u001B[37m\u001B[0m \u001B[1m0s\u001B[0m 34ms/step - accuracy: 0.4580 - loss: 1.7417 - val_accuracy: 0.0625 - val_loss: 1.8129 - learning_rate: 0.0010\n",
      "Epoch 30/10000\n",
      "\u001B[1m3/3\u001B[0m \u001B[32m━━━━━━━━━━━━━━━━━━━━\u001B[0m\u001B[37m\u001B[0m \u001B[1m0s\u001B[0m 50ms/step - accuracy: 0.5573 - loss: 1.6736 - val_accuracy: 0.0625 - val_loss: 1.8815 - learning_rate: 0.0010\n",
      "Epoch 31/10000\n",
      "\u001B[1m3/3\u001B[0m \u001B[32m━━━━━━━━━━━━━━━━━━━━\u001B[0m\u001B[37m\u001B[0m \u001B[1m0s\u001B[0m 50ms/step - accuracy: 0.4895 - loss: 1.6392 - val_accuracy: 0.0625 - val_loss: 1.9441 - learning_rate: 0.0010\n",
      "Epoch 32/10000\n",
      "\u001B[1m3/3\u001B[0m \u001B[32m━━━━━━━━━━━━━━━━━━━━\u001B[0m\u001B[37m\u001B[0m \u001B[1m0s\u001B[0m 50ms/step - accuracy: 0.3353 - loss: 1.6559 - val_accuracy: 0.0625 - val_loss: 1.7638 - learning_rate: 0.0010\n",
      "Epoch 33/10000\n",
      "\u001B[1m3/3\u001B[0m \u001B[32m━━━━━━━━━━━━━━━━━━━━\u001B[0m\u001B[37m\u001B[0m \u001B[1m0s\u001B[0m 35ms/step - accuracy: 0.4272 - loss: 1.5996 - val_accuracy: 0.1250 - val_loss: 1.6583 - learning_rate: 0.0010\n",
      "Epoch 34/10000\n",
      "\u001B[1m3/3\u001B[0m \u001B[32m━━━━━━━━━━━━━━━━━━━━\u001B[0m\u001B[37m\u001B[0m \u001B[1m0s\u001B[0m 34ms/step - accuracy: 0.2802 - loss: 1.6019 - val_accuracy: 0.1250 - val_loss: 1.6149 - learning_rate: 0.0010\n",
      "Epoch 35/10000\n",
      "\u001B[1m3/3\u001B[0m \u001B[32m━━━━━━━━━━━━━━━━━━━━\u001B[0m\u001B[37m\u001B[0m \u001B[1m0s\u001B[0m 33ms/step - accuracy: 0.3560 - loss: 1.5796 - val_accuracy: 0.1250 - val_loss: 1.5984 - learning_rate: 0.0010\n",
      "Epoch 36/10000\n",
      "\u001B[1m3/3\u001B[0m \u001B[32m━━━━━━━━━━━━━━━━━━━━\u001B[0m\u001B[37m\u001B[0m \u001B[1m0s\u001B[0m 50ms/step - accuracy: 0.3873 - loss: 1.5539 - val_accuracy: 0.1250 - val_loss: 1.5872 - learning_rate: 0.0010\n",
      "Epoch 37/10000\n",
      "\u001B[1m3/3\u001B[0m \u001B[32m━━━━━━━━━━━━━━━━━━━━\u001B[0m\u001B[37m\u001B[0m \u001B[1m0s\u001B[0m 34ms/step - accuracy: 0.3617 - loss: 1.5470 - val_accuracy: 0.1250 - val_loss: 1.5737 - learning_rate: 0.0010\n",
      "Epoch 38/10000\n",
      "\u001B[1m3/3\u001B[0m \u001B[32m━━━━━━━━━━━━━━━━━━━━\u001B[0m\u001B[37m\u001B[0m \u001B[1m0s\u001B[0m 35ms/step - accuracy: 0.3181 - loss: 1.5478 - val_accuracy: 0.1250 - val_loss: 1.5594 - learning_rate: 0.0010\n",
      "Epoch 39/10000\n",
      "\u001B[1m3/3\u001B[0m \u001B[32m━━━━━━━━━━━━━━━━━━━━\u001B[0m\u001B[37m\u001B[0m \u001B[1m0s\u001B[0m 51ms/step - accuracy: 0.4022 - loss: 1.4919 - val_accuracy: 0.1250 - val_loss: 1.5510 - learning_rate: 0.0010\n",
      "Epoch 40/10000\n",
      "\u001B[1m3/3\u001B[0m \u001B[32m━━━━━━━━━━━━━━━━━━━━\u001B[0m\u001B[37m\u001B[0m \u001B[1m0s\u001B[0m 34ms/step - accuracy: 0.3787 - loss: 1.5000 - val_accuracy: 0.1250 - val_loss: 1.5406 - learning_rate: 0.0010\n",
      "Epoch 41/10000\n",
      "\u001B[1m3/3\u001B[0m \u001B[32m━━━━━━━━━━━━━━━━━━━━\u001B[0m\u001B[37m\u001B[0m \u001B[1m0s\u001B[0m 34ms/step - accuracy: 0.3617 - loss: 1.4851 - val_accuracy: 0.1250 - val_loss: 1.5279 - learning_rate: 0.0010\n",
      "Epoch 42/10000\n",
      "\u001B[1m3/3\u001B[0m \u001B[32m━━━━━━━━━━━━━━━━━━━━\u001B[0m\u001B[37m\u001B[0m \u001B[1m0s\u001B[0m 51ms/step - accuracy: 0.4022 - loss: 1.4385 - val_accuracy: 0.1250 - val_loss: 1.5241 - learning_rate: 0.0010\n",
      "Epoch 43/10000\n",
      "\u001B[1m3/3\u001B[0m \u001B[32m━━━━━━━━━━━━━━━━━━━━\u001B[0m\u001B[37m\u001B[0m \u001B[1m0s\u001B[0m 50ms/step - accuracy: 0.3503 - loss: 1.4500 - val_accuracy: 0.1250 - val_loss: 1.5176 - learning_rate: 0.0010\n",
      "Epoch 44/10000\n",
      "\u001B[1m3/3\u001B[0m \u001B[32m━━━━━━━━━━━━━━━━━━━━\u001B[0m\u001B[37m\u001B[0m \u001B[1m0s\u001B[0m 34ms/step - accuracy: 0.4079 - loss: 1.4413 - val_accuracy: 0.1250 - val_loss: 1.5041 - learning_rate: 0.0010\n",
      "Epoch 45/10000\n",
      "\u001B[1m3/3\u001B[0m \u001B[32m━━━━━━━━━━━━━━━━━━━━\u001B[0m\u001B[37m\u001B[0m \u001B[1m0s\u001B[0m 50ms/step - accuracy: 0.4098 - loss: 1.3987 - val_accuracy: 0.1250 - val_loss: 1.5067 - learning_rate: 0.0010\n",
      "Epoch 46/10000\n",
      "\u001B[1m3/3\u001B[0m \u001B[32m━━━━━━━━━━━━━━━━━━━━\u001B[0m\u001B[37m\u001B[0m \u001B[1m0s\u001B[0m 34ms/step - accuracy: 0.2997 - loss: 1.4470 - val_accuracy: 0.1250 - val_loss: 1.4898 - learning_rate: 0.0010\n",
      "Epoch 47/10000\n",
      "\u001B[1m3/3\u001B[0m \u001B[32m━━━━━━━━━━━━━━━━━━━━\u001B[0m\u001B[37m\u001B[0m \u001B[1m0s\u001B[0m 34ms/step - accuracy: 0.3484 - loss: 1.4152 - val_accuracy: 0.1250 - val_loss: 1.4885 - learning_rate: 0.0010\n",
      "Epoch 48/10000\n",
      "\u001B[1m3/3\u001B[0m \u001B[32m━━━━━━━━━━━━━━━━━━━━\u001B[0m\u001B[37m\u001B[0m \u001B[1m0s\u001B[0m 50ms/step - accuracy: 0.5196 - loss: 1.3519 - val_accuracy: 0.0625 - val_loss: 1.5030 - learning_rate: 0.0010\n",
      "Epoch 49/10000\n",
      "\u001B[1m3/3\u001B[0m \u001B[32m━━━━━━━━━━━━━━━━━━━━\u001B[0m\u001B[37m\u001B[0m \u001B[1m0s\u001B[0m 50ms/step - accuracy: 0.5194 - loss: 1.3437 - val_accuracy: 0.0625 - val_loss: 1.4617 - learning_rate: 0.0010\n",
      "Epoch 50/10000\n",
      "\u001B[1m3/3\u001B[0m \u001B[32m━━━━━━━━━━━━━━━━━━━━\u001B[0m\u001B[37m\u001B[0m \u001B[1m0s\u001B[0m 34ms/step - accuracy: 0.2951 - loss: 1.4377 - val_accuracy: 0.2500 - val_loss: 1.3866 - learning_rate: 0.0010\n",
      "Epoch 51/10000\n",
      "\u001B[1m3/3\u001B[0m \u001B[32m━━━━━━━━━━━━━━━━━━━━\u001B[0m\u001B[37m\u001B[0m \u001B[1m0s\u001B[0m 49ms/step - accuracy: 0.4693 - loss: 1.3306 - val_accuracy: 0.1875 - val_loss: 1.4058 - learning_rate: 0.0010\n",
      "Epoch 52/10000\n",
      "\u001B[1m3/3\u001B[0m \u001B[32m━━━━━━━━━━━━━━━━━━━━\u001B[0m\u001B[37m\u001B[0m \u001B[1m0s\u001B[0m 34ms/step - accuracy: 0.3925 - loss: 1.3710 - val_accuracy: 0.1875 - val_loss: 1.4000 - learning_rate: 0.0010\n",
      "Epoch 53/10000\n",
      "\u001B[1m3/3\u001B[0m \u001B[32m━━━━━━━━━━━━━━━━━━━━\u001B[0m\u001B[37m\u001B[0m \u001B[1m0s\u001B[0m 33ms/step - accuracy: 0.3255 - loss: 1.3873 - val_accuracy: 0.3750 - val_loss: 1.3686 - learning_rate: 0.0010\n",
      "Epoch 54/10000\n",
      "\u001B[1m3/3\u001B[0m \u001B[32m━━━━━━━━━━━━━━━━━━━━\u001B[0m\u001B[37m\u001B[0m \u001B[1m0s\u001B[0m 34ms/step - accuracy: 0.2885 - loss: 1.3977 - val_accuracy: 0.3125 - val_loss: 1.3532 - learning_rate: 0.0010\n",
      "Epoch 55/10000\n",
      "\u001B[1m3/3\u001B[0m \u001B[32m━━━━━━━━━━━━━━━━━━━━\u001B[0m\u001B[37m\u001B[0m \u001B[1m0s\u001B[0m 50ms/step - accuracy: 0.4675 - loss: 1.3198 - val_accuracy: 0.3750 - val_loss: 1.3646 - learning_rate: 0.0010\n",
      "Epoch 56/10000\n",
      "\u001B[1m3/3\u001B[0m \u001B[32m━━━━━━━━━━━━━━━━━━━━\u001B[0m\u001B[37m\u001B[0m \u001B[1m0s\u001B[0m 34ms/step - accuracy: 0.4318 - loss: 1.3293 - val_accuracy: 0.3750 - val_loss: 1.3504 - learning_rate: 0.0010\n",
      "Epoch 57/10000\n",
      "\u001B[1m3/3\u001B[0m \u001B[32m━━━━━━━━━━━━━━━━━━━━\u001B[0m\u001B[37m\u001B[0m \u001B[1m0s\u001B[0m 34ms/step - accuracy: 0.3636 - loss: 1.3287 - val_accuracy: 0.4375 - val_loss: 1.3341 - learning_rate: 0.0010\n",
      "Epoch 58/10000\n",
      "\u001B[1m3/3\u001B[0m \u001B[32m━━━━━━━━━━━━━━━━━━━━\u001B[0m\u001B[37m\u001B[0m \u001B[1m0s\u001B[0m 34ms/step - accuracy: 0.3484 - loss: 1.3497 - val_accuracy: 0.3750 - val_loss: 1.3477 - learning_rate: 0.0010\n",
      "Epoch 59/10000\n",
      "\u001B[1m3/3\u001B[0m \u001B[32m━━━━━━━━━━━━━━━━━━━━\u001B[0m\u001B[37m\u001B[0m \u001B[1m0s\u001B[0m 36ms/step - accuracy: 0.4770 - loss: 1.3186 - val_accuracy: 0.1875 - val_loss: 1.3720 - learning_rate: 0.0010\n",
      "Epoch 60/10000\n",
      "\u001B[1m3/3\u001B[0m \u001B[32m━━━━━━━━━━━━━━━━━━━━\u001B[0m\u001B[37m\u001B[0m \u001B[1m0s\u001B[0m 35ms/step - accuracy: 0.4304 - loss: 1.3272 - val_accuracy: 0.1250 - val_loss: 1.3875 - learning_rate: 0.0010\n",
      "Epoch 61/10000\n",
      "\u001B[1m3/3\u001B[0m \u001B[32m━━━━━━━━━━━━━━━━━━━━\u001B[0m\u001B[37m\u001B[0m \u001B[1m0s\u001B[0m 34ms/step - accuracy: 0.4001 - loss: 1.3142 - val_accuracy: 0.0625 - val_loss: 1.4237 - learning_rate: 0.0010\n",
      "Epoch 62/10000\n",
      "\u001B[1m3/3\u001B[0m \u001B[32m━━━━━━━━━━━━━━━━━━━━\u001B[0m\u001B[37m\u001B[0m \u001B[1m0s\u001B[0m 51ms/step - accuracy: 0.3953 - loss: 1.2921 - val_accuracy: 0.0625 - val_loss: 1.4430 - learning_rate: 0.0010\n",
      "Epoch 63/10000\n",
      "\u001B[1m3/3\u001B[0m \u001B[32m━━━━━━━━━━━━━━━━━━━━\u001B[0m\u001B[37m\u001B[0m \u001B[1m0s\u001B[0m 37ms/step - accuracy: 0.4081 - loss: 1.3025 - val_accuracy: 0.1250 - val_loss: 1.4194 - learning_rate: 0.0010\n",
      "Epoch 64/10000\n",
      "\u001B[1m3/3\u001B[0m \u001B[32m━━━━━━━━━━━━━━━━━━━━\u001B[0m\u001B[37m\u001B[0m \u001B[1m0s\u001B[0m 33ms/step - accuracy: 0.4470 - loss: 1.2683 - val_accuracy: 0.1250 - val_loss: 1.4107 - learning_rate: 0.0010\n",
      "Epoch 65/10000\n",
      "\u001B[1m3/3\u001B[0m \u001B[32m━━━━━━━━━━━━━━━━━━━━\u001B[0m\u001B[37m\u001B[0m \u001B[1m0s\u001B[0m 51ms/step - accuracy: 0.3951 - loss: 1.2467 - val_accuracy: 0.3125 - val_loss: 1.3699 - learning_rate: 0.0010\n",
      "Epoch 66/10000\n",
      "\u001B[1m3/3\u001B[0m \u001B[32m━━━━━━━━━━━━━━━━━━━━\u001B[0m\u001B[37m\u001B[0m \u001B[1m0s\u001B[0m 51ms/step - accuracy: 0.6096 - loss: 1.1210 - val_accuracy: 0.3125 - val_loss: 1.5367 - learning_rate: 0.0010\n",
      "Epoch 67/10000\n",
      "\u001B[1m3/3\u001B[0m \u001B[32m━━━━━━━━━━━━━━━━━━━━\u001B[0m\u001B[37m\u001B[0m \u001B[1m0s\u001B[0m 51ms/step - accuracy: 0.3429 - loss: 1.2493 - val_accuracy: 0.3750 - val_loss: 1.5263 - learning_rate: 0.0010\n",
      "Epoch 68/10000\n",
      "\u001B[1m3/3\u001B[0m \u001B[32m━━━━━━━━━━━━━━━━━━━━\u001B[0m\u001B[37m\u001B[0m \u001B[1m0s\u001B[0m 34ms/step - accuracy: 0.4318 - loss: 1.3513 - val_accuracy: 0.4375 - val_loss: 1.3739 - learning_rate: 5.0000e-04\n",
      "Epoch 69/10000\n",
      "\u001B[1m3/3\u001B[0m \u001B[32m━━━━━━━━━━━━━━━━━━━━\u001B[0m\u001B[37m\u001B[0m \u001B[1m0s\u001B[0m 33ms/step - accuracy: 0.5225 - loss: 1.2002 - val_accuracy: 0.5000 - val_loss: 1.2466 - learning_rate: 5.0000e-04\n",
      "Epoch 70/10000\n",
      "\u001B[1m3/3\u001B[0m \u001B[32m━━━━━━━━━━━━━━━━━━━━\u001B[0m\u001B[37m\u001B[0m \u001B[1m0s\u001B[0m 51ms/step - accuracy: 0.5575 - loss: 1.1485 - val_accuracy: 0.5000 - val_loss: 1.1739 - learning_rate: 5.0000e-04\n",
      "Epoch 71/10000\n",
      "\u001B[1m3/3\u001B[0m \u001B[32m━━━━━━━━━━━━━━━━━━━━\u001B[0m\u001B[37m\u001B[0m \u001B[1m0s\u001B[0m 35ms/step - accuracy: 0.3886 - loss: 1.2954 - val_accuracy: 0.5000 - val_loss: 1.1561 - learning_rate: 5.0000e-04\n",
      "Epoch 72/10000\n",
      "\u001B[1m3/3\u001B[0m \u001B[32m━━━━━━━━━━━━━━━━━━━━\u001B[0m\u001B[37m\u001B[0m \u001B[1m0s\u001B[0m 51ms/step - accuracy: 0.5949 - loss: 1.0625 - val_accuracy: 0.5000 - val_loss: 1.1965 - learning_rate: 5.0000e-04\n",
      "Epoch 73/10000\n",
      "\u001B[1m3/3\u001B[0m \u001B[32m━━━━━━━━━━━━━━━━━━━━\u001B[0m\u001B[37m\u001B[0m \u001B[1m0s\u001B[0m 35ms/step - accuracy: 0.4111 - loss: 1.2447 - val_accuracy: 0.3750 - val_loss: 1.1770 - learning_rate: 5.0000e-04\n",
      "Epoch 74/10000\n",
      "\u001B[1m3/3\u001B[0m \u001B[32m━━━━━━━━━━━━━━━━━━━━\u001B[0m\u001B[37m\u001B[0m \u001B[1m0s\u001B[0m 33ms/step - accuracy: 0.4924 - loss: 1.2181 - val_accuracy: 0.5000 - val_loss: 1.1811 - learning_rate: 5.0000e-04\n",
      "Epoch 75/10000\n",
      "\u001B[1m3/3\u001B[0m \u001B[32m━━━━━━━━━━━━━━━━━━━━\u001B[0m\u001B[37m\u001B[0m \u001B[1m0s\u001B[0m 50ms/step - accuracy: 0.6551 - loss: 1.0362 - val_accuracy: 0.5625 - val_loss: 1.1790 - learning_rate: 5.0000e-04\n",
      "Epoch 76/10000\n",
      "\u001B[1m3/3\u001B[0m \u001B[32m━━━━━━━━━━━━━━━━━━━━\u001B[0m\u001B[37m\u001B[0m \u001B[1m0s\u001B[0m 35ms/step - accuracy: 0.5305 - loss: 1.2590 - val_accuracy: 0.5625 - val_loss: 1.0813 - learning_rate: 5.0000e-04\n",
      "Epoch 77/10000\n",
      "\u001B[1m3/3\u001B[0m \u001B[32m━━━━━━━━━━━━━━━━━━━━\u001B[0m\u001B[37m\u001B[0m \u001B[1m0s\u001B[0m 33ms/step - accuracy: 0.4612 - loss: 1.2343 - val_accuracy: 0.5625 - val_loss: 1.0256 - learning_rate: 5.0000e-04\n",
      "Epoch 78/10000\n",
      "\u001B[1m3/3\u001B[0m \u001B[32m━━━━━━━━━━━━━━━━━━━━\u001B[0m\u001B[37m\u001B[0m \u001B[1m0s\u001B[0m 50ms/step - accuracy: 0.6326 - loss: 1.0421 - val_accuracy: 0.5625 - val_loss: 1.0381 - learning_rate: 5.0000e-04\n",
      "Epoch 79/10000\n",
      "\u001B[1m3/3\u001B[0m \u001B[32m━━━━━━━━━━━━━━━━━━━━\u001B[0m\u001B[37m\u001B[0m \u001B[1m0s\u001B[0m 35ms/step - accuracy: 0.4846 - loss: 1.1788 - val_accuracy: 0.4375 - val_loss: 1.0822 - learning_rate: 5.0000e-04\n",
      "Epoch 80/10000\n",
      "\u001B[1m3/3\u001B[0m \u001B[32m━━━━━━━━━━━━━━━━━━━━\u001B[0m\u001B[37m\u001B[0m \u001B[1m0s\u001B[0m 35ms/step - accuracy: 0.4727 - loss: 1.2257 - val_accuracy: 0.5000 - val_loss: 0.9679 - learning_rate: 5.0000e-04\n",
      "Epoch 81/10000\n",
      "\u001B[1m3/3\u001B[0m \u001B[32m━━━━━━━━━━━━━━━━━━━━\u001B[0m\u001B[37m\u001B[0m \u001B[1m0s\u001B[0m 36ms/step - accuracy: 0.6286 - loss: 1.1141 - val_accuracy: 0.5625 - val_loss: 0.9481 - learning_rate: 5.0000e-04\n",
      "Epoch 82/10000\n",
      "\u001B[1m3/3\u001B[0m \u001B[32m━━━━━━━━━━━━━━━━━━━━\u001B[0m\u001B[37m\u001B[0m \u001B[1m0s\u001B[0m 35ms/step - accuracy: 0.5958 - loss: 1.1627 - val_accuracy: 0.6875 - val_loss: 0.9812 - learning_rate: 5.0000e-04\n",
      "Epoch 83/10000\n",
      "\u001B[1m3/3\u001B[0m \u001B[32m━━━━━━━━━━━━━━━━━━━━\u001B[0m\u001B[37m\u001B[0m \u001B[1m0s\u001B[0m 36ms/step - accuracy: 0.5983 - loss: 1.0895 - val_accuracy: 0.6875 - val_loss: 0.9982 - learning_rate: 5.0000e-04\n",
      "Epoch 84/10000\n",
      "\u001B[1m3/3\u001B[0m \u001B[32m━━━━━━━━━━━━━━━━━━━━\u001B[0m\u001B[37m\u001B[0m \u001B[1m0s\u001B[0m 35ms/step - accuracy: 0.6580 - loss: 0.9702 - val_accuracy: 0.6875 - val_loss: 0.9939 - learning_rate: 5.0000e-04\n",
      "Epoch 85/10000\n",
      "\u001B[1m3/3\u001B[0m \u001B[32m━━━━━━━━━━━━━━━━━━━━\u001B[0m\u001B[37m\u001B[0m \u001B[1m0s\u001B[0m 36ms/step - accuracy: 0.5962 - loss: 1.0159 - val_accuracy: 0.6875 - val_loss: 0.9635 - learning_rate: 5.0000e-04\n",
      "Epoch 86/10000\n",
      "\u001B[1m3/3\u001B[0m \u001B[32m━━━━━━━━━━━━━━━━━━━━\u001B[0m\u001B[37m\u001B[0m \u001B[1m0s\u001B[0m 35ms/step - accuracy: 0.7653 - loss: 0.8800 - val_accuracy: 0.6875 - val_loss: 0.8947 - learning_rate: 5.0000e-04\n",
      "Epoch 87/10000\n",
      "\u001B[1m3/3\u001B[0m \u001B[32m━━━━━━━━━━━━━━━━━━━━\u001B[0m\u001B[37m\u001B[0m \u001B[1m0s\u001B[0m 36ms/step - accuracy: 0.6286 - loss: 0.8046 - val_accuracy: 0.5625 - val_loss: 0.9018 - learning_rate: 5.0000e-04\n",
      "Epoch 88/10000\n",
      "\u001B[1m3/3\u001B[0m \u001B[32m━━━━━━━━━━━━━━━━━━━━\u001B[0m\u001B[37m\u001B[0m \u001B[1m0s\u001B[0m 35ms/step - accuracy: 0.6438 - loss: 0.8985 - val_accuracy: 0.6250 - val_loss: 0.9043 - learning_rate: 5.0000e-04\n",
      "Epoch 89/10000\n",
      "\u001B[1m3/3\u001B[0m \u001B[32m━━━━━━━━━━━━━━━━━━━━\u001B[0m\u001B[37m\u001B[0m \u001B[1m0s\u001B[0m 36ms/step - accuracy: 0.6210 - loss: 1.0025 - val_accuracy: 0.6250 - val_loss: 0.8887 - learning_rate: 5.0000e-04\n",
      "Epoch 90/10000\n",
      "\u001B[1m3/3\u001B[0m \u001B[32m━━━━━━━━━━━━━━━━━━━━\u001B[0m\u001B[37m\u001B[0m \u001B[1m0s\u001B[0m 36ms/step - accuracy: 0.6059 - loss: 0.9553 - val_accuracy: 0.6875 - val_loss: 0.7773 - learning_rate: 5.0000e-04\n",
      "Epoch 91/10000\n",
      "\u001B[1m3/3\u001B[0m \u001B[32m━━━━━━━━━━━━━━━━━━━━\u001B[0m\u001B[37m\u001B[0m \u001B[1m0s\u001B[0m 36ms/step - accuracy: 0.6286 - loss: 0.9466 - val_accuracy: 0.7500 - val_loss: 0.7068 - learning_rate: 5.0000e-04\n",
      "Epoch 92/10000\n",
      "\u001B[1m3/3\u001B[0m \u001B[32m━━━━━━━━━━━━━━━━━━━━\u001B[0m\u001B[37m\u001B[0m \u001B[1m0s\u001B[0m 36ms/step - accuracy: 0.6495 - loss: 0.9783 - val_accuracy: 0.7500 - val_loss: 0.6821 - learning_rate: 5.0000e-04\n",
      "Epoch 93/10000\n",
      "\u001B[1m3/3\u001B[0m \u001B[32m━━━━━━━━━━━━━━━━━━━━\u001B[0m\u001B[37m\u001B[0m \u001B[1m0s\u001B[0m 37ms/step - accuracy: 0.7575 - loss: 0.7936 - val_accuracy: 0.8125 - val_loss: 0.6716 - learning_rate: 5.0000e-04\n",
      "Epoch 94/10000\n",
      "\u001B[1m3/3\u001B[0m \u001B[32m━━━━━━━━━━━━━━━━━━━━\u001B[0m\u001B[37m\u001B[0m \u001B[1m0s\u001B[0m 51ms/step - accuracy: 0.7823 - loss: 0.6548 - val_accuracy: 0.7500 - val_loss: 0.6809 - learning_rate: 5.0000e-04\n",
      "Epoch 95/10000\n",
      "\u001B[1m3/3\u001B[0m \u001B[32m━━━━━━━━━━━━━━━━━━━━\u001B[0m\u001B[37m\u001B[0m \u001B[1m0s\u001B[0m 52ms/step - accuracy: 0.6798 - loss: 0.8177 - val_accuracy: 0.7500 - val_loss: 0.6615 - learning_rate: 5.0000e-04\n",
      "Epoch 96/10000\n",
      "\u001B[1m3/3\u001B[0m \u001B[32m━━━━━━━━━━━━━━━━━━━━\u001B[0m\u001B[37m\u001B[0m \u001B[1m0s\u001B[0m 38ms/step - accuracy: 0.6576 - loss: 0.8452 - val_accuracy: 0.7500 - val_loss: 0.6907 - learning_rate: 5.0000e-04\n",
      "Epoch 97/10000\n",
      "\u001B[1m3/3\u001B[0m \u001B[32m━━━━━━━━━━━━━━━━━━━━\u001B[0m\u001B[37m\u001B[0m \u001B[1m0s\u001B[0m 38ms/step - accuracy: 0.7953 - loss: 0.7396 - val_accuracy: 0.7500 - val_loss: 0.7964 - learning_rate: 5.0000e-04\n",
      "Epoch 98/10000\n",
      "\u001B[1m3/3\u001B[0m \u001B[32m━━━━━━━━━━━━━━━━━━━━\u001B[0m\u001B[37m\u001B[0m \u001B[1m0s\u001B[0m 55ms/step - accuracy: 0.8046 - loss: 0.6851 - val_accuracy: 0.7500 - val_loss: 0.7967 - learning_rate: 5.0000e-04\n",
      "Epoch 99/10000\n",
      "\u001B[1m3/3\u001B[0m \u001B[32m━━━━━━━━━━━━━━━━━━━━\u001B[0m\u001B[37m\u001B[0m \u001B[1m0s\u001B[0m 36ms/step - accuracy: 0.6344 - loss: 0.8363 - val_accuracy: 0.7500 - val_loss: 0.6987 - learning_rate: 5.0000e-04\n",
      "Epoch 100/10000\n",
      "\u001B[1m3/3\u001B[0m \u001B[32m━━━━━━━━━━━━━━━━━━━━\u001B[0m\u001B[37m\u001B[0m \u001B[1m0s\u001B[0m 35ms/step - accuracy: 0.7196 - loss: 0.7568 - val_accuracy: 0.6875 - val_loss: 0.6932 - learning_rate: 5.0000e-04\n",
      "Epoch 101/10000\n",
      "\u001B[1m3/3\u001B[0m \u001B[32m━━━━━━━━━━━━━━━━━━━━\u001B[0m\u001B[37m\u001B[0m \u001B[1m0s\u001B[0m 36ms/step - accuracy: 0.7878 - loss: 0.7467 - val_accuracy: 0.7500 - val_loss: 0.6327 - learning_rate: 5.0000e-04\n",
      "Epoch 102/10000\n",
      "\u001B[1m3/3\u001B[0m \u001B[32m━━━━━━━━━━━━━━━━━━━━\u001B[0m\u001B[37m\u001B[0m \u001B[1m0s\u001B[0m 35ms/step - accuracy: 0.8484 - loss: 0.7513 - val_accuracy: 0.8750 - val_loss: 0.5893 - learning_rate: 5.0000e-04\n",
      "Epoch 103/10000\n",
      "\u001B[1m3/3\u001B[0m \u001B[32m━━━━━━━━━━━━━━━━━━━━\u001B[0m\u001B[37m\u001B[0m \u001B[1m0s\u001B[0m 34ms/step - accuracy: 0.7423 - loss: 0.6828 - val_accuracy: 0.8750 - val_loss: 0.5465 - learning_rate: 5.0000e-04\n",
      "Epoch 104/10000\n",
      "\u001B[1m3/3\u001B[0m \u001B[32m━━━━━━━━━━━━━━━━━━━━\u001B[0m\u001B[37m\u001B[0m \u001B[1m0s\u001B[0m 35ms/step - accuracy: 0.6732 - loss: 0.8002 - val_accuracy: 0.8125 - val_loss: 0.6579 - learning_rate: 5.0000e-04\n",
      "Epoch 105/10000\n",
      "\u001B[1m3/3\u001B[0m \u001B[32m━━━━━━━━━━━━━━━━━━━━\u001B[0m\u001B[37m\u001B[0m \u001B[1m0s\u001B[0m 50ms/step - accuracy: 0.7752 - loss: 0.7705 - val_accuracy: 0.8125 - val_loss: 0.7559 - learning_rate: 5.0000e-04\n",
      "Epoch 106/10000\n",
      "\u001B[1m3/3\u001B[0m \u001B[32m━━━━━━━━━━━━━━━━━━━━\u001B[0m\u001B[37m\u001B[0m \u001B[1m0s\u001B[0m 36ms/step - accuracy: 0.6729 - loss: 0.8000 - val_accuracy: 0.6875 - val_loss: 0.6952 - learning_rate: 5.0000e-04\n",
      "Epoch 107/10000\n",
      "\u001B[1m3/3\u001B[0m \u001B[32m━━━━━━━━━━━━━━━━━━━━\u001B[0m\u001B[37m\u001B[0m \u001B[1m0s\u001B[0m 50ms/step - accuracy: 0.7897 - loss: 0.7515 - val_accuracy: 0.6875 - val_loss: 0.8030 - learning_rate: 5.0000e-04\n",
      "Epoch 108/10000\n",
      "\u001B[1m3/3\u001B[0m \u001B[32m━━━━━━━━━━━━━━━━━━━━\u001B[0m\u001B[37m\u001B[0m \u001B[1m0s\u001B[0m 35ms/step - accuracy: 0.7887 - loss: 0.7420 - val_accuracy: 0.6875 - val_loss: 0.7759 - learning_rate: 5.0000e-04\n",
      "Epoch 109/10000\n",
      "\u001B[1m3/3\u001B[0m \u001B[32m━━━━━━━━━━━━━━━━━━━━\u001B[0m\u001B[37m\u001B[0m \u001B[1m0s\u001B[0m 33ms/step - accuracy: 0.7772 - loss: 0.7848 - val_accuracy: 0.8125 - val_loss: 0.6698 - learning_rate: 5.0000e-04\n",
      "Epoch 110/10000\n",
      "\u001B[1m3/3\u001B[0m \u001B[32m━━━━━━━━━━━━━━━━━━━━\u001B[0m\u001B[37m\u001B[0m \u001B[1m0s\u001B[0m 50ms/step - accuracy: 0.7975 - loss: 0.7375 - val_accuracy: 0.8125 - val_loss: 0.6510 - learning_rate: 5.0000e-04\n",
      "Epoch 111/10000\n",
      "\u001B[1m3/3\u001B[0m \u001B[32m━━━━━━━━━━━━━━━━━━━━\u001B[0m\u001B[37m\u001B[0m \u001B[1m0s\u001B[0m 35ms/step - accuracy: 0.7726 - loss: 0.7126 - val_accuracy: 0.8750 - val_loss: 0.6406 - learning_rate: 5.0000e-04\n",
      "Epoch 112/10000\n",
      "\u001B[1m3/3\u001B[0m \u001B[32m━━━━━━━━━━━━━━━━━━━━\u001B[0m\u001B[37m\u001B[0m \u001B[1m0s\u001B[0m 34ms/step - accuracy: 0.7878 - loss: 0.7742 - val_accuracy: 0.8750 - val_loss: 0.6009 - learning_rate: 5.0000e-04\n",
      "Epoch 113/10000\n",
      "\u001B[1m3/3\u001B[0m \u001B[32m━━━━━━━━━━━━━━━━━━━━\u001B[0m\u001B[37m\u001B[0m \u001B[1m0s\u001B[0m 36ms/step - accuracy: 0.6925 - loss: 0.7618 - val_accuracy: 0.8750 - val_loss: 0.5644 - learning_rate: 5.0000e-04\n",
      "Epoch 114/10000\n",
      "\u001B[1m3/3\u001B[0m \u001B[32m━━━━━━━━━━━━━━━━━━━━\u001B[0m\u001B[37m\u001B[0m \u001B[1m0s\u001B[0m 35ms/step - accuracy: 0.8732 - loss: 0.5894 - val_accuracy: 0.8750 - val_loss: 0.5667 - learning_rate: 2.5000e-04\n",
      "Epoch 115/10000\n",
      "\u001B[1m3/3\u001B[0m \u001B[32m━━━━━━━━━━━━━━━━━━━━\u001B[0m\u001B[37m\u001B[0m \u001B[1m0s\u001B[0m 35ms/step - accuracy: 0.8105 - loss: 0.6720 - val_accuracy: 0.8125 - val_loss: 0.5862 - learning_rate: 2.5000e-04\n",
      "Epoch 116/10000\n",
      "\u001B[1m3/3\u001B[0m \u001B[32m━━━━━━━━━━━━━━━━━━━━\u001B[0m\u001B[37m\u001B[0m \u001B[1m0s\u001B[0m 50ms/step - accuracy: 0.8422 - loss: 0.5964 - val_accuracy: 0.8125 - val_loss: 0.5979 - learning_rate: 2.5000e-04\n",
      "Epoch 117/10000\n",
      "\u001B[1m3/3\u001B[0m \u001B[32m━━━━━━━━━━━━━━━━━━━━\u001B[0m\u001B[37m\u001B[0m \u001B[1m0s\u001B[0m 35ms/step - accuracy: 0.7846 - loss: 0.7662 - val_accuracy: 0.8125 - val_loss: 0.5803 - learning_rate: 2.5000e-04\n",
      "Epoch 118/10000\n",
      "\u001B[1m3/3\u001B[0m \u001B[32m━━━━━━━━━━━━━━━━━━━━\u001B[0m\u001B[37m\u001B[0m \u001B[1m0s\u001B[0m 35ms/step - accuracy: 0.7802 - loss: 0.6962 - val_accuracy: 0.8125 - val_loss: 0.5538 - learning_rate: 2.5000e-04\n",
      "Epoch 119/10000\n",
      "\u001B[1m3/3\u001B[0m \u001B[32m━━━━━━━━━━━━━━━━━━━━\u001B[0m\u001B[37m\u001B[0m \u001B[1m0s\u001B[0m 53ms/step - accuracy: 0.8648 - loss: 0.5303 - val_accuracy: 0.8750 - val_loss: 0.5352 - learning_rate: 2.5000e-04\n",
      "Epoch 120/10000\n",
      "\u001B[1m3/3\u001B[0m \u001B[32m━━━━━━━━━━━━━━━━━━━━\u001B[0m\u001B[37m\u001B[0m \u001B[1m0s\u001B[0m 36ms/step - accuracy: 0.8029 - loss: 0.6163 - val_accuracy: 0.8750 - val_loss: 0.5599 - learning_rate: 2.5000e-04\n",
      "Epoch 121/10000\n",
      "\u001B[1m3/3\u001B[0m \u001B[32m━━━━━━━━━━━━━━━━━━━━\u001B[0m\u001B[37m\u001B[0m \u001B[1m0s\u001B[0m 36ms/step - accuracy: 0.8498 - loss: 0.5478 - val_accuracy: 0.8750 - val_loss: 0.6122 - learning_rate: 2.5000e-04\n",
      "Epoch 122/10000\n",
      "\u001B[1m3/3\u001B[0m \u001B[32m━━━━━━━━━━━━━━━━━━━━\u001B[0m\u001B[37m\u001B[0m \u001B[1m0s\u001B[0m 52ms/step - accuracy: 0.8801 - loss: 0.5093 - val_accuracy: 0.8125 - val_loss: 0.6597 - learning_rate: 2.5000e-04\n",
      "Epoch 123/10000\n",
      "\u001B[1m3/3\u001B[0m \u001B[32m━━━━━━━━━━━━━━━━━━━━\u001B[0m\u001B[37m\u001B[0m \u001B[1m0s\u001B[0m 35ms/step - accuracy: 0.8257 - loss: 0.5594 - val_accuracy: 0.8125 - val_loss: 0.6771 - learning_rate: 2.5000e-04\n",
      "Epoch 124/10000\n",
      "\u001B[1m3/3\u001B[0m \u001B[32m━━━━━━━━━━━━━━━━━━━━\u001B[0m\u001B[37m\u001B[0m \u001B[1m0s\u001B[0m 35ms/step - accuracy: 0.8560 - loss: 0.5517 - val_accuracy: 0.8125 - val_loss: 0.6449 - learning_rate: 2.5000e-04\n",
      "Epoch 125/10000\n",
      "\u001B[1m3/3\u001B[0m \u001B[32m━━━━━━━━━━━━━━━━━━━━\u001B[0m\u001B[37m\u001B[0m \u001B[1m0s\u001B[0m 51ms/step - accuracy: 0.8425 - loss: 0.5075 - val_accuracy: 0.8750 - val_loss: 0.5870 - learning_rate: 2.5000e-04\n",
      "Epoch 126/10000\n",
      "\u001B[1m3/3\u001B[0m \u001B[32m━━━━━━━━━━━━━━━━━━━━\u001B[0m\u001B[37m\u001B[0m \u001B[1m0s\u001B[0m 50ms/step - accuracy: 0.7097 - loss: 0.7367 - val_accuracy: 0.8750 - val_loss: 0.4862 - learning_rate: 2.5000e-04\n",
      "Epoch 127/10000\n",
      "\u001B[1m3/3\u001B[0m \u001B[32m━━━━━━━━━━━━━━━━━━━━\u001B[0m\u001B[37m\u001B[0m \u001B[1m0s\u001B[0m 36ms/step - accuracy: 0.8691 - loss: 0.6287 - val_accuracy: 0.9375 - val_loss: 0.4543 - learning_rate: 2.5000e-04\n",
      "Epoch 128/10000\n",
      "\u001B[1m3/3\u001B[0m \u001B[32m━━━━━━━━━━━━━━━━━━━━\u001B[0m\u001B[37m\u001B[0m \u001B[1m0s\u001B[0m 36ms/step - accuracy: 0.8636 - loss: 0.5406 - val_accuracy: 0.9375 - val_loss: 0.4534 - learning_rate: 2.5000e-04\n",
      "Epoch 129/10000\n",
      "\u001B[1m3/3\u001B[0m \u001B[32m━━━━━━━━━━━━━━━━━━━━\u001B[0m\u001B[37m\u001B[0m \u001B[1m0s\u001B[0m 52ms/step - accuracy: 0.9100 - loss: 0.4659 - val_accuracy: 0.9375 - val_loss: 0.4437 - learning_rate: 2.5000e-04\n",
      "Epoch 130/10000\n",
      "\u001B[1m3/3\u001B[0m \u001B[32m━━━━━━━━━━━━━━━━━━━━\u001B[0m\u001B[37m\u001B[0m \u001B[1m0s\u001B[0m 34ms/step - accuracy: 0.8190 - loss: 0.6351 - val_accuracy: 0.9375 - val_loss: 0.4188 - learning_rate: 2.5000e-04\n",
      "Epoch 131/10000\n",
      "\u001B[1m3/3\u001B[0m \u001B[32m━━━━━━━━━━━━━━━━━━━━\u001B[0m\u001B[37m\u001B[0m \u001B[1m0s\u001B[0m 51ms/step - accuracy: 0.8870 - loss: 0.5195 - val_accuracy: 0.9375 - val_loss: 0.4275 - learning_rate: 2.5000e-04\n",
      "Epoch 132/10000\n",
      "\u001B[1m3/3\u001B[0m \u001B[32m━━━━━━━━━━━━━━━━━━━━\u001B[0m\u001B[37m\u001B[0m \u001B[1m0s\u001B[0m 36ms/step - accuracy: 0.8884 - loss: 0.4800 - val_accuracy: 0.8750 - val_loss: 0.5112 - learning_rate: 2.5000e-04\n",
      "Epoch 133/10000\n",
      "\u001B[1m3/3\u001B[0m \u001B[32m━━━━━━━━━━━━━━━━━━━━\u001B[0m\u001B[37m\u001B[0m \u001B[1m0s\u001B[0m 36ms/step - accuracy: 0.8181 - loss: 0.5335 - val_accuracy: 0.8750 - val_loss: 0.5770 - learning_rate: 2.5000e-04\n",
      "Epoch 134/10000\n",
      "\u001B[1m3/3\u001B[0m \u001B[32m━━━━━━━━━━━━━━━━━━━━\u001B[0m\u001B[37m\u001B[0m \u001B[1m0s\u001B[0m 36ms/step - accuracy: 0.8617 - loss: 0.5921 - val_accuracy: 0.8750 - val_loss: 0.5117 - learning_rate: 2.5000e-04\n",
      "Epoch 135/10000\n",
      "\u001B[1m3/3\u001B[0m \u001B[32m━━━━━━━━━━━━━━━━━━━━\u001B[0m\u001B[37m\u001B[0m \u001B[1m0s\u001B[0m 35ms/step - accuracy: 0.8560 - loss: 0.5016 - val_accuracy: 0.8750 - val_loss: 0.4755 - learning_rate: 2.5000e-04\n",
      "Epoch 136/10000\n",
      "\u001B[1m3/3\u001B[0m \u001B[32m━━━━━━━━━━━━━━━━━━━━\u001B[0m\u001B[37m\u001B[0m \u001B[1m0s\u001B[0m 34ms/step - accuracy: 0.9077 - loss: 0.4942 - val_accuracy: 0.8750 - val_loss: 0.4580 - learning_rate: 2.5000e-04\n",
      "Epoch 137/10000\n",
      "\u001B[1m3/3\u001B[0m \u001B[32m━━━━━━━━━━━━━━━━━━━━\u001B[0m\u001B[37m\u001B[0m \u001B[1m0s\u001B[0m 38ms/step - accuracy: 0.8863 - loss: 0.5196 - val_accuracy: 0.8750 - val_loss: 0.4627 - learning_rate: 2.5000e-04\n",
      "Epoch 138/10000\n",
      "\u001B[1m3/3\u001B[0m \u001B[32m━━━━━━━━━━━━━━━━━━━━\u001B[0m\u001B[37m\u001B[0m \u001B[1m0s\u001B[0m 53ms/step - accuracy: 0.9173 - loss: 0.4389 - val_accuracy: 0.8750 - val_loss: 0.5077 - learning_rate: 2.5000e-04\n",
      "Epoch 139/10000\n",
      "\u001B[1m3/3\u001B[0m \u001B[32m━━━━━━━━━━━━━━━━━━━━\u001B[0m\u001B[37m\u001B[0m \u001B[1m0s\u001B[0m 36ms/step - accuracy: 0.8332 - loss: 0.4877 - val_accuracy: 0.8750 - val_loss: 0.5794 - learning_rate: 2.5000e-04\n",
      "Epoch 140/10000\n",
      "\u001B[1m3/3\u001B[0m \u001B[32m━━━━━━━━━━━━━━━━━━━━\u001B[0m\u001B[37m\u001B[0m \u001B[1m0s\u001B[0m 36ms/step - accuracy: 0.9015 - loss: 0.4431 - val_accuracy: 0.8750 - val_loss: 0.5827 - learning_rate: 2.5000e-04\n",
      "Epoch 141/10000\n",
      "\u001B[1m3/3\u001B[0m \u001B[32m━━━━━━━━━━━━━━━━━━━━\u001B[0m\u001B[37m\u001B[0m \u001B[1m0s\u001B[0m 50ms/step - accuracy: 0.9401 - loss: 0.3922 - val_accuracy: 0.8750 - val_loss: 0.5359 - learning_rate: 1.2500e-04\n",
      "Epoch 142/10000\n",
      "\u001B[1m3/3\u001B[0m \u001B[32m━━━━━━━━━━━━━━━━━━━━\u001B[0m\u001B[37m\u001B[0m \u001B[1m0s\u001B[0m 34ms/step - accuracy: 0.8636 - loss: 0.5609 - val_accuracy: 0.8750 - val_loss: 0.4914 - learning_rate: 1.2500e-04\n",
      "Epoch 143/10000\n",
      "\u001B[1m3/3\u001B[0m \u001B[32m━━━━━━━━━━━━━━━━━━━━\u001B[0m\u001B[37m\u001B[0m \u001B[1m0s\u001B[0m 34ms/step - accuracy: 0.9348 - loss: 0.4779 - val_accuracy: 0.8750 - val_loss: 0.4547 - learning_rate: 1.2500e-04\n",
      "Epoch 144/10000\n",
      "\u001B[1m3/3\u001B[0m \u001B[32m━━━━━━━━━━━━━━━━━━━━\u001B[0m\u001B[37m\u001B[0m \u001B[1m0s\u001B[0m 34ms/step - accuracy: 0.9463 - loss: 0.4905 - val_accuracy: 0.8750 - val_loss: 0.4406 - learning_rate: 1.2500e-04\n",
      "Epoch 145/10000\n",
      "\u001B[1m3/3\u001B[0m \u001B[32m━━━━━━━━━━━━━━━━━━━━\u001B[0m\u001B[37m\u001B[0m \u001B[1m0s\u001B[0m 51ms/step - accuracy: 0.9026 - loss: 0.4300 - val_accuracy: 0.8750 - val_loss: 0.4472 - learning_rate: 1.2500e-04\n",
      "Epoch 146/10000\n",
      "\u001B[1m3/3\u001B[0m \u001B[32m━━━━━━━━━━━━━━━━━━━━\u001B[0m\u001B[37m\u001B[0m \u001B[1m0s\u001B[0m 33ms/step - accuracy: 0.8257 - loss: 0.6432 - val_accuracy: 0.8750 - val_loss: 0.4655 - learning_rate: 1.2500e-04\n",
      "Epoch 147/10000\n",
      "\u001B[1m3/3\u001B[0m \u001B[32m━━━━━━━━━━━━━━━━━━━━\u001B[0m\u001B[37m\u001B[0m \u001B[1m0s\u001B[0m 34ms/step - accuracy: 0.9155 - loss: 0.4951 - val_accuracy: 0.8750 - val_loss: 0.4789 - learning_rate: 1.2500e-04\n",
      "Epoch 148/10000\n",
      "\u001B[1m3/3\u001B[0m \u001B[32m━━━━━━━━━━━━━━━━━━━━\u001B[0m\u001B[37m\u001B[0m \u001B[1m0s\u001B[0m 52ms/step - accuracy: 0.9401 - loss: 0.3622 - val_accuracy: 0.8750 - val_loss: 0.4988 - learning_rate: 1.2500e-04\n",
      "Epoch 149/10000\n",
      "\u001B[1m3/3\u001B[0m \u001B[32m━━━━━━━━━━━━━━━━━━━━\u001B[0m\u001B[37m\u001B[0m \u001B[1m0s\u001B[0m 36ms/step - accuracy: 0.8769 - loss: 0.5392 - val_accuracy: 0.8750 - val_loss: 0.5049 - learning_rate: 1.2500e-04\n",
      "Epoch 150/10000\n",
      "\u001B[1m3/3\u001B[0m \u001B[32m━━━━━━━━━━━━━━━━━━━━\u001B[0m\u001B[37m\u001B[0m \u001B[1m0s\u001B[0m 36ms/step - accuracy: 0.8999 - loss: 0.4103 - val_accuracy: 0.8750 - val_loss: 0.5189 - learning_rate: 1.2500e-04\n",
      "Epoch 151/10000\n",
      "\u001B[1m3/3\u001B[0m \u001B[32m━━━━━━━━━━━━━━━━━━━━\u001B[0m\u001B[37m\u001B[0m \u001B[1m0s\u001B[0m 35ms/step - accuracy: 0.8806 - loss: 0.5301 - val_accuracy: 0.8750 - val_loss: 0.4829 - learning_rate: 6.2500e-05\n",
      "Epoch 152/10000\n",
      "\u001B[1m3/3\u001B[0m \u001B[32m━━━━━━━━━━━━━━━━━━━━\u001B[0m\u001B[37m\u001B[0m \u001B[1m0s\u001B[0m 50ms/step - accuracy: 0.7776 - loss: 0.5217 - val_accuracy: 0.8750 - val_loss: 0.4572 - learning_rate: 6.2500e-05\n",
      "Epoch 153/10000\n",
      "\u001B[1m3/3\u001B[0m \u001B[32m━━━━━━━━━━━━━━━━━━━━\u001B[0m\u001B[37m\u001B[0m \u001B[1m0s\u001B[0m 35ms/step - accuracy: 0.8787 - loss: 0.4433 - val_accuracy: 0.8750 - val_loss: 0.4360 - learning_rate: 6.2500e-05\n",
      "Epoch 154/10000\n",
      "\u001B[1m3/3\u001B[0m \u001B[32m━━━━━━━━━━━━━━━━━━━━\u001B[0m\u001B[37m\u001B[0m \u001B[1m0s\u001B[0m 34ms/step - accuracy: 0.8884 - loss: 0.4906 - val_accuracy: 0.8750 - val_loss: 0.4235 - learning_rate: 6.2500e-05\n",
      "Epoch 155/10000\n",
      "\u001B[1m3/3\u001B[0m \u001B[32m━━━━━━━━━━━━━━━━━━━━\u001B[0m\u001B[37m\u001B[0m \u001B[1m0s\u001B[0m 35ms/step - accuracy: 0.9242 - loss: 0.3644 - val_accuracy: 0.8750 - val_loss: 0.4133 - learning_rate: 6.2500e-05\n",
      "Epoch 156/10000\n",
      "\u001B[1m3/3\u001B[0m \u001B[32m━━━━━━━━━━━━━━━━━━━━\u001B[0m\u001B[37m\u001B[0m \u001B[1m0s\u001B[0m 50ms/step - accuracy: 0.8953 - loss: 0.4164 - val_accuracy: 0.8750 - val_loss: 0.4095 - learning_rate: 6.2500e-05\n",
      "Epoch 157/10000\n",
      "\u001B[1m3/3\u001B[0m \u001B[32m━━━━━━━━━━━━━━━━━━━━\u001B[0m\u001B[37m\u001B[0m \u001B[1m0s\u001B[0m 36ms/step - accuracy: 0.8962 - loss: 0.4724 - val_accuracy: 0.8750 - val_loss: 0.4165 - learning_rate: 6.2500e-05\n",
      "Epoch 158/10000\n",
      "\u001B[1m3/3\u001B[0m \u001B[32m━━━━━━━━━━━━━━━━━━━━\u001B[0m\u001B[37m\u001B[0m \u001B[1m0s\u001B[0m 34ms/step - accuracy: 0.9155 - loss: 0.4255 - val_accuracy: 0.8750 - val_loss: 0.4276 - learning_rate: 6.2500e-05\n",
      "Epoch 159/10000\n",
      "\u001B[1m3/3\u001B[0m \u001B[32m━━━━━━━━━━━━━━━━━━━━\u001B[0m\u001B[37m\u001B[0m \u001B[1m0s\u001B[0m 37ms/step - accuracy: 0.9394 - loss: 0.3804 - val_accuracy: 0.8750 - val_loss: 0.4366 - learning_rate: 6.2500e-05\n",
      "Epoch 160/10000\n",
      "\u001B[1m3/3\u001B[0m \u001B[32m━━━━━━━━━━━━━━━━━━━━\u001B[0m\u001B[37m\u001B[0m \u001B[1m0s\u001B[0m 36ms/step - accuracy: 0.9318 - loss: 0.3968 - val_accuracy: 0.8750 - val_loss: 0.4338 - learning_rate: 6.2500e-05\n",
      "Epoch 161/10000\n",
      "\u001B[1m3/3\u001B[0m \u001B[32m━━━━━━━━━━━━━━━━━━━━\u001B[0m\u001B[37m\u001B[0m \u001B[1m0s\u001B[0m 52ms/step - accuracy: 0.9251 - loss: 0.4162 - val_accuracy: 0.8750 - val_loss: 0.4262 - learning_rate: 6.2500e-05\n",
      "Epoch 162/10000\n",
      "\u001B[1m3/3\u001B[0m \u001B[32m━━━━━━━━━━━━━━━━━━━━\u001B[0m\u001B[37m\u001B[0m \u001B[1m0s\u001B[0m 34ms/step - accuracy: 0.9166 - loss: 0.4408 - val_accuracy: 0.8750 - val_loss: 0.4308 - learning_rate: 6.2500e-05\n",
      "Epoch 163/10000\n",
      "\u001B[1m3/3\u001B[0m \u001B[32m━━━━━━━━━━━━━━━━━━━━\u001B[0m\u001B[37m\u001B[0m \u001B[1m0s\u001B[0m 37ms/step - accuracy: 0.9311 - loss: 0.4117 - val_accuracy: 0.8750 - val_loss: 0.4423 - learning_rate: 6.2500e-05\n",
      "Epoch 164/10000\n",
      "\u001B[1m3/3\u001B[0m \u001B[32m━━━━━━━━━━━━━━━━━━━━\u001B[0m\u001B[37m\u001B[0m \u001B[1m0s\u001B[0m 35ms/step - accuracy: 0.9348 - loss: 0.3775 - val_accuracy: 0.8750 - val_loss: 0.4593 - learning_rate: 6.2500e-05\n",
      "Epoch 165/10000\n",
      "\u001B[1m3/3\u001B[0m \u001B[32m━━━━━━━━━━━━━━━━━━━━\u001B[0m\u001B[37m\u001B[0m \u001B[1m0s\u001B[0m 36ms/step - accuracy: 0.9242 - loss: 0.4138 - val_accuracy: 0.8750 - val_loss: 0.4705 - learning_rate: 6.2500e-05\n",
      "Epoch 166/10000\n",
      "\u001B[1m3/3\u001B[0m \u001B[32m━━━━━━━━━━━━━━━━━━━━\u001B[0m\u001B[37m\u001B[0m \u001B[1m0s\u001B[0m 36ms/step - accuracy: 0.9077 - loss: 0.4767 - val_accuracy: 0.8750 - val_loss: 0.4744 - learning_rate: 6.2500e-05\n",
      "Epoch 167/10000\n",
      "\u001B[1m3/3\u001B[0m \u001B[32m━━━━━━━━━━━━━━━━━━━━\u001B[0m\u001B[37m\u001B[0m \u001B[1m0s\u001B[0m 55ms/step - accuracy: 0.9626 - loss: 0.3070 - val_accuracy: 0.8750 - val_loss: 0.4757 - learning_rate: 3.1250e-05\n",
      "Epoch 168/10000\n",
      "\u001B[1m3/3\u001B[0m \u001B[32m━━━━━━━━━━━━━━━━━━━━\u001B[0m\u001B[37m\u001B[0m \u001B[1m0s\u001B[0m 35ms/step - accuracy: 0.8999 - loss: 0.4118 - val_accuracy: 0.8750 - val_loss: 0.4706 - learning_rate: 3.1250e-05\n",
      "Epoch 169/10000\n",
      "\u001B[1m3/3\u001B[0m \u001B[32m━━━━━━━━━━━━━━━━━━━━\u001B[0m\u001B[37m\u001B[0m \u001B[1m0s\u001B[0m 56ms/step - accuracy: 0.9623 - loss: 0.3476 - val_accuracy: 0.8750 - val_loss: 0.4648 - learning_rate: 3.1250e-05\n",
      "Epoch 170/10000\n",
      "\u001B[1m3/3\u001B[0m \u001B[32m━━━━━━━━━━━━━━━━━━━━\u001B[0m\u001B[37m\u001B[0m \u001B[1m0s\u001B[0m 43ms/step - accuracy: 0.9770 - loss: 0.3257 - val_accuracy: 0.8750 - val_loss: 0.4579 - learning_rate: 3.1250e-05\n",
      "Epoch 171/10000\n",
      "\u001B[1m3/3\u001B[0m \u001B[32m━━━━━━━━━━━━━━━━━━━━\u001B[0m\u001B[37m\u001B[0m \u001B[1m0s\u001B[0m 45ms/step - accuracy: 0.8461 - loss: 0.4828 - val_accuracy: 0.8750 - val_loss: 0.4510 - learning_rate: 3.1250e-05\n",
      "Epoch 172/10000\n",
      "\u001B[1m3/3\u001B[0m \u001B[32m━━━━━━━━━━━━━━━━━━━━\u001B[0m\u001B[37m\u001B[0m \u001B[1m0s\u001B[0m 45ms/step - accuracy: 0.9348 - loss: 0.3851 - val_accuracy: 0.8750 - val_loss: 0.4413 - learning_rate: 3.1250e-05\n",
      "Epoch 173/10000\n",
      "\u001B[1m3/3\u001B[0m \u001B[32m━━━━━━━━━━━━━━━━━━━━\u001B[0m\u001B[37m\u001B[0m \u001B[1m0s\u001B[0m 51ms/step - accuracy: 0.7551 - loss: 0.8262 - val_accuracy: 0.8750 - val_loss: 0.4279 - learning_rate: 3.1250e-05\n",
      "Epoch 174/10000\n",
      "\u001B[1m3/3\u001B[0m \u001B[32m━━━━━━━━━━━━━━━━━━━━\u001B[0m\u001B[37m\u001B[0m \u001B[1m0s\u001B[0m 35ms/step - accuracy: 0.9155 - loss: 0.4730 - val_accuracy: 0.8750 - val_loss: 0.4168 - learning_rate: 3.1250e-05\n",
      "Epoch 175/10000\n",
      "\u001B[1m3/3\u001B[0m \u001B[32m━━━━━━━━━━━━━━━━━━━━\u001B[0m\u001B[37m\u001B[0m \u001B[1m0s\u001B[0m 54ms/step - accuracy: 0.9550 - loss: 0.3358 - val_accuracy: 0.8750 - val_loss: 0.4113 - learning_rate: 3.1250e-05\n",
      "Epoch 176/10000\n",
      "\u001B[1m3/3\u001B[0m \u001B[32m━━━━━━━━━━━━━━━━━━━━\u001B[0m\u001B[37m\u001B[0m \u001B[1m0s\u001B[0m 37ms/step - accuracy: 0.8712 - loss: 0.5623 - val_accuracy: 0.8750 - val_loss: 0.4071 - learning_rate: 3.1250e-05\n",
      "Epoch 177/10000\n",
      "\u001B[1m3/3\u001B[0m \u001B[32m━━━━━━━━━━━━━━━━━━━━\u001B[0m\u001B[37m\u001B[0m \u001B[1m0s\u001B[0m 53ms/step - accuracy: 0.9775 - loss: 0.3728 - val_accuracy: 0.8750 - val_loss: 0.4061 - learning_rate: 3.1250e-05\n",
      "Epoch 178/10000\n",
      "\u001B[1m3/3\u001B[0m \u001B[32m━━━━━━━━━━━━━━━━━━━━\u001B[0m\u001B[37m\u001B[0m \u001B[1m0s\u001B[0m 54ms/step - accuracy: 0.9626 - loss: 0.3213 - val_accuracy: 0.8750 - val_loss: 0.4070 - learning_rate: 3.1250e-05\n",
      "Epoch 179/10000\n",
      "\u001B[1m3/3\u001B[0m \u001B[32m━━━━━━━━━━━━━━━━━━━━\u001B[0m\u001B[37m\u001B[0m \u001B[1m0s\u001B[0m 37ms/step - accuracy: 0.9463 - loss: 0.4104 - val_accuracy: 0.8750 - val_loss: 0.4096 - learning_rate: 3.1250e-05\n",
      "Epoch 180/10000\n",
      "\u001B[1m3/3\u001B[0m \u001B[32m━━━━━━━━━━━━━━━━━━━━\u001B[0m\u001B[37m\u001B[0m \u001B[1m0s\u001B[0m 53ms/step - accuracy: 0.9548 - loss: 0.3766 - val_accuracy: 0.8750 - val_loss: 0.4108 - learning_rate: 3.1250e-05\n",
      "Epoch 181/10000\n",
      "\u001B[1m3/3\u001B[0m \u001B[32m━━━━━━━━━━━━━━━━━━━━\u001B[0m\u001B[37m\u001B[0m \u001B[1m0s\u001B[0m 37ms/step - accuracy: 0.9015 - loss: 0.4470 - val_accuracy: 0.8750 - val_loss: 0.4068 - learning_rate: 3.1250e-05\n",
      "Epoch 182/10000\n",
      "\u001B[1m3/3\u001B[0m \u001B[32m━━━━━━━━━━━━━━━━━━━━\u001B[0m\u001B[37m\u001B[0m \u001B[1m0s\u001B[0m 37ms/step - accuracy: 0.8654 - loss: 0.5097 - val_accuracy: 0.8750 - val_loss: 0.4087 - learning_rate: 3.1250e-05\n",
      "Epoch 183/10000\n",
      "\u001B[1m3/3\u001B[0m \u001B[32m━━━━━━━━━━━━━━━━━━━━\u001B[0m\u001B[37m\u001B[0m \u001B[1m0s\u001B[0m 55ms/step - accuracy: 0.9325 - loss: 0.3795 - val_accuracy: 0.8750 - val_loss: 0.4085 - learning_rate: 3.1250e-05\n",
      "Epoch 184/10000\n",
      "\u001B[1m3/3\u001B[0m \u001B[32m━━━━━━━━━━━━━━━━━━━━\u001B[0m\u001B[37m\u001B[0m \u001B[1m0s\u001B[0m 35ms/step - accuracy: 0.8691 - loss: 0.4144 - val_accuracy: 0.8750 - val_loss: 0.4056 - learning_rate: 3.1250e-05\n",
      "Epoch 185/10000\n",
      "\u001B[1m3/3\u001B[0m \u001B[32m━━━━━━━━━━━━━━━━━━━━\u001B[0m\u001B[37m\u001B[0m \u001B[1m0s\u001B[0m 53ms/step - accuracy: 0.9621 - loss: 0.3507 - val_accuracy: 0.8750 - val_loss: 0.4043 - learning_rate: 3.1250e-05\n",
      "Epoch 186/10000\n",
      "\u001B[1m3/3\u001B[0m \u001B[32m━━━━━━━━━━━━━━━━━━━━\u001B[0m\u001B[37m\u001B[0m \u001B[1m0s\u001B[0m 36ms/step - accuracy: 0.9318 - loss: 0.3498 - val_accuracy: 0.8750 - val_loss: 0.4066 - learning_rate: 3.1250e-05\n",
      "Epoch 187/10000\n",
      "\u001B[1m3/3\u001B[0m \u001B[32m━━━━━━━━━━━━━━━━━━━━\u001B[0m\u001B[37m\u001B[0m \u001B[1m0s\u001B[0m 36ms/step - accuracy: 0.9577 - loss: 0.3405 - val_accuracy: 0.8750 - val_loss: 0.4067 - learning_rate: 3.1250e-05\n",
      "Epoch 188/10000\n",
      "\u001B[1m3/3\u001B[0m \u001B[32m━━━━━━━━━━━━━━━━━━━━\u001B[0m\u001B[37m\u001B[0m \u001B[1m0s\u001B[0m 53ms/step - accuracy: 0.9249 - loss: 0.3621 - val_accuracy: 0.8750 - val_loss: 0.4089 - learning_rate: 3.1250e-05\n",
      "Epoch 189/10000\n",
      "\u001B[1m3/3\u001B[0m \u001B[32m━━━━━━━━━━━━━━━━━━━━\u001B[0m\u001B[37m\u001B[0m \u001B[1m0s\u001B[0m 37ms/step - accuracy: 0.9306 - loss: 0.3873 - val_accuracy: 0.8750 - val_loss: 0.4168 - learning_rate: 3.1250e-05\n",
      "Epoch 190/10000\n",
      "\u001B[1m3/3\u001B[0m \u001B[32m━━━━━━━━━━━━━━━━━━━━\u001B[0m\u001B[37m\u001B[0m \u001B[1m0s\u001B[0m 54ms/step - accuracy: 0.9176 - loss: 0.3611 - val_accuracy: 0.8750 - val_loss: 0.4266 - learning_rate: 3.1250e-05\n",
      "Epoch 191/10000\n",
      "\u001B[1m3/3\u001B[0m \u001B[32m━━━━━━━━━━━━━━━━━━━━\u001B[0m\u001B[37m\u001B[0m \u001B[1m0s\u001B[0m 37ms/step - accuracy: 0.9318 - loss: 0.4240 - val_accuracy: 0.8750 - val_loss: 0.4325 - learning_rate: 3.1250e-05\n",
      "Epoch 192/10000\n",
      "\u001B[1m3/3\u001B[0m \u001B[32m━━━━━━━━━━━━━━━━━━━━\u001B[0m\u001B[37m\u001B[0m \u001B[1m0s\u001B[0m 54ms/step - accuracy: 0.9176 - loss: 0.3565 - val_accuracy: 0.8750 - val_loss: 0.4353 - learning_rate: 3.1250e-05\n",
      "Epoch 193/10000\n",
      "\u001B[1m3/3\u001B[0m \u001B[32m━━━━━━━━━━━━━━━━━━━━\u001B[0m\u001B[37m\u001B[0m \u001B[1m0s\u001B[0m 36ms/step - accuracy: 0.9155 - loss: 0.3785 - val_accuracy: 0.8750 - val_loss: 0.4402 - learning_rate: 3.1250e-05\n",
      "Epoch 194/10000\n",
      "\u001B[1m3/3\u001B[0m \u001B[32m━━━━━━━━━━━━━━━━━━━━\u001B[0m\u001B[37m\u001B[0m \u001B[1m0s\u001B[0m 53ms/step - accuracy: 0.9699 - loss: 0.3051 - val_accuracy: 0.8750 - val_loss: 0.4475 - learning_rate: 3.1250e-05\n",
      "Epoch 195/10000\n",
      "\u001B[1m3/3\u001B[0m \u001B[32m━━━━━━━━━━━━━━━━━━━━\u001B[0m\u001B[37m\u001B[0m \u001B[1m0s\u001B[0m 36ms/step - accuracy: 0.9090 - loss: 0.4054 - val_accuracy: 0.8750 - val_loss: 0.4515 - learning_rate: 3.1250e-05\n",
      "Epoch 196/10000\n",
      "\u001B[1m3/3\u001B[0m \u001B[32m━━━━━━━━━━━━━━━━━━━━\u001B[0m\u001B[37m\u001B[0m \u001B[1m0s\u001B[0m 35ms/step - accuracy: 0.9015 - loss: 0.3983 - val_accuracy: 0.8750 - val_loss: 0.4543 - learning_rate: 1.5625e-05\n",
      "Epoch 197/10000\n",
      "\u001B[1m3/3\u001B[0m \u001B[32m━━━━━━━━━━━━━━━━━━━━\u001B[0m\u001B[37m\u001B[0m \u001B[1m0s\u001B[0m 38ms/step - accuracy: 0.9077 - loss: 0.4225 - val_accuracy: 0.8750 - val_loss: 0.4571 - learning_rate: 1.5625e-05\n",
      "Epoch 198/10000\n",
      "\u001B[1m3/3\u001B[0m \u001B[32m━━━━━━━━━━━━━━━━━━━━\u001B[0m\u001B[37m\u001B[0m \u001B[1m0s\u001B[0m 35ms/step - accuracy: 0.8939 - loss: 0.4416 - val_accuracy: 0.8750 - val_loss: 0.4588 - learning_rate: 1.5625e-05\n",
      "Epoch 199/10000\n",
      "\u001B[1m3/3\u001B[0m \u001B[32m━━━━━━━━━━━━━━━━━━━━\u001B[0m\u001B[37m\u001B[0m \u001B[1m0s\u001B[0m 36ms/step - accuracy: 0.8576 - loss: 0.4329 - val_accuracy: 0.8750 - val_loss: 0.4590 - learning_rate: 1.5625e-05\n",
      "Epoch 200/10000\n",
      "\u001B[1m3/3\u001B[0m \u001B[32m━━━━━━━━━━━━━━━━━━━━\u001B[0m\u001B[37m\u001B[0m \u001B[1m0s\u001B[0m 51ms/step - accuracy: 0.9401 - loss: 0.3647 - val_accuracy: 0.8750 - val_loss: 0.4597 - learning_rate: 1.5625e-05\n",
      "Epoch 201/10000\n",
      "\u001B[1m3/3\u001B[0m \u001B[32m━━━━━━━━━━━━━━━━━━━━\u001B[0m\u001B[37m\u001B[0m \u001B[1m0s\u001B[0m 51ms/step - accuracy: 0.9550 - loss: 0.3350 - val_accuracy: 0.8750 - val_loss: 0.4596 - learning_rate: 1.5625e-05\n",
      "Epoch 202/10000\n",
      "\u001B[1m3/3\u001B[0m \u001B[32m━━━━━━━━━━━━━━━━━━━━\u001B[0m\u001B[37m\u001B[0m \u001B[1m0s\u001B[0m 53ms/step - accuracy: 0.9550 - loss: 0.3794 - val_accuracy: 0.8750 - val_loss: 0.4578 - learning_rate: 1.5625e-05\n",
      "Epoch 203/10000\n",
      "\u001B[1m3/3\u001B[0m \u001B[32m━━━━━━━━━━━━━━━━━━━━\u001B[0m\u001B[37m\u001B[0m \u001B[1m0s\u001B[0m 53ms/step - accuracy: 0.9550 - loss: 0.3490 - val_accuracy: 0.8750 - val_loss: 0.4578 - learning_rate: 1.5625e-05\n",
      "Epoch 204/10000\n",
      "\u001B[1m3/3\u001B[0m \u001B[32m━━━━━━━━━━━━━━━━━━━━\u001B[0m\u001B[37m\u001B[0m \u001B[1m0s\u001B[0m 39ms/step - accuracy: 0.9166 - loss: 0.4040 - val_accuracy: 0.8750 - val_loss: 0.4594 - learning_rate: 1.5625e-05\n",
      "Epoch 205/10000\n",
      "\u001B[1m3/3\u001B[0m \u001B[32m━━━━━━━━━━━━━━━━━━━━\u001B[0m\u001B[37m\u001B[0m \u001B[1m0s\u001B[0m 51ms/step - accuracy: 0.9626 - loss: 0.3156 - val_accuracy: 0.8750 - val_loss: 0.4609 - learning_rate: 1.5625e-05\n",
      "Epoch 206/10000\n",
      "\u001B[1m3/3\u001B[0m \u001B[32m━━━━━━━━━━━━━━━━━━━━\u001B[0m\u001B[37m\u001B[0m \u001B[1m0s\u001B[0m 53ms/step - accuracy: 0.9476 - loss: 0.3625 - val_accuracy: 0.8750 - val_loss: 0.4610 - learning_rate: 7.8125e-06\n",
      "Epoch 207/10000\n",
      "\u001B[1m3/3\u001B[0m \u001B[32m━━━━━━━━━━━━━━━━━━━━\u001B[0m\u001B[37m\u001B[0m \u001B[1m0s\u001B[0m 38ms/step - accuracy: 0.8636 - loss: 0.4381 - val_accuracy: 0.8750 - val_loss: 0.4591 - learning_rate: 7.8125e-06\n",
      "Epoch 208/10000\n",
      "\u001B[1m3/3\u001B[0m \u001B[32m━━━━━━━━━━━━━━━━━━━━\u001B[0m\u001B[37m\u001B[0m \u001B[1m0s\u001B[0m 38ms/step - accuracy: 0.8999 - loss: 0.4895 - val_accuracy: 0.8750 - val_loss: 0.4580 - learning_rate: 7.8125e-06\n",
      "Epoch 209/10000\n",
      "\u001B[1m3/3\u001B[0m \u001B[32m━━━━━━━━━━━━━━━━━━━━\u001B[0m\u001B[37m\u001B[0m \u001B[1m0s\u001B[0m 38ms/step - accuracy: 0.9621 - loss: 0.3468 - val_accuracy: 0.8750 - val_loss: 0.4577 - learning_rate: 7.8125e-06\n",
      "Epoch 210/10000\n",
      "\u001B[1m3/3\u001B[0m \u001B[32m━━━━━━━━━━━━━━━━━━━━\u001B[0m\u001B[37m\u001B[0m \u001B[1m0s\u001B[0m 38ms/step - accuracy: 0.9015 - loss: 0.3843 - val_accuracy: 0.8750 - val_loss: 0.4578 - learning_rate: 7.8125e-06\n",
      "Epoch 211/10000\n",
      "\u001B[1m3/3\u001B[0m \u001B[32m━━━━━━━━━━━━━━━━━━━━\u001B[0m\u001B[37m\u001B[0m \u001B[1m0s\u001B[0m 52ms/step - accuracy: 0.9249 - loss: 0.3571 - val_accuracy: 0.8750 - val_loss: 0.4577 - learning_rate: 7.8125e-06\n",
      "Epoch 212/10000\n",
      "\u001B[1m3/3\u001B[0m \u001B[32m━━━━━━━━━━━━━━━━━━━━\u001B[0m\u001B[37m\u001B[0m \u001B[1m0s\u001B[0m 53ms/step - accuracy: 0.9773 - loss: 0.3410 - val_accuracy: 0.8750 - val_loss: 0.4566 - learning_rate: 7.8125e-06\n",
      "Epoch 213/10000\n",
      "\u001B[1m3/3\u001B[0m \u001B[32m━━━━━━━━━━━━━━━━━━━━\u001B[0m\u001B[37m\u001B[0m \u001B[1m0s\u001B[0m 40ms/step - accuracy: 0.9270 - loss: 0.4154 - val_accuracy: 0.8750 - val_loss: 0.4542 - learning_rate: 7.8125e-06\n",
      "Epoch 214/10000\n",
      "\u001B[1m3/3\u001B[0m \u001B[32m━━━━━━━━━━━━━━━━━━━━\u001B[0m\u001B[37m\u001B[0m \u001B[1m0s\u001B[0m 38ms/step - accuracy: 0.8408 - loss: 0.4716 - val_accuracy: 0.8750 - val_loss: 0.4531 - learning_rate: 7.8125e-06\n",
      "Epoch 215/10000\n",
      "\u001B[1m3/3\u001B[0m \u001B[32m━━━━━━━━━━━━━━━━━━━━\u001B[0m\u001B[37m\u001B[0m \u001B[1m0s\u001B[0m 54ms/step - accuracy: 0.9100 - loss: 0.3972 - val_accuracy: 0.8750 - val_loss: 0.4524 - learning_rate: 7.8125e-06\n",
      "Epoch 216/10000\n",
      "\u001B[1m3/3\u001B[0m \u001B[32m━━━━━━━━━━━━━━━━━━━━\u001B[0m\u001B[37m\u001B[0m \u001B[1m0s\u001B[0m 52ms/step - accuracy: 0.8951 - loss: 0.4183 - val_accuracy: 0.8750 - val_loss: 0.4522 - learning_rate: 3.9063e-06\n",
      "Epoch 217/10000\n",
      "\u001B[1m3/3\u001B[0m \u001B[32m━━━━━━━━━━━━━━━━━━━━\u001B[0m\u001B[37m\u001B[0m \u001B[1m0s\u001B[0m 37ms/step - accuracy: 0.9545 - loss: 0.3980 - val_accuracy: 0.8750 - val_loss: 0.4516 - learning_rate: 3.9063e-06\n",
      "Epoch 218/10000\n",
      "\u001B[1m3/3\u001B[0m \u001B[32m━━━━━━━━━━━━━━━━━━━━\u001B[0m\u001B[37m\u001B[0m \u001B[1m0s\u001B[0m 52ms/step - accuracy: 0.8877 - loss: 0.4055 - val_accuracy: 0.8750 - val_loss: 0.4506 - learning_rate: 3.9063e-06\n",
      "Epoch 219/10000\n",
      "\u001B[1m3/3\u001B[0m \u001B[32m━━━━━━━━━━━━━━━━━━━━\u001B[0m\u001B[37m\u001B[0m \u001B[1m0s\u001B[0m 37ms/step - accuracy: 0.8654 - loss: 0.4943 - val_accuracy: 0.8750 - val_loss: 0.4485 - learning_rate: 3.9063e-06\n",
      "Epoch 220/10000\n",
      "\u001B[1m3/3\u001B[0m \u001B[32m━━━━━━━━━━━━━━━━━━━━\u001B[0m\u001B[37m\u001B[0m \u001B[1m0s\u001B[0m 54ms/step - accuracy: 0.9626 - loss: 0.3486 - val_accuracy: 0.8750 - val_loss: 0.4465 - learning_rate: 3.9063e-06\n",
      "Epoch 221/10000\n",
      "\u001B[1m3/3\u001B[0m \u001B[32m━━━━━━━━━━━━━━━━━━━━\u001B[0m\u001B[37m\u001B[0m \u001B[1m0s\u001B[0m 52ms/step - accuracy: 0.9626 - loss: 0.3186 - val_accuracy: 0.8750 - val_loss: 0.4450 - learning_rate: 3.9063e-06\n",
      "Epoch 222/10000\n",
      "\u001B[1m3/3\u001B[0m \u001B[32m━━━━━━━━━━━━━━━━━━━━\u001B[0m\u001B[37m\u001B[0m \u001B[1m0s\u001B[0m 37ms/step - accuracy: 0.9242 - loss: 0.3799 - val_accuracy: 0.8750 - val_loss: 0.4437 - learning_rate: 3.9063e-06\n",
      "Epoch 223/10000\n",
      "\u001B[1m3/3\u001B[0m \u001B[32m━━━━━━━━━━━━━━━━━━━━\u001B[0m\u001B[37m\u001B[0m \u001B[1m0s\u001B[0m 53ms/step - accuracy: 0.9325 - loss: 0.3880 - val_accuracy: 0.8750 - val_loss: 0.4423 - learning_rate: 3.9063e-06\n",
      "Epoch 224/10000\n",
      "\u001B[1m3/3\u001B[0m \u001B[32m━━━━━━━━━━━━━━━━━━━━\u001B[0m\u001B[37m\u001B[0m \u001B[1m0s\u001B[0m 55ms/step - accuracy: 0.9476 - loss: 0.3426 - val_accuracy: 0.8750 - val_loss: 0.4415 - learning_rate: 3.9063e-06\n",
      "Epoch 225/10000\n",
      "\u001B[1m3/3\u001B[0m \u001B[32m━━━━━━━━━━━━━━━━━━━━\u001B[0m\u001B[37m\u001B[0m \u001B[1m0s\u001B[0m 40ms/step - accuracy: 0.9306 - loss: 0.3711 - val_accuracy: 0.8750 - val_loss: 0.4414 - learning_rate: 3.9063e-06\n",
      "Epoch 226/10000\n",
      "\u001B[1m3/3\u001B[0m \u001B[32m━━━━━━━━━━━━━━━━━━━━\u001B[0m\u001B[37m\u001B[0m \u001B[1m0s\u001B[0m 39ms/step - accuracy: 0.9192 - loss: 0.3963 - val_accuracy: 0.8750 - val_loss: 0.4415 - learning_rate: 1.9531e-06\n",
      "Epoch 227/10000\n",
      "\u001B[1m3/3\u001B[0m \u001B[32m━━━━━━━━━━━━━━━━━━━━\u001B[0m\u001B[37m\u001B[0m \u001B[1m0s\u001B[0m 37ms/step - accuracy: 0.9077 - loss: 0.4172 - val_accuracy: 0.8750 - val_loss: 0.4416 - learning_rate: 1.9531e-06\n",
      "Epoch 228/10000\n",
      "\u001B[1m3/3\u001B[0m \u001B[32m━━━━━━━━━━━━━━━━━━━━\u001B[0m\u001B[37m\u001B[0m \u001B[1m0s\u001B[0m 53ms/step - accuracy: 0.9699 - loss: 0.2873 - val_accuracy: 0.8750 - val_loss: 0.4417 - learning_rate: 1.9531e-06\n",
      "Epoch 229/10000\n",
      "\u001B[1m3/3\u001B[0m \u001B[32m━━━━━━━━━━━━━━━━━━━━\u001B[0m\u001B[37m\u001B[0m \u001B[1m0s\u001B[0m 55ms/step - accuracy: 0.9251 - loss: 0.4033 - val_accuracy: 0.8750 - val_loss: 0.4416 - learning_rate: 1.9531e-06\n",
      "Epoch 230/10000\n",
      "\u001B[1m3/3\u001B[0m \u001B[32m━━━━━━━━━━━━━━━━━━━━\u001B[0m\u001B[37m\u001B[0m \u001B[1m0s\u001B[0m 56ms/step - accuracy: 0.9697 - loss: 0.3031 - val_accuracy: 0.8750 - val_loss: 0.4415 - learning_rate: 1.9531e-06\n",
      "Epoch 231/10000\n",
      "\u001B[1m3/3\u001B[0m \u001B[32m━━━━━━━━━━━━━━━━━━━━\u001B[0m\u001B[37m\u001B[0m \u001B[1m0s\u001B[0m 40ms/step - accuracy: 0.9545 - loss: 0.4196 - val_accuracy: 0.8750 - val_loss: 0.4413 - learning_rate: 1.9531e-06\n",
      "Epoch 232/10000\n",
      "\u001B[1m3/3\u001B[0m \u001B[32m━━━━━━━━━━━━━━━━━━━━\u001B[0m\u001B[37m\u001B[0m \u001B[1m0s\u001B[0m 57ms/step - accuracy: 0.9474 - loss: 0.3595 - val_accuracy: 0.8750 - val_loss: 0.4411 - learning_rate: 1.9531e-06\n",
      "Epoch 233/10000\n",
      "\u001B[1m3/3\u001B[0m \u001B[32m━━━━━━━━━━━━━━━━━━━━\u001B[0m\u001B[37m\u001B[0m \u001B[1m0s\u001B[0m 40ms/step - accuracy: 0.9306 - loss: 0.3775 - val_accuracy: 0.8750 - val_loss: 0.4410 - learning_rate: 1.9531e-06\n",
      "Epoch 234/10000\n",
      "\u001B[1m3/3\u001B[0m \u001B[32m━━━━━━━━━━━━━━━━━━━━\u001B[0m\u001B[37m\u001B[0m \u001B[1m0s\u001B[0m 38ms/step - accuracy: 0.8787 - loss: 0.4713 - val_accuracy: 0.8750 - val_loss: 0.4410 - learning_rate: 1.9531e-06\n",
      "Epoch 235/10000\n",
      "\u001B[1m3/3\u001B[0m \u001B[32m━━━━━━━━━━━━━━━━━━━━\u001B[0m\u001B[37m\u001B[0m \u001B[1m0s\u001B[0m 37ms/step - accuracy: 0.8711 - loss: 0.4217 - val_accuracy: 0.8750 - val_loss: 0.4410 - learning_rate: 1.9531e-06\n",
      "Epoch 236/10000\n",
      "\u001B[1m3/3\u001B[0m \u001B[32m━━━━━━━━━━━━━━━━━━━━\u001B[0m\u001B[37m\u001B[0m \u001B[1m0s\u001B[0m 41ms/step - accuracy: 0.9306 - loss: 0.4157 - val_accuracy: 0.8750 - val_loss: 0.4409 - learning_rate: 1.0000e-06\n",
      "Epoch 237/10000\n",
      "\u001B[1m3/3\u001B[0m \u001B[32m━━━━━━━━━━━━━━━━━━━━\u001B[0m\u001B[37m\u001B[0m \u001B[1m0s\u001B[0m 41ms/step - accuracy: 0.9394 - loss: 0.3515 - val_accuracy: 0.8750 - val_loss: 0.4408 - learning_rate: 1.0000e-06\n",
      "Epoch 238/10000\n",
      "\u001B[1m3/3\u001B[0m \u001B[32m━━━━━━━━━━━━━━━━━━━━\u001B[0m\u001B[37m\u001B[0m \u001B[1m0s\u001B[0m 40ms/step - accuracy: 0.9090 - loss: 0.4110 - val_accuracy: 0.8750 - val_loss: 0.4408 - learning_rate: 1.0000e-06\n",
      "Epoch 239/10000\n",
      "\u001B[1m3/3\u001B[0m \u001B[32m━━━━━━━━━━━━━━━━━━━━\u001B[0m\u001B[37m\u001B[0m \u001B[1m0s\u001B[0m 35ms/step - accuracy: 0.9697 - loss: 0.3046 - val_accuracy: 0.8750 - val_loss: 0.4408 - learning_rate: 1.0000e-06\n",
      "Epoch 240/10000\n",
      "\u001B[1m3/3\u001B[0m \u001B[32m━━━━━━━━━━━━━━━━━━━━\u001B[0m\u001B[37m\u001B[0m \u001B[1m0s\u001B[0m 53ms/step - accuracy: 0.9403 - loss: 0.3571 - val_accuracy: 0.8750 - val_loss: 0.4407 - learning_rate: 1.0000e-06\n",
      "Epoch 241/10000\n",
      "\u001B[1m3/3\u001B[0m \u001B[32m━━━━━━━━━━━━━━━━━━━━\u001B[0m\u001B[37m\u001B[0m \u001B[1m0s\u001B[0m 42ms/step - accuracy: 0.9192 - loss: 0.4160 - val_accuracy: 0.8750 - val_loss: 0.4406 - learning_rate: 1.0000e-06\n",
      "Epoch 242/10000\n",
      "\u001B[1m3/3\u001B[0m \u001B[32m━━━━━━━━━━━━━━━━━━━━\u001B[0m\u001B[37m\u001B[0m \u001B[1m0s\u001B[0m 37ms/step - accuracy: 0.9807 - loss: 0.3399 - val_accuracy: 0.8750 - val_loss: 0.4406 - learning_rate: 1.0000e-06\n",
      "Epoch 243/10000\n",
      "\u001B[1m3/3\u001B[0m \u001B[32m━━━━━━━━━━━━━━━━━━━━\u001B[0m\u001B[37m\u001B[0m \u001B[1m0s\u001B[0m 40ms/step - accuracy: 0.9270 - loss: 0.3646 - val_accuracy: 0.8750 - val_loss: 0.4404 - learning_rate: 1.0000e-06\n",
      "Epoch 244/10000\n",
      "\u001B[1m3/3\u001B[0m \u001B[32m━━━━━━━━━━━━━━━━━━━━\u001B[0m\u001B[37m\u001B[0m \u001B[1m0s\u001B[0m 35ms/step - accuracy: 0.9166 - loss: 0.4037 - val_accuracy: 0.8750 - val_loss: 0.4401 - learning_rate: 1.0000e-06\n",
      "Epoch 245/10000\n",
      "\u001B[1m3/3\u001B[0m \u001B[32m━━━━━━━━━━━━━━━━━━━━\u001B[0m\u001B[37m\u001B[0m \u001B[1m0s\u001B[0m 54ms/step - accuracy: 0.9323 - loss: 0.3699 - val_accuracy: 0.8750 - val_loss: 0.4399 - learning_rate: 1.0000e-06\n",
      "Epoch 246/10000\n",
      "\u001B[1m3/3\u001B[0m \u001B[32m━━━━━━━━━━━━━━━━━━━━\u001B[0m\u001B[37m\u001B[0m \u001B[1m0s\u001B[0m 37ms/step - accuracy: 0.9166 - loss: 0.4260 - val_accuracy: 0.8750 - val_loss: 0.4396 - learning_rate: 1.0000e-06\n",
      "Epoch 247/10000\n",
      "\u001B[1m3/3\u001B[0m \u001B[32m━━━━━━━━━━━━━━━━━━━━\u001B[0m\u001B[37m\u001B[0m \u001B[1m0s\u001B[0m 36ms/step - accuracy: 0.9077 - loss: 0.4121 - val_accuracy: 0.8750 - val_loss: 0.4394 - learning_rate: 1.0000e-06\n",
      "Epoch 248/10000\n",
      "\u001B[1m3/3\u001B[0m \u001B[32m━━━━━━━━━━━━━━━━━━━━\u001B[0m\u001B[37m\u001B[0m \u001B[1m0s\u001B[0m 36ms/step - accuracy: 0.9015 - loss: 0.3804 - val_accuracy: 0.8750 - val_loss: 0.4392 - learning_rate: 1.0000e-06\n",
      "Epoch 249/10000\n",
      "\u001B[1m3/3\u001B[0m \u001B[32m━━━━━━━━━━━━━━━━━━━━\u001B[0m\u001B[37m\u001B[0m \u001B[1m0s\u001B[0m 36ms/step - accuracy: 0.9697 - loss: 0.3359 - val_accuracy: 0.8750 - val_loss: 0.4390 - learning_rate: 1.0000e-06\n",
      "Epoch 250/10000\n",
      "\u001B[1m3/3\u001B[0m \u001B[32m━━━━━━━━━━━━━━━━━━━━\u001B[0m\u001B[37m\u001B[0m \u001B[1m0s\u001B[0m 50ms/step - accuracy: 0.9323 - loss: 0.3214 - val_accuracy: 0.8750 - val_loss: 0.4388 - learning_rate: 1.0000e-06\n",
      "Epoch 251/10000\n",
      "\u001B[1m3/3\u001B[0m \u001B[32m━━━━━━━━━━━━━━━━━━━━\u001B[0m\u001B[37m\u001B[0m \u001B[1m0s\u001B[0m 35ms/step - accuracy: 0.8806 - loss: 0.4501 - val_accuracy: 0.8750 - val_loss: 0.4386 - learning_rate: 1.0000e-06\n",
      "Epoch 252/10000\n",
      "\u001B[1m3/3\u001B[0m \u001B[32m━━━━━━━━━━━━━━━━━━━━\u001B[0m\u001B[37m\u001B[0m \u001B[1m0s\u001B[0m 50ms/step - accuracy: 0.9476 - loss: 0.3542 - val_accuracy: 0.8750 - val_loss: 0.4386 - learning_rate: 1.0000e-06\n",
      "Epoch 253/10000\n",
      "\u001B[1m3/3\u001B[0m \u001B[32m━━━━━━━━━━━━━━━━━━━━\u001B[0m\u001B[37m\u001B[0m \u001B[1m0s\u001B[0m 37ms/step - accuracy: 0.9192 - loss: 0.3768 - val_accuracy: 0.8750 - val_loss: 0.4385 - learning_rate: 1.0000e-06\n",
      "Epoch 254/10000\n",
      "\u001B[1m3/3\u001B[0m \u001B[32m━━━━━━━━━━━━━━━━━━━━\u001B[0m\u001B[37m\u001B[0m \u001B[1m0s\u001B[0m 35ms/step - accuracy: 0.9306 - loss: 0.4463 - val_accuracy: 0.8750 - val_loss: 0.4385 - learning_rate: 1.0000e-06\n",
      "Epoch 255/10000\n",
      "\u001B[1m3/3\u001B[0m \u001B[32m━━━━━━━━━━━━━━━━━━━━\u001B[0m\u001B[37m\u001B[0m \u001B[1m0s\u001B[0m 51ms/step - accuracy: 0.9623 - loss: 0.3376 - val_accuracy: 0.8750 - val_loss: 0.4386 - learning_rate: 1.0000e-06\n",
      "Epoch 256/10000\n",
      "\u001B[1m3/3\u001B[0m \u001B[32m━━━━━━━━━━━━━━━━━━━━\u001B[0m\u001B[37m\u001B[0m \u001B[1m0s\u001B[0m 34ms/step - accuracy: 0.9318 - loss: 0.4159 - val_accuracy: 0.8750 - val_loss: 0.4387 - learning_rate: 1.0000e-06\n",
      "Epoch 257/10000\n",
      "\u001B[1m3/3\u001B[0m \u001B[32m━━━━━━━━━━━━━━━━━━━━\u001B[0m\u001B[37m\u001B[0m \u001B[1m0s\u001B[0m 52ms/step - accuracy: 0.9401 - loss: 0.4206 - val_accuracy: 0.8750 - val_loss: 0.4390 - learning_rate: 1.0000e-06\n",
      "Epoch 258/10000\n",
      "\u001B[1m3/3\u001B[0m \u001B[32m━━━━━━━━━━━━━━━━━━━━\u001B[0m\u001B[37m\u001B[0m \u001B[1m0s\u001B[0m 41ms/step - accuracy: 0.9348 - loss: 0.3880 - val_accuracy: 0.8750 - val_loss: 0.4392 - learning_rate: 1.0000e-06\n",
      "Epoch 259/10000\n",
      "\u001B[1m3/3\u001B[0m \u001B[32m━━━━━━━━━━━━━━━━━━━━\u001B[0m\u001B[37m\u001B[0m \u001B[1m0s\u001B[0m 37ms/step - accuracy: 0.8863 - loss: 0.4381 - val_accuracy: 0.8750 - val_loss: 0.4395 - learning_rate: 1.0000e-06\n",
      "Epoch 260/10000\n",
      "\u001B[1m3/3\u001B[0m \u001B[32m━━━━━━━━━━━━━━━━━━━━\u001B[0m\u001B[37m\u001B[0m \u001B[1m0s\u001B[0m 38ms/step - accuracy: 0.9469 - loss: 0.3853 - val_accuracy: 0.8750 - val_loss: 0.4396 - learning_rate: 1.0000e-06\n",
      "Epoch 261/10000\n",
      "\u001B[1m3/3\u001B[0m \u001B[32m━━━━━━━━━━━━━━━━━━━━\u001B[0m\u001B[37m\u001B[0m \u001B[1m0s\u001B[0m 51ms/step - accuracy: 0.9476 - loss: 0.3415 - val_accuracy: 0.8750 - val_loss: 0.4397 - learning_rate: 1.0000e-06\n",
      "Epoch 262/10000\n",
      "\u001B[1m3/3\u001B[0m \u001B[32m━━━━━━━━━━━━━━━━━━━━\u001B[0m\u001B[37m\u001B[0m \u001B[1m0s\u001B[0m 39ms/step - accuracy: 0.8461 - loss: 0.4483 - val_accuracy: 0.8750 - val_loss: 0.4397 - learning_rate: 1.0000e-06\n",
      "Epoch 263/10000\n",
      "\u001B[1m3/3\u001B[0m \u001B[32m━━━━━━━━━━━━━━━━━━━━\u001B[0m\u001B[37m\u001B[0m \u001B[1m0s\u001B[0m 37ms/step - accuracy: 0.8884 - loss: 0.4200 - val_accuracy: 0.8750 - val_loss: 0.4397 - learning_rate: 1.0000e-06\n",
      "Epoch 264/10000\n",
      "\u001B[1m3/3\u001B[0m \u001B[32m━━━━━━━━━━━━━━━━━━━━\u001B[0m\u001B[37m\u001B[0m \u001B[1m0s\u001B[0m 36ms/step - accuracy: 0.9306 - loss: 0.3727 - val_accuracy: 0.8750 - val_loss: 0.4398 - learning_rate: 1.0000e-06\n",
      "Epoch 265/10000\n",
      "\u001B[1m3/3\u001B[0m \u001B[32m━━━━━━━━━━━━━━━━━━━━\u001B[0m\u001B[37m\u001B[0m \u001B[1m0s\u001B[0m 56ms/step - accuracy: 0.9550 - loss: 0.3293 - val_accuracy: 0.8750 - val_loss: 0.4395 - learning_rate: 1.0000e-06\n",
      "Epoch 266/10000\n",
      "\u001B[1m3/3\u001B[0m \u001B[32m━━━━━━━━━━━━━━━━━━━━\u001B[0m\u001B[37m\u001B[0m \u001B[1m0s\u001B[0m 37ms/step - accuracy: 0.8863 - loss: 0.4150 - val_accuracy: 0.8750 - val_loss: 0.4393 - learning_rate: 1.0000e-06\n",
      "Epoch 267/10000\n",
      "\u001B[1m3/3\u001B[0m \u001B[32m━━━━━━━━━━━━━━━━━━━━\u001B[0m\u001B[37m\u001B[0m \u001B[1m0s\u001B[0m 37ms/step - accuracy: 0.8730 - loss: 0.5271 - val_accuracy: 0.8750 - val_loss: 0.4391 - learning_rate: 1.0000e-06\n",
      "Epoch 268/10000\n",
      "\u001B[1m3/3\u001B[0m \u001B[32m━━━━━━━━━━━━━━━━━━━━\u001B[0m\u001B[37m\u001B[0m \u001B[1m0s\u001B[0m 39ms/step - accuracy: 0.9885 - loss: 0.3415 - val_accuracy: 0.8750 - val_loss: 0.4389 - learning_rate: 1.0000e-06\n",
      "Epoch 269/10000\n",
      "\u001B[1m3/3\u001B[0m \u001B[32m━━━━━━━━━━━━━━━━━━━━\u001B[0m\u001B[37m\u001B[0m \u001B[1m0s\u001B[0m 38ms/step - accuracy: 0.9318 - loss: 0.3711 - val_accuracy: 0.8750 - val_loss: 0.4386 - learning_rate: 1.0000e-06\n",
      "Epoch 270/10000\n",
      "\u001B[1m3/3\u001B[0m \u001B[32m━━━━━━━━━━━━━━━━━━━━\u001B[0m\u001B[37m\u001B[0m \u001B[1m0s\u001B[0m 35ms/step - accuracy: 0.9090 - loss: 0.3913 - val_accuracy: 0.8750 - val_loss: 0.4385 - learning_rate: 1.0000e-06\n",
      "Epoch 271/10000\n",
      "\u001B[1m3/3\u001B[0m \u001B[32m━━━━━━━━━━━━━━━━━━━━\u001B[0m\u001B[37m\u001B[0m \u001B[1m0s\u001B[0m 34ms/step - accuracy: 0.9394 - loss: 0.3702 - val_accuracy: 0.8750 - val_loss: 0.4384 - learning_rate: 1.0000e-06\n",
      "Epoch 272/10000\n",
      "\u001B[1m3/3\u001B[0m \u001B[32m━━━━━━━━━━━━━━━━━━━━\u001B[0m\u001B[37m\u001B[0m \u001B[1m0s\u001B[0m 51ms/step - accuracy: 0.9699 - loss: 0.3594 - val_accuracy: 0.8750 - val_loss: 0.4383 - learning_rate: 1.0000e-06\n",
      "Epoch 273/10000\n",
      "\u001B[1m3/3\u001B[0m \u001B[32m━━━━━━━━━━━━━━━━━━━━\u001B[0m\u001B[37m\u001B[0m \u001B[1m0s\u001B[0m 34ms/step - accuracy: 0.9463 - loss: 0.4236 - val_accuracy: 0.8750 - val_loss: 0.4383 - learning_rate: 1.0000e-06\n",
      "Epoch 274/10000\n",
      "\u001B[1m3/3\u001B[0m \u001B[32m━━━━━━━━━━━━━━━━━━━━\u001B[0m\u001B[37m\u001B[0m \u001B[1m0s\u001B[0m 51ms/step - accuracy: 0.9550 - loss: 0.3408 - val_accuracy: 0.8750 - val_loss: 0.4382 - learning_rate: 1.0000e-06\n",
      "Epoch 275/10000\n",
      "\u001B[1m3/3\u001B[0m \u001B[32m━━━━━━━━━━━━━━━━━━━━\u001B[0m\u001B[37m\u001B[0m \u001B[1m0s\u001B[0m 37ms/step - accuracy: 0.8153 - loss: 0.5732 - val_accuracy: 0.8750 - val_loss: 0.4380 - learning_rate: 1.0000e-06\n",
      "Epoch 276/10000\n",
      "\u001B[1m3/3\u001B[0m \u001B[32m━━━━━━━━━━━━━━━━━━━━\u001B[0m\u001B[37m\u001B[0m \u001B[1m0s\u001B[0m 33ms/step - accuracy: 0.9113 - loss: 0.4623 - val_accuracy: 0.8750 - val_loss: 0.4379 - learning_rate: 1.0000e-06\n",
      "Epoch 277/10000\n",
      "\u001B[1m3/3\u001B[0m \u001B[32m━━━━━━━━━━━━━━━━━━━━\u001B[0m\u001B[37m\u001B[0m \u001B[1m0s\u001B[0m 52ms/step - accuracy: 0.9775 - loss: 0.3293 - val_accuracy: 0.8750 - val_loss: 0.4377 - learning_rate: 1.0000e-06\n",
      "Epoch 278/10000\n",
      "\u001B[1m3/3\u001B[0m \u001B[32m━━━━━━━━━━━━━━━━━━━━\u001B[0m\u001B[37m\u001B[0m \u001B[1m0s\u001B[0m 51ms/step - accuracy: 0.9775 - loss: 0.2931 - val_accuracy: 0.8750 - val_loss: 0.4375 - learning_rate: 1.0000e-06\n",
      "Epoch 279/10000\n",
      "\u001B[1m3/3\u001B[0m \u001B[32m━━━━━━━━━━━━━━━━━━━━\u001B[0m\u001B[37m\u001B[0m \u001B[1m0s\u001B[0m 35ms/step - accuracy: 0.9166 - loss: 0.3863 - val_accuracy: 0.8750 - val_loss: 0.4372 - learning_rate: 1.0000e-06\n",
      "Epoch 280/10000\n",
      "\u001B[1m3/3\u001B[0m \u001B[32m━━━━━━━━━━━━━━━━━━━━\u001B[0m\u001B[37m\u001B[0m \u001B[1m0s\u001B[0m 51ms/step - accuracy: 0.9249 - loss: 0.3478 - val_accuracy: 0.8750 - val_loss: 0.4370 - learning_rate: 1.0000e-06\n",
      "Epoch 281/10000\n",
      "\u001B[1m3/3\u001B[0m \u001B[32m━━━━━━━━━━━━━━━━━━━━\u001B[0m\u001B[37m\u001B[0m \u001B[1m0s\u001B[0m 34ms/step - accuracy: 0.8962 - loss: 0.4639 - val_accuracy: 0.8750 - val_loss: 0.4369 - learning_rate: 1.0000e-06\n",
      "Epoch 282/10000\n",
      "\u001B[1m3/3\u001B[0m \u001B[32m━━━━━━━━━━━━━━━━━━━━\u001B[0m\u001B[37m\u001B[0m \u001B[1m0s\u001B[0m 50ms/step - accuracy: 0.9476 - loss: 0.3528 - val_accuracy: 0.8750 - val_loss: 0.4370 - learning_rate: 1.0000e-06\n",
      "Epoch 283/10000\n",
      "\u001B[1m3/3\u001B[0m \u001B[32m━━━━━━━━━━━━━━━━━━━━\u001B[0m\u001B[37m\u001B[0m \u001B[1m0s\u001B[0m 36ms/step - accuracy: 0.9306 - loss: 0.3805 - val_accuracy: 0.8750 - val_loss: 0.4370 - learning_rate: 1.0000e-06\n",
      "Epoch 284/10000\n",
      "\u001B[1m3/3\u001B[0m \u001B[32m━━━━━━━━━━━━━━━━━━━━\u001B[0m\u001B[37m\u001B[0m \u001B[1m0s\u001B[0m 35ms/step - accuracy: 0.9242 - loss: 0.3896 - val_accuracy: 0.8750 - val_loss: 0.4371 - learning_rate: 1.0000e-06\n",
      "Epoch 285/10000\n",
      "\u001B[1m3/3\u001B[0m \u001B[32m━━━━━━━━━━━━━━━━━━━━\u001B[0m\u001B[37m\u001B[0m \u001B[1m0s\u001B[0m 34ms/step - accuracy: 0.8939 - loss: 0.4156 - val_accuracy: 0.8750 - val_loss: 0.4371 - learning_rate: 1.0000e-06\n",
      "Epoch 286/10000\n",
      "\u001B[1m3/3\u001B[0m \u001B[32m━━━━━━━━━━━━━━━━━━━━\u001B[0m\u001B[37m\u001B[0m \u001B[1m0s\u001B[0m 53ms/step - accuracy: 0.9249 - loss: 0.3441 - val_accuracy: 0.8750 - val_loss: 0.4371 - learning_rate: 1.0000e-06\n",
      "Epoch 287/10000\n",
      "\u001B[1m3/3\u001B[0m \u001B[32m━━━━━━━━━━━━━━━━━━━━\u001B[0m\u001B[37m\u001B[0m \u001B[1m0s\u001B[0m 38ms/step - accuracy: 0.9348 - loss: 0.3898 - val_accuracy: 0.8750 - val_loss: 0.4370 - learning_rate: 1.0000e-06\n",
      "Epoch 288/10000\n",
      "\u001B[1m3/3\u001B[0m \u001B[32m━━━━━━━━━━━━━━━━━━━━\u001B[0m\u001B[37m\u001B[0m \u001B[1m0s\u001B[0m 40ms/step - accuracy: 0.9697 - loss: 0.3322 - val_accuracy: 0.8750 - val_loss: 0.4369 - learning_rate: 1.0000e-06\n",
      "Epoch 289/10000\n",
      "\u001B[1m3/3\u001B[0m \u001B[32m━━━━━━━━━━━━━━━━━━━━\u001B[0m\u001B[37m\u001B[0m \u001B[1m0s\u001B[0m 40ms/step - accuracy: 0.9318 - loss: 0.4014 - val_accuracy: 0.8750 - val_loss: 0.4369 - learning_rate: 1.0000e-06\n",
      "Epoch 290/10000\n",
      "\u001B[1m3/3\u001B[0m \u001B[32m━━━━━━━━━━━━━━━━━━━━\u001B[0m\u001B[37m\u001B[0m \u001B[1m0s\u001B[0m 37ms/step - accuracy: 0.9469 - loss: 0.3938 - val_accuracy: 0.8750 - val_loss: 0.4369 - learning_rate: 1.0000e-06\n",
      "Epoch 291/10000\n",
      "\u001B[1m3/3\u001B[0m \u001B[32m━━━━━━━━━━━━━━━━━━━━\u001B[0m\u001B[37m\u001B[0m \u001B[1m0s\u001B[0m 37ms/step - accuracy: 0.9015 - loss: 0.4204 - val_accuracy: 0.8750 - val_loss: 0.4370 - learning_rate: 1.0000e-06\n",
      "Epoch 292/10000\n",
      "\u001B[1m3/3\u001B[0m \u001B[32m━━━━━━━━━━━━━━━━━━━━\u001B[0m\u001B[37m\u001B[0m \u001B[1m0s\u001B[0m 51ms/step - accuracy: 0.9775 - loss: 0.3070 - val_accuracy: 0.8750 - val_loss: 0.4370 - learning_rate: 1.0000e-06\n",
      "Epoch 293/10000\n",
      "\u001B[1m3/3\u001B[0m \u001B[32m━━━━━━━━━━━━━━━━━━━━\u001B[0m\u001B[37m\u001B[0m \u001B[1m0s\u001B[0m 37ms/step - accuracy: 0.9692 - loss: 0.3727 - val_accuracy: 0.8750 - val_loss: 0.4371 - learning_rate: 1.0000e-06\n",
      "Epoch 294/10000\n",
      "\u001B[1m3/3\u001B[0m \u001B[32m━━━━━━━━━━━━━━━━━━━━\u001B[0m\u001B[37m\u001B[0m \u001B[1m0s\u001B[0m 39ms/step - accuracy: 0.8939 - loss: 0.4177 - val_accuracy: 0.8750 - val_loss: 0.4370 - learning_rate: 1.0000e-06\n",
      "Epoch 295/10000\n",
      "\u001B[1m3/3\u001B[0m \u001B[32m━━━━━━━━━━━━━━━━━━━━\u001B[0m\u001B[37m\u001B[0m \u001B[1m0s\u001B[0m 51ms/step - accuracy: 0.9100 - loss: 0.3966 - val_accuracy: 0.8750 - val_loss: 0.4371 - learning_rate: 1.0000e-06\n",
      "Epoch 296/10000\n",
      "\u001B[1m3/3\u001B[0m \u001B[32m━━━━━━━━━━━━━━━━━━━━\u001B[0m\u001B[37m\u001B[0m \u001B[1m0s\u001B[0m 38ms/step - accuracy: 0.8787 - loss: 0.4509 - val_accuracy: 0.8750 - val_loss: 0.4373 - learning_rate: 1.0000e-06\n",
      "Epoch 297/10000\n",
      "\u001B[1m3/3\u001B[0m \u001B[32m━━━━━━━━━━━━━━━━━━━━\u001B[0m\u001B[37m\u001B[0m \u001B[1m0s\u001B[0m 41ms/step - accuracy: 0.9577 - loss: 0.3970 - val_accuracy: 0.8750 - val_loss: 0.4374 - learning_rate: 1.0000e-06\n",
      "Epoch 298/10000\n",
      "\u001B[1m3/3\u001B[0m \u001B[32m━━━━━━━━━━━━━━━━━━━━\u001B[0m\u001B[37m\u001B[0m \u001B[1m0s\u001B[0m 54ms/step - accuracy: 0.9401 - loss: 0.3419 - val_accuracy: 0.8750 - val_loss: 0.4376 - learning_rate: 1.0000e-06\n",
      "Epoch 299/10000\n",
      "\u001B[1m3/3\u001B[0m \u001B[32m━━━━━━━━━━━━━━━━━━━━\u001B[0m\u001B[37m\u001B[0m \u001B[1m0s\u001B[0m 53ms/step - accuracy: 0.9924 - loss: 0.2863 - val_accuracy: 0.8750 - val_loss: 0.4377 - learning_rate: 1.0000e-06\n",
      "Epoch 300/10000\n",
      "\u001B[1m3/3\u001B[0m \u001B[32m━━━━━━━━━━━━━━━━━━━━\u001B[0m\u001B[37m\u001B[0m \u001B[1m0s\u001B[0m 52ms/step - accuracy: 0.9474 - loss: 0.3248 - val_accuracy: 0.8750 - val_loss: 0.4377 - learning_rate: 1.0000e-06\n",
      "Epoch 301/10000\n",
      "\u001B[1m3/3\u001B[0m \u001B[32m━━━━━━━━━━━━━━━━━━━━\u001B[0m\u001B[37m\u001B[0m \u001B[1m0s\u001B[0m 53ms/step - accuracy: 0.9550 - loss: 0.3152 - val_accuracy: 0.8750 - val_loss: 0.4378 - learning_rate: 1.0000e-06\n",
      "Epoch 302/10000\n",
      "\u001B[1m3/3\u001B[0m \u001B[32m━━━━━━━━━━━━━━━━━━━━\u001B[0m\u001B[37m\u001B[0m \u001B[1m0s\u001B[0m 54ms/step - accuracy: 0.9474 - loss: 0.3233 - val_accuracy: 0.8750 - val_loss: 0.4379 - learning_rate: 1.0000e-06\n",
      "Epoch 303/10000\n",
      "\u001B[1m3/3\u001B[0m \u001B[32m━━━━━━━━━━━━━━━━━━━━\u001B[0m\u001B[37m\u001B[0m \u001B[1m0s\u001B[0m 34ms/step - accuracy: 0.9166 - loss: 0.4271 - val_accuracy: 0.8750 - val_loss: 0.4382 - learning_rate: 1.0000e-06\n",
      "Epoch 304/10000\n",
      "\u001B[1m3/3\u001B[0m \u001B[32m━━━━━━━━━━━━━━━━━━━━\u001B[0m\u001B[37m\u001B[0m \u001B[1m0s\u001B[0m 49ms/step - accuracy: 0.9476 - loss: 0.3213 - val_accuracy: 0.8750 - val_loss: 0.4383 - learning_rate: 1.0000e-06\n",
      "Epoch 305/10000\n",
      "\u001B[1m3/3\u001B[0m \u001B[32m━━━━━━━━━━━━━━━━━━━━\u001B[0m\u001B[37m\u001B[0m \u001B[1m0s\u001B[0m 49ms/step - accuracy: 0.9251 - loss: 0.3669 - val_accuracy: 0.8750 - val_loss: 0.4383 - learning_rate: 1.0000e-06\n",
      "Epoch 306/10000\n",
      "\u001B[1m3/3\u001B[0m \u001B[32m━━━━━━━━━━━━━━━━━━━━\u001B[0m\u001B[37m\u001B[0m \u001B[1m0s\u001B[0m 50ms/step - accuracy: 0.9398 - loss: 0.3213 - val_accuracy: 0.8750 - val_loss: 0.4381 - learning_rate: 1.0000e-06\n",
      "Epoch 307/10000\n",
      "\u001B[1m3/3\u001B[0m \u001B[32m━━━━━━━━━━━━━━━━━━━━\u001B[0m\u001B[37m\u001B[0m \u001B[1m0s\u001B[0m 35ms/step - accuracy: 0.9545 - loss: 0.3607 - val_accuracy: 0.8750 - val_loss: 0.4379 - learning_rate: 1.0000e-06\n",
      "Epoch 308/10000\n",
      "\u001B[1m3/3\u001B[0m \u001B[32m━━━━━━━━━━━━━━━━━━━━\u001B[0m\u001B[37m\u001B[0m \u001B[1m0s\u001B[0m 37ms/step - accuracy: 0.9077 - loss: 0.4031 - val_accuracy: 0.8750 - val_loss: 0.4378 - learning_rate: 1.0000e-06\n",
      "Epoch 309/10000\n",
      "\u001B[1m3/3\u001B[0m \u001B[32m━━━━━━━━━━━━━━━━━━━━\u001B[0m\u001B[37m\u001B[0m \u001B[1m0s\u001B[0m 35ms/step - accuracy: 0.9192 - loss: 0.4081 - val_accuracy: 0.8750 - val_loss: 0.4378 - learning_rate: 1.0000e-06\n",
      "Epoch 310/10000\n",
      "\u001B[1m3/3\u001B[0m \u001B[32m━━━━━━━━━━━━━━━━━━━━\u001B[0m\u001B[37m\u001B[0m \u001B[1m0s\u001B[0m 35ms/step - accuracy: 0.8576 - loss: 0.4464 - val_accuracy: 0.8750 - val_loss: 0.4380 - learning_rate: 1.0000e-06\n",
      "Epoch 311/10000\n",
      "\u001B[1m3/3\u001B[0m \u001B[32m━━━━━━━━━━━━━━━━━━━━\u001B[0m\u001B[37m\u001B[0m \u001B[1m0s\u001B[0m 35ms/step - accuracy: 0.9384 - loss: 0.3552 - val_accuracy: 0.8750 - val_loss: 0.4380 - learning_rate: 1.0000e-06\n",
      "Epoch 312/10000\n",
      "\u001B[1m3/3\u001B[0m \u001B[32m━━━━━━━━━━━━━━━━━━━━\u001B[0m\u001B[37m\u001B[0m \u001B[1m0s\u001B[0m 50ms/step - accuracy: 0.9548 - loss: 0.3364 - val_accuracy: 0.8750 - val_loss: 0.4381 - learning_rate: 1.0000e-06\n",
      "Epoch 313/10000\n",
      "\u001B[1m3/3\u001B[0m \u001B[32m━━━━━━━━━━━━━━━━━━━━\u001B[0m\u001B[37m\u001B[0m \u001B[1m0s\u001B[0m 36ms/step - accuracy: 0.9318 - loss: 0.3886 - val_accuracy: 0.8750 - val_loss: 0.4383 - learning_rate: 1.0000e-06\n",
      "Epoch 314/10000\n",
      "\u001B[1m3/3\u001B[0m \u001B[32m━━━━━━━━━━━━━━━━━━━━\u001B[0m\u001B[37m\u001B[0m \u001B[1m0s\u001B[0m 52ms/step - accuracy: 0.8953 - loss: 0.3904 - val_accuracy: 0.8750 - val_loss: 0.4383 - learning_rate: 1.0000e-06\n",
      "Epoch 315/10000\n",
      "\u001B[1m3/3\u001B[0m \u001B[32m━━━━━━━━━━━━━━━━━━━━\u001B[0m\u001B[37m\u001B[0m \u001B[1m0s\u001B[0m 37ms/step - accuracy: 0.9242 - loss: 0.4035 - val_accuracy: 0.8750 - val_loss: 0.4382 - learning_rate: 1.0000e-06\n",
      "Epoch 316/10000\n",
      "\u001B[1m3/3\u001B[0m \u001B[32m━━━━━━━━━━━━━━━━━━━━\u001B[0m\u001B[37m\u001B[0m \u001B[1m0s\u001B[0m 39ms/step - accuracy: 0.9155 - loss: 0.3876 - val_accuracy: 0.8750 - val_loss: 0.4383 - learning_rate: 1.0000e-06\n",
      "Epoch 317/10000\n",
      "\u001B[1m3/3\u001B[0m \u001B[32m━━━━━━━━━━━━━━━━━━━━\u001B[0m\u001B[37m\u001B[0m \u001B[1m0s\u001B[0m 59ms/step - accuracy: 0.9251 - loss: 0.3631 - val_accuracy: 0.8750 - val_loss: 0.4384 - learning_rate: 1.0000e-06\n",
      "Epoch 318/10000\n",
      "\u001B[1m3/3\u001B[0m \u001B[32m━━━━━━━━━━━━━━━━━━━━\u001B[0m\u001B[37m\u001B[0m \u001B[1m0s\u001B[0m 58ms/step - accuracy: 0.9251 - loss: 0.3487 - val_accuracy: 0.8750 - val_loss: 0.4383 - learning_rate: 1.0000e-06\n",
      "Epoch 319/10000\n",
      "\u001B[1m3/3\u001B[0m \u001B[32m━━━━━━━━━━━━━━━━━━━━\u001B[0m\u001B[37m\u001B[0m \u001B[1m0s\u001B[0m 41ms/step - accuracy: 0.9577 - loss: 0.3808 - val_accuracy: 0.8750 - val_loss: 0.4382 - learning_rate: 1.0000e-06\n",
      "Epoch 320/10000\n",
      "\u001B[1m3/3\u001B[0m \u001B[32m━━━━━━━━━━━━━━━━━━━━\u001B[0m\u001B[37m\u001B[0m \u001B[1m0s\u001B[0m 39ms/step - accuracy: 0.8939 - loss: 0.4392 - val_accuracy: 0.8750 - val_loss: 0.4381 - learning_rate: 1.0000e-06\n",
      "Epoch 321/10000\n",
      "\u001B[1m3/3\u001B[0m \u001B[32m━━━━━━━━━━━━━━━━━━━━\u001B[0m\u001B[37m\u001B[0m \u001B[1m0s\u001B[0m 39ms/step - accuracy: 0.9090 - loss: 0.3955 - val_accuracy: 0.8750 - val_loss: 0.4382 - learning_rate: 1.0000e-06\n",
      "Epoch 322/10000\n",
      "\u001B[1m3/3\u001B[0m \u001B[32m━━━━━━━━━━━━━━━━━━━━\u001B[0m\u001B[37m\u001B[0m \u001B[1m0s\u001B[0m 56ms/step - accuracy: 0.9401 - loss: 0.3816 - val_accuracy: 0.8750 - val_loss: 0.4383 - learning_rate: 1.0000e-06\n",
      "Epoch 323/10000\n",
      "\u001B[1m3/3\u001B[0m \u001B[32m━━━━━━━━━━━━━━━━━━━━\u001B[0m\u001B[37m\u001B[0m \u001B[1m0s\u001B[0m 43ms/step - accuracy: 0.9166 - loss: 0.4735 - val_accuracy: 0.8750 - val_loss: 0.4384 - learning_rate: 1.0000e-06\n",
      "Epoch 324/10000\n",
      "\u001B[1m3/3\u001B[0m \u001B[32m━━━━━━━━━━━━━━━━━━━━\u001B[0m\u001B[37m\u001B[0m \u001B[1m0s\u001B[0m 77ms/step - accuracy: 0.9176 - loss: 0.3613 - val_accuracy: 0.8750 - val_loss: 0.4384 - learning_rate: 1.0000e-06\n",
      "Epoch 325/10000\n",
      "\u001B[1m3/3\u001B[0m \u001B[32m━━━━━━━━━━━━━━━━━━━━\u001B[0m\u001B[37m\u001B[0m \u001B[1m0s\u001B[0m 58ms/step - accuracy: 0.9242 - loss: 0.4008 - val_accuracy: 0.8750 - val_loss: 0.4383 - learning_rate: 1.0000e-06\n",
      "Epoch 326/10000\n",
      "\u001B[1m3/3\u001B[0m \u001B[32m━━━━━━━━━━━━━━━━━━━━\u001B[0m\u001B[37m\u001B[0m \u001B[1m0s\u001B[0m 53ms/step - accuracy: 0.9192 - loss: 0.4144 - val_accuracy: 0.8750 - val_loss: 0.4383 - learning_rate: 1.0000e-06\n",
      "Epoch 327/10000\n",
      "\u001B[1m3/3\u001B[0m \u001B[32m━━━━━━━━━━━━━━━━━━━━\u001B[0m\u001B[37m\u001B[0m \u001B[1m0s\u001B[0m 47ms/step - accuracy: 0.9469 - loss: 0.3737 - val_accuracy: 0.8750 - val_loss: 0.4382 - learning_rate: 1.0000e-06\n"
     ]
    }
   ],
   "execution_count": 21
  },
  {
   "cell_type": "markdown",
   "id": "6dba5bb3",
   "metadata": {
    "papermill": {
     "duration": 0.080444,
     "end_time": "2024-07-11T08:40:16.947764",
     "exception": false,
     "start_time": "2024-07-11T08:40:16.867320",
     "status": "completed"
    },
    "tags": []
   },
   "source": [
    "Das Modell hat hier (hoffentlich) fertig trainiert, und keinen Fehler produziert (möglich wären z.B. OutofMemory-Fehler o.ä.). Überprüfen Sie das! Denn nur bei Erfolgreichem Training lohnt es sich nun, die Validierungsgenauigkeit angeben zu lassen."
   ]
  },
  {
   "cell_type": "code",
   "id": "f943ed8d",
   "metadata": {
    "execution": {
     "iopub.execute_input": "2024-07-11T08:40:17.111247Z",
     "iopub.status.busy": "2024-07-11T08:40:17.110581Z",
     "iopub.status.idle": "2024-07-11T08:40:17.126270Z",
     "shell.execute_reply": "2024-07-11T08:40:17.125475Z"
    },
    "papermill": {
     "duration": 0.099431,
     "end_time": "2024-07-11T08:40:17.128319",
     "exception": false,
     "start_time": "2024-07-11T08:40:17.028888",
     "status": "completed"
    },
    "tags": [],
    "ExecuteTime": {
     "end_time": "2024-12-30T10:04:45.177936Z",
     "start_time": "2024-12-30T10:04:45.163002Z"
    }
   },
   "source": [
    "loss, metrics = model.evaluate(val_ds)"
   ],
   "outputs": [
    {
     "name": "stdout",
     "output_type": "stream",
     "text": [
      "\u001B[1m1/1\u001B[0m \u001B[32m━━━━━━━━━━━━━━━━━━━━\u001B[0m\u001B[37m\u001B[0m \u001B[1m0s\u001B[0m 12ms/step - accuracy: 0.8750 - loss: 0.4382\n"
     ]
    }
   ],
   "execution_count": 22
  },
  {
   "cell_type": "code",
   "id": "cdee4cac",
   "metadata": {
    "execution": {
     "iopub.execute_input": "2024-07-11T08:40:17.291711Z",
     "iopub.status.busy": "2024-07-11T08:40:17.290972Z",
     "iopub.status.idle": "2024-07-11T08:40:17.296949Z",
     "shell.execute_reply": "2024-07-11T08:40:17.296050Z"
    },
    "papermill": {
     "duration": 0.089752,
     "end_time": "2024-07-11T08:40:17.298941",
     "exception": false,
     "start_time": "2024-07-11T08:40:17.209189",
     "status": "completed"
    },
    "tags": [],
    "ExecuteTime": {
     "end_time": "2024-12-30T10:04:45.187923Z",
     "start_time": "2024-12-30T10:04:45.185546Z"
    }
   },
   "source": [
    "loss, metrics ,history.history.keys()"
   ],
   "outputs": [
    {
     "data": {
      "text/plain": [
       "(0.4381905496120453,\n",
       " 0.875,\n",
       " dict_keys(['accuracy', 'loss', 'val_accuracy', 'val_loss', 'learning_rate']))"
      ]
     },
     "execution_count": 23,
     "metadata": {},
     "output_type": "execute_result"
    }
   ],
   "execution_count": 23
  },
  {
   "cell_type": "markdown",
   "id": "6201957b",
   "metadata": {
    "papermill": {
     "duration": 0.080051,
     "end_time": "2024-07-11T08:40:17.459404",
     "exception": false,
     "start_time": "2024-07-11T08:40:17.379353",
     "status": "completed"
    },
    "tags": []
   },
   "source": [
    "Das `history`-Objekt ist interessant, um zu sehen, wie der Trainingsverlauf war (wenn Sie das nicht schon auf Tensorboard gesehen haben."
   ]
  },
  {
   "cell_type": "code",
   "id": "03994b88",
   "metadata": {
    "execution": {
     "iopub.execute_input": "2024-07-11T08:40:17.623652Z",
     "iopub.status.busy": "2024-07-11T08:40:17.623013Z",
     "iopub.status.idle": "2024-07-11T08:40:17.870673Z",
     "shell.execute_reply": "2024-07-11T08:40:17.869813Z"
    },
    "papermill": {
     "duration": 0.333331,
     "end_time": "2024-07-11T08:40:17.873065",
     "exception": false,
     "start_time": "2024-07-11T08:40:17.539734",
     "status": "completed"
    },
    "tags": [],
    "ExecuteTime": {
     "end_time": "2024-12-30T10:04:45.325142Z",
     "start_time": "2024-12-30T10:04:45.260834Z"
    }
   },
   "source": [
    "plt.plot(history.history['accuracy'],label='acc')\n",
    "plt.plot(history.history['val_accuracy'],label='val_acc')\n",
    "plt.plot(history.history['loss'],label='loss')\n",
    "plt.plot(history.history['val_loss'],label='val_loss')\n",
    "plt.legend()\n",
    "#plt.savefig('Trainingskurven.png')"
   ],
   "outputs": [
    {
     "data": {
      "text/plain": [
       "<matplotlib.legend.Legend at 0x3382f0380>"
      ]
     },
     "execution_count": 24,
     "metadata": {},
     "output_type": "execute_result"
    },
    {
     "data": {
      "text/plain": [
       "<Figure size 640x480 with 1 Axes>"
      ],
      "image/png": "[encoded data removed]"
     },
     "metadata": {},
     "output_type": "display_data"
    }
   ],
   "execution_count": 24
  },
  {
   "cell_type": "markdown",
   "id": "602bd5b1",
   "metadata": {
    "papermill": {
     "duration": 0.081808,
     "end_time": "2024-07-11T08:40:18.037024",
     "exception": false,
     "start_time": "2024-07-11T08:40:17.955216",
     "status": "completed"
    },
    "tags": []
   },
   "source": [
    "Es lohnt sich, die Zeile\n",
    "\n",
    "    early_stopping_callback = tf.keras.callbacks.EarlyStopping(monitor='val_accuracy',patience=20)\n",
    "\n",
    "mal auf \n",
    "\n",
    "    early_stopping_callback = tf.keras.callbacks.EarlyStopping(monitor='val_accuracy',patience=200)\n",
    "\n",
    "o.ä. zu setzen, und ab der Zelle welche die Modelldefinition enthält (mit `model = keras.Model(...)`) den Code nochmals auszuführen (das Modell enthält die aktuellen Gewichte und trainiert bei erneutem Ausführen der `.fit`-Methode das bisherige Modell weiter, anstatt wieder neu bei zufällig initialisierten Gewichten zu beginnen!). Das Modell wird dann deutlich länger trainiert."
   ]
  },
  {
   "attachments": {
    "9a5e1b07-5a39-4763-a28a-81d7ebe52116.PNG": {
     "image/png": "[encoded data removed]"
    }
   },
   "cell_type": "markdown",
   "id": "13ec007d",
   "metadata": {
    "papermill": {
     "duration": 0.081143,
     "end_time": "2024-07-11T08:40:18.200055",
     "exception": false,
     "start_time": "2024-07-11T08:40:18.118912",
     "status": "completed"
    },
    "tags": []
   },
   "source": [
    "![Trainingskurven.PNG](attachment:9a5e1b07-5a39-4763-a28a-81d7ebe52116.PNG)"
   ]
  },
  {
   "cell_type": "markdown",
   "id": "0c1f27f2",
   "metadata": {
    "papermill": {
     "duration": 0.081264,
     "end_time": "2024-07-11T08:40:18.362398",
     "exception": false,
     "start_time": "2024-07-11T08:40:18.281134",
     "status": "completed"
    },
    "tags": []
   },
   "source": [
    "Beachten Sie, wie die Validierungsgenauigkeit schon lange stagniert, der Validierungsloss, d.h. der Wert der Verlustfunktion ausgewertet auf dem Validierungsdatensatz, seit etwa der 40. Epoche nur noch zunimmt. Der Validierungsdatensatz ist hier zu klein, um mehr sagen zu können, aber auch die Validierungsgenauigkeit scheint nach etwa der 40. Epoche abzunehmen! Es ist daher Wohl sinnvoll, dieses Modell auf diesem Datensatz nur 40 Epochen lang zu trainieren.\n",
    "\n",
    "Dazu können Sie also nochmals das Modell erstellen, die Anzahl Epochen auf 40 setzen und Ihr finales Modell trainieren.\n",
    "\n",
    "### Modell eine vorgegebene Anzahl Epochen lang trainieren"
   ]
  },
  {
   "cell_type": "code",
   "id": "a385e037",
   "metadata": {
    "execution": {
     "iopub.execute_input": "2024-07-11T08:40:18.526790Z",
     "iopub.status.busy": "2024-07-11T08:40:18.526416Z",
     "iopub.status.idle": "2024-07-11T08:40:23.620819Z",
     "shell.execute_reply": "2024-07-11T08:40:23.620001Z"
    },
    "papermill": {
     "duration": 5.17919,
     "end_time": "2024-07-11T08:40:23.623003",
     "exception": false,
     "start_time": "2024-07-11T08:40:18.443813",
     "status": "completed"
    },
    "tags": [],
    "ExecuteTime": {
     "end_time": "2024-12-30T10:04:57.314598Z",
     "start_time": "2024-12-30T10:04:45.326990Z"
    }
   },
   "source": [
    "vorgegebene_Anzahl_Epochen = 100 # Hier den Wert gemäss dem obigen Plot anpassen!\n",
    "final_model = make_model() # Die bisherigen Gewichte sind damit zurückgesetzt, d.h. es wird nicht weitertrainiert, sondern nochmals ganz von vorne.\n",
    "final_model.compile(optimizer='adam',\n",
    "              loss=tf.keras.losses.SparseCategoricalCrossentropy(from_logits=False),\n",
    "              metrics=['accuracy'])\n",
    "\n",
    "final_history = final_model.fit(\n",
    "  train_ds,\n",
    "  validation_data=val_ds,\n",
    "  epochs=vorgegebene_Anzahl_Epochen\n",
    ")"
   ],
   "outputs": [
    {
     "name": "stdout",
     "output_type": "stream",
     "text": [
      "Epoch 1/100\n",
      "\u001B[1m3/3\u001B[0m \u001B[32m━━━━━━━━━━━━━━━━━━━━\u001B[0m\u001B[37m\u001B[0m \u001B[1m1s\u001B[0m 78ms/step - accuracy: 0.2999 - loss: 7.3067 - val_accuracy: 0.1250 - val_loss: 6.7511\n",
      "Epoch 2/100\n",
      "\u001B[1m3/3\u001B[0m \u001B[32m━━━━━━━━━━━━━━━━━━━━\u001B[0m\u001B[37m\u001B[0m \u001B[1m0s\u001B[0m 37ms/step - accuracy: 0.2306 - loss: 6.5925 - val_accuracy: 0.1875 - val_loss: 5.9533\n",
      "Epoch 3/100\n",
      "\u001B[1m3/3\u001B[0m \u001B[32m━━━━━━━━━━━━━━━━━━━━\u001B[0m\u001B[37m\u001B[0m \u001B[1m0s\u001B[0m 38ms/step - accuracy: 0.3411 - loss: 5.8040 - val_accuracy: 0.1250 - val_loss: 5.3404\n",
      "Epoch 4/100\n",
      "\u001B[1m3/3\u001B[0m \u001B[32m━━━━━━━━━━━━━━━━━━━━\u001B[0m\u001B[37m\u001B[0m \u001B[1m0s\u001B[0m 34ms/step - accuracy: 0.2347 - loss: 5.1949 - val_accuracy: 0.1250 - val_loss: 4.7868\n",
      "Epoch 5/100\n",
      "\u001B[1m3/3\u001B[0m \u001B[32m━━━━━━━━━━━━━━━━━━━━\u001B[0m\u001B[37m\u001B[0m \u001B[1m0s\u001B[0m 30ms/step - accuracy: 0.3333 - loss: 4.6482 - val_accuracy: 0.1250 - val_loss: 4.3307\n",
      "Epoch 6/100\n",
      "\u001B[1m3/3\u001B[0m \u001B[32m━━━━━━━━━━━━━━━━━━━━\u001B[0m\u001B[37m\u001B[0m \u001B[1m0s\u001B[0m 33ms/step - accuracy: 0.3787 - loss: 4.1925 - val_accuracy: 0.1250 - val_loss: 3.9488\n",
      "Epoch 7/100\n",
      "\u001B[1m3/3\u001B[0m \u001B[32m━━━━━━━━━━━━━━━━━━━━\u001B[0m\u001B[37m\u001B[0m \u001B[1m0s\u001B[0m 49ms/step - accuracy: 0.5646 - loss: 3.7104 - val_accuracy: 0.1250 - val_loss: 3.6778\n",
      "Epoch 8/100\n",
      "\u001B[1m3/3\u001B[0m \u001B[32m━━━━━━━━━━━━━━━━━━━━\u001B[0m\u001B[37m\u001B[0m \u001B[1m0s\u001B[0m 48ms/step - accuracy: 0.3728 - loss: 3.4699 - val_accuracy: 0.1250 - val_loss: 3.4262\n",
      "Epoch 9/100\n",
      "\u001B[1m3/3\u001B[0m \u001B[32m━━━━━━━━━━━━━━━━━━━━\u001B[0m\u001B[37m\u001B[0m \u001B[1m0s\u001B[0m 48ms/step - accuracy: 0.3946 - loss: 3.2088 - val_accuracy: 0.1250 - val_loss: 3.1370\n",
      "Epoch 10/100\n",
      "\u001B[1m3/3\u001B[0m \u001B[32m━━━━━━━━━━━━━━━━━━━━\u001B[0m\u001B[37m\u001B[0m \u001B[1m0s\u001B[0m 33ms/step - accuracy: 0.3232 - loss: 3.0484 - val_accuracy: 0.1250 - val_loss: 2.8909\n",
      "Epoch 11/100\n",
      "\u001B[1m3/3\u001B[0m \u001B[32m━━━━━━━━━━━━━━━━━━━━\u001B[0m\u001B[37m\u001B[0m \u001B[1m0s\u001B[0m 37ms/step - accuracy: 0.3039 - loss: 2.8375 - val_accuracy: 0.1875 - val_loss: 2.7182\n",
      "Epoch 12/100\n",
      "\u001B[1m3/3\u001B[0m \u001B[32m━━━━━━━━━━━━━━━━━━━━\u001B[0m\u001B[37m\u001B[0m \u001B[1m0s\u001B[0m 38ms/step - accuracy: 0.3464 - loss: 2.6930 - val_accuracy: 0.1250 - val_loss: 2.5802\n",
      "Epoch 13/100\n",
      "\u001B[1m3/3\u001B[0m \u001B[32m━━━━━━━━━━━━━━━━━━━━\u001B[0m\u001B[37m\u001B[0m \u001B[1m0s\u001B[0m 35ms/step - accuracy: 0.3785 - loss: 2.5405 - val_accuracy: 0.1250 - val_loss: 2.4659\n",
      "Epoch 14/100\n",
      "\u001B[1m3/3\u001B[0m \u001B[32m━━━━━━━━━━━━━━━━━━━━\u001B[0m\u001B[37m\u001B[0m \u001B[1m0s\u001B[0m 35ms/step - accuracy: 0.3962 - loss: 2.4266 - val_accuracy: 0.1250 - val_loss: 2.3680\n",
      "Epoch 15/100\n",
      "\u001B[1m3/3\u001B[0m \u001B[32m━━━━━━━━━━━━━━━━━━━━\u001B[0m\u001B[37m\u001B[0m \u001B[1m0s\u001B[0m 38ms/step - accuracy: 0.3539 - loss: 2.3340 - val_accuracy: 0.1250 - val_loss: 2.2836\n",
      "Epoch 16/100\n",
      "\u001B[1m3/3\u001B[0m \u001B[32m━━━━━━━━━━━━━━━━━━━━\u001B[0m\u001B[37m\u001B[0m \u001B[1m0s\u001B[0m 37ms/step - accuracy: 0.3562 - loss: 2.2469 - val_accuracy: 0.1250 - val_loss: 2.2095\n",
      "Epoch 17/100\n",
      "\u001B[1m3/3\u001B[0m \u001B[32m━━━━━━━━━━━━━━━━━━━━\u001B[0m\u001B[37m\u001B[0m \u001B[1m0s\u001B[0m 33ms/step - accuracy: 0.3259 - loss: 2.1731 - val_accuracy: 0.1250 - val_loss: 2.1391\n",
      "Epoch 18/100\n",
      "\u001B[1m3/3\u001B[0m \u001B[32m━━━━━━━━━━━━━━━━━━━━\u001B[0m\u001B[37m\u001B[0m \u001B[1m0s\u001B[0m 35ms/step - accuracy: 0.4621 - loss: 2.0821 - val_accuracy: 0.1250 - val_loss: 2.0769\n",
      "Epoch 19/100\n",
      "\u001B[1m3/3\u001B[0m \u001B[32m━━━━━━━━━━━━━━━━━━━━\u001B[0m\u001B[37m\u001B[0m \u001B[1m0s\u001B[0m 36ms/step - accuracy: 0.2653 - loss: 2.0468 - val_accuracy: 0.1250 - val_loss: 2.0186\n",
      "Epoch 20/100\n",
      "\u001B[1m3/3\u001B[0m \u001B[32m━━━━━━━━━━━━━━━━━━━━\u001B[0m\u001B[37m\u001B[0m \u001B[1m0s\u001B[0m 34ms/step - accuracy: 0.3920 - loss: 1.9710 - val_accuracy: 0.1250 - val_loss: 1.9681\n",
      "Epoch 21/100\n",
      "\u001B[1m3/3\u001B[0m \u001B[32m━━━━━━━━━━━━━━━━━━━━\u001B[0m\u001B[37m\u001B[0m \u001B[1m0s\u001B[0m 35ms/step - accuracy: 0.3787 - loss: 1.9140 - val_accuracy: 0.1250 - val_loss: 1.9237\n",
      "Epoch 22/100\n",
      "\u001B[1m3/3\u001B[0m \u001B[32m━━━━━━━━━━━━━━━━━━━━\u001B[0m\u001B[37m\u001B[0m \u001B[1m0s\u001B[0m 35ms/step - accuracy: 0.3461 - loss: 1.8720 - val_accuracy: 0.1250 - val_loss: 1.8802\n",
      "Epoch 23/100\n",
      "\u001B[1m3/3\u001B[0m \u001B[32m━━━━━━━━━━━━━━━━━━━━\u001B[0m\u001B[37m\u001B[0m \u001B[1m0s\u001B[0m 51ms/step - accuracy: 0.2698 - loss: 1.8107 - val_accuracy: 0.1250 - val_loss: 1.8497\n",
      "Epoch 24/100\n",
      "\u001B[1m3/3\u001B[0m \u001B[32m━━━━━━━━━━━━━━━━━━━━\u001B[0m\u001B[37m\u001B[0m \u001B[1m0s\u001B[0m 47ms/step - accuracy: 0.4245 - loss: 1.7379 - val_accuracy: 0.1250 - val_loss: 1.8329\n",
      "Epoch 25/100\n",
      "\u001B[1m3/3\u001B[0m \u001B[32m━━━━━━━━━━━━━━━━━━━━\u001B[0m\u001B[37m\u001B[0m \u001B[1m0s\u001B[0m 49ms/step - accuracy: 0.3799 - loss: 1.7154 - val_accuracy: 0.1250 - val_loss: 1.8142\n",
      "Epoch 26/100\n",
      "\u001B[1m3/3\u001B[0m \u001B[32m━━━━━━━━━━━━━━━━━━━━\u001B[0m\u001B[37m\u001B[0m \u001B[1m0s\u001B[0m 45ms/step - accuracy: 0.3654 - loss: 1.6718 - val_accuracy: 0.1250 - val_loss: 1.7924\n",
      "Epoch 27/100\n",
      "\u001B[1m3/3\u001B[0m \u001B[32m━━━━━━━━━━━━━━━━━━━━\u001B[0m\u001B[37m\u001B[0m \u001B[1m0s\u001B[0m 32ms/step - accuracy: 0.3863 - loss: 1.6776 - val_accuracy: 0.1250 - val_loss: 1.7443\n",
      "Epoch 28/100\n",
      "\u001B[1m3/3\u001B[0m \u001B[32m━━━━━━━━━━━━━━━━━━━━\u001B[0m\u001B[37m\u001B[0m \u001B[1m0s\u001B[0m 32ms/step - accuracy: 0.2953 - loss: 1.6437 - val_accuracy: 0.1250 - val_loss: 1.6968\n",
      "Epoch 29/100\n",
      "\u001B[1m3/3\u001B[0m \u001B[32m━━━━━━━━━━━━━━━━━━━━\u001B[0m\u001B[37m\u001B[0m \u001B[1m0s\u001B[0m 32ms/step - accuracy: 0.3408 - loss: 1.6199 - val_accuracy: 0.1250 - val_loss: 1.6709\n",
      "Epoch 30/100\n",
      "\u001B[1m3/3\u001B[0m \u001B[32m━━━━━━━━━━━━━━━━━━━━\u001B[0m\u001B[37m\u001B[0m \u001B[1m0s\u001B[0m 32ms/step - accuracy: 0.3181 - loss: 1.5996 - val_accuracy: 0.0625 - val_loss: 1.6297\n",
      "Epoch 31/100\n",
      "\u001B[1m3/3\u001B[0m \u001B[32m━━━━━━━━━━━━━━━━━━━━\u001B[0m\u001B[37m\u001B[0m \u001B[1m0s\u001B[0m 46ms/step - accuracy: 0.5426 - loss: 1.4983 - val_accuracy: 0.0625 - val_loss: 1.6510\n",
      "Epoch 32/100\n",
      "\u001B[1m3/3\u001B[0m \u001B[32m━━━━━━━━━━━━━━━━━━━━\u001B[0m\u001B[37m\u001B[0m \u001B[1m0s\u001B[0m 32ms/step - accuracy: 0.3039 - loss: 1.5632 - val_accuracy: 0.0625 - val_loss: 1.6540\n",
      "Epoch 33/100\n",
      "\u001B[1m3/3\u001B[0m \u001B[32m━━━━━━━━━━━━━━━━━━━━\u001B[0m\u001B[37m\u001B[0m \u001B[1m0s\u001B[0m 31ms/step - accuracy: 0.3652 - loss: 1.5275 - val_accuracy: 0.0625 - val_loss: 1.6826\n",
      "Epoch 34/100\n",
      "\u001B[1m3/3\u001B[0m \u001B[32m━━━━━━━━━━━━━━━━━━━━\u001B[0m\u001B[37m\u001B[0m \u001B[1m0s\u001B[0m 32ms/step - accuracy: 0.3886 - loss: 1.5208 - val_accuracy: 0.0625 - val_loss: 1.6749\n",
      "Epoch 35/100\n",
      "\u001B[1m3/3\u001B[0m \u001B[32m━━━━━━━━━━━━━━━━━━━━\u001B[0m\u001B[37m\u001B[0m \u001B[1m0s\u001B[0m 34ms/step - accuracy: 0.3537 - loss: 1.4947 - val_accuracy: 0.0625 - val_loss: 1.5837\n",
      "Epoch 36/100\n",
      "\u001B[1m3/3\u001B[0m \u001B[32m━━━━━━━━━━━━━━━━━━━━\u001B[0m\u001B[37m\u001B[0m \u001B[1m0s\u001B[0m 50ms/step - accuracy: 0.4093 - loss: 1.4450 - val_accuracy: 0.1250 - val_loss: 1.5405\n",
      "Epoch 37/100\n",
      "\u001B[1m3/3\u001B[0m \u001B[32m━━━━━━━━━━━━━━━━━━━━\u001B[0m\u001B[37m\u001B[0m \u001B[1m0s\u001B[0m 33ms/step - accuracy: 0.3406 - loss: 1.4509 - val_accuracy: 0.0625 - val_loss: 1.5450\n",
      "Epoch 38/100\n",
      "\u001B[1m3/3\u001B[0m \u001B[32m━━━━━━━━━━━━━━━━━━━━\u001B[0m\u001B[37m\u001B[0m \u001B[1m0s\u001B[0m 32ms/step - accuracy: 0.3330 - loss: 1.4275 - val_accuracy: 0.2500 - val_loss: 1.5556\n",
      "Epoch 39/100\n",
      "\u001B[1m3/3\u001B[0m \u001B[32m━━━━━━━━━━━━━━━━━━━━\u001B[0m\u001B[37m\u001B[0m \u001B[1m0s\u001B[0m 33ms/step - accuracy: 0.4074 - loss: 1.4313 - val_accuracy: 0.4375 - val_loss: 1.4682\n",
      "Epoch 40/100\n",
      "\u001B[1m3/3\u001B[0m \u001B[32m━━━━━━━━━━━━━━━━━━━━\u001B[0m\u001B[37m\u001B[0m \u001B[1m0s\u001B[0m 47ms/step - accuracy: 0.2627 - loss: 1.5130 - val_accuracy: 0.3750 - val_loss: 1.4508\n",
      "Epoch 41/100\n",
      "\u001B[1m3/3\u001B[0m \u001B[32m━━━━━━━━━━━━━━━━━━━━\u001B[0m\u001B[37m\u001B[0m \u001B[1m0s\u001B[0m 32ms/step - accuracy: 0.2343 - loss: 1.5425 - val_accuracy: 0.1875 - val_loss: 1.4196\n",
      "Epoch 42/100\n",
      "\u001B[1m3/3\u001B[0m \u001B[32m━━━━━━━━━━━━━━━━━━━━\u001B[0m\u001B[37m\u001B[0m \u001B[1m0s\u001B[0m 50ms/step - accuracy: 0.4251 - loss: 1.3580 - val_accuracy: 0.1250 - val_loss: 1.4518\n",
      "Epoch 43/100\n",
      "\u001B[1m3/3\u001B[0m \u001B[32m━━━━━━━━━━━━━━━━━━━━\u001B[0m\u001B[37m\u001B[0m \u001B[1m0s\u001B[0m 36ms/step - accuracy: 0.3034 - loss: 1.4139 - val_accuracy: 0.1250 - val_loss: 1.4511\n",
      "Epoch 44/100\n",
      "\u001B[1m3/3\u001B[0m \u001B[32m━━━━━━━━━━━━━━━━━━━━\u001B[0m\u001B[37m\u001B[0m \u001B[1m0s\u001B[0m 35ms/step - accuracy: 0.4152 - loss: 1.3968 - val_accuracy: 0.1250 - val_loss: 1.4476\n",
      "Epoch 45/100\n",
      "\u001B[1m3/3\u001B[0m \u001B[32m━━━━━━━━━━━━━━━━━━━━\u001B[0m\u001B[37m\u001B[0m \u001B[1m0s\u001B[0m 50ms/step - accuracy: 0.4171 - loss: 1.3592 - val_accuracy: 0.1250 - val_loss: 1.4530\n",
      "Epoch 46/100\n",
      "\u001B[1m3/3\u001B[0m \u001B[32m━━━━━━━━━━━━━━━━━━━━\u001B[0m\u001B[37m\u001B[0m \u001B[1m0s\u001B[0m 50ms/step - accuracy: 0.4623 - loss: 1.3574 - val_accuracy: 0.1250 - val_loss: 1.4625\n",
      "Epoch 47/100\n",
      "\u001B[1m3/3\u001B[0m \u001B[32m━━━━━━━━━━━━━━━━━━━━\u001B[0m\u001B[37m\u001B[0m \u001B[1m0s\u001B[0m 35ms/step - accuracy: 0.3535 - loss: 1.3928 - val_accuracy: 0.0625 - val_loss: 1.4325\n",
      "Epoch 48/100\n",
      "\u001B[1m3/3\u001B[0m \u001B[32m━━━━━━━━━━━━━━━━━━━━\u001B[0m\u001B[37m\u001B[0m \u001B[1m0s\u001B[0m 34ms/step - accuracy: 0.3960 - loss: 1.3739 - val_accuracy: 0.0625 - val_loss: 1.4096\n",
      "Epoch 49/100\n",
      "\u001B[1m3/3\u001B[0m \u001B[32m━━━━━━━━━━━━━━━━━━━━\u001B[0m\u001B[37m\u001B[0m \u001B[1m0s\u001B[0m 36ms/step - accuracy: 0.3344 - loss: 1.3677 - val_accuracy: 0.0625 - val_loss: 1.4168\n",
      "Epoch 50/100\n",
      "\u001B[1m3/3\u001B[0m \u001B[32m━━━━━━━━━━━━━━━━━━━━\u001B[0m\u001B[37m\u001B[0m \u001B[1m0s\u001B[0m 34ms/step - accuracy: 0.3861 - loss: 1.3488 - val_accuracy: 0.1250 - val_loss: 1.4651\n",
      "Epoch 51/100\n",
      "\u001B[1m3/3\u001B[0m \u001B[32m━━━━━━━━━━━━━━━━━━━━\u001B[0m\u001B[37m\u001B[0m \u001B[1m0s\u001B[0m 36ms/step - accuracy: 0.4773 - loss: 1.3236 - val_accuracy: 0.1250 - val_loss: 1.5312\n",
      "Epoch 52/100\n",
      "\u001B[1m3/3\u001B[0m \u001B[32m━━━━━━━━━━━━━━━━━━━━\u001B[0m\u001B[37m\u001B[0m \u001B[1m0s\u001B[0m 36ms/step - accuracy: 0.3633 - loss: 1.3504 - val_accuracy: 0.0625 - val_loss: 1.5925\n",
      "Epoch 53/100\n",
      "\u001B[1m3/3\u001B[0m \u001B[32m━━━━━━━━━━━━━━━━━━━━\u001B[0m\u001B[37m\u001B[0m \u001B[1m0s\u001B[0m 34ms/step - accuracy: 0.5044 - loss: 1.3455 - val_accuracy: 0.5000 - val_loss: 1.2903\n",
      "Epoch 54/100\n",
      "\u001B[1m3/3\u001B[0m \u001B[32m━━━━━━━━━━━━━━━━━━━━\u001B[0m\u001B[37m\u001B[0m \u001B[1m0s\u001B[0m 36ms/step - accuracy: 0.4394 - loss: 1.3386 - val_accuracy: 0.3125 - val_loss: 1.3775\n",
      "Epoch 55/100\n",
      "\u001B[1m3/3\u001B[0m \u001B[32m━━━━━━━━━━━━━━━━━━━━\u001B[0m\u001B[37m\u001B[0m \u001B[1m0s\u001B[0m 48ms/step - accuracy: 0.4474 - loss: 1.1462 - val_accuracy: 0.0625 - val_loss: 1.4840\n",
      "Epoch 56/100\n",
      "\u001B[1m3/3\u001B[0m \u001B[32m━━━━━━━━━━━━━━━━━━━━\u001B[0m\u001B[37m\u001B[0m \u001B[1m0s\u001B[0m 51ms/step - accuracy: 0.5575 - loss: 1.1696 - val_accuracy: 0.0625 - val_loss: 1.4852\n",
      "Epoch 57/100\n",
      "\u001B[1m3/3\u001B[0m \u001B[32m━━━━━━━━━━━━━━━━━━━━\u001B[0m\u001B[37m\u001B[0m \u001B[1m0s\u001B[0m 50ms/step - accuracy: 0.5504 - loss: 1.1614 - val_accuracy: 0.1250 - val_loss: 1.4859\n",
      "Epoch 58/100\n",
      "\u001B[1m3/3\u001B[0m \u001B[32m━━━━━━━━━━━━━━━━━━━━\u001B[0m\u001B[37m\u001B[0m \u001B[1m0s\u001B[0m 48ms/step - accuracy: 0.5198 - loss: 1.1876 - val_accuracy: 0.4375 - val_loss: 1.3828\n",
      "Epoch 59/100\n",
      "\u001B[1m3/3\u001B[0m \u001B[32m━━━━━━━━━━━━━━━━━━━━\u001B[0m\u001B[37m\u001B[0m \u001B[1m0s\u001B[0m 32ms/step - accuracy: 0.3863 - loss: 1.4456 - val_accuracy: 0.4375 - val_loss: 1.2444\n",
      "Epoch 60/100\n",
      "\u001B[1m3/3\u001B[0m \u001B[32m━━━━━━━━━━━━━━━━━━━━\u001B[0m\u001B[37m\u001B[0m \u001B[1m0s\u001B[0m 32ms/step - accuracy: 0.3939 - loss: 1.3215 - val_accuracy: 0.6875 - val_loss: 1.1742\n",
      "Epoch 61/100\n",
      "\u001B[1m3/3\u001B[0m \u001B[32m━━━━━━━━━━━━━━━━━━━━\u001B[0m\u001B[37m\u001B[0m \u001B[1m0s\u001B[0m 48ms/step - accuracy: 0.6774 - loss: 1.0883 - val_accuracy: 0.6875 - val_loss: 1.0644\n",
      "Epoch 62/100\n",
      "\u001B[1m3/3\u001B[0m \u001B[32m━━━━━━━━━━━━━━━━━━━━\u001B[0m\u001B[37m\u001B[0m \u001B[1m0s\u001B[0m 48ms/step - accuracy: 0.4704 - loss: 1.1229 - val_accuracy: 0.6250 - val_loss: 1.0848\n",
      "Epoch 63/100\n",
      "\u001B[1m3/3\u001B[0m \u001B[32m━━━━━━━━━━━━━━━━━━━━\u001B[0m\u001B[37m\u001B[0m \u001B[1m0s\u001B[0m 33ms/step - accuracy: 0.4763 - loss: 1.1959 - val_accuracy: 0.4375 - val_loss: 1.0734\n",
      "Epoch 64/100\n",
      "\u001B[1m3/3\u001B[0m \u001B[32m━━━━━━━━━━━━━━━━━━━━\u001B[0m\u001B[37m\u001B[0m \u001B[1m0s\u001B[0m 48ms/step - accuracy: 0.6326 - loss: 0.9343 - val_accuracy: 0.5000 - val_loss: 1.0905\n",
      "Epoch 65/100\n",
      "\u001B[1m3/3\u001B[0m \u001B[32m━━━━━━━━━━━━━━━━━━━━\u001B[0m\u001B[37m\u001B[0m \u001B[1m0s\u001B[0m 47ms/step - accuracy: 0.6921 - loss: 0.9971 - val_accuracy: 0.4375 - val_loss: 1.0783\n",
      "Epoch 66/100\n",
      "\u001B[1m3/3\u001B[0m \u001B[32m━━━━━━━━━━━━━━━━━━━━\u001B[0m\u001B[37m\u001B[0m \u001B[1m0s\u001B[0m 47ms/step - accuracy: 0.6847 - loss: 0.9302 - val_accuracy: 0.6250 - val_loss: 1.0464\n",
      "Epoch 67/100\n",
      "\u001B[1m3/3\u001B[0m \u001B[32m━━━━━━━━━━━━━━━━━━━━\u001B[0m\u001B[37m\u001B[0m \u001B[1m0s\u001B[0m 46ms/step - accuracy: 0.7525 - loss: 0.8686 - val_accuracy: 0.6875 - val_loss: 1.0228\n",
      "Epoch 68/100\n",
      "\u001B[1m3/3\u001B[0m \u001B[32m━━━━━━━━━━━━━━━━━━━━\u001B[0m\u001B[37m\u001B[0m \u001B[1m0s\u001B[0m 32ms/step - accuracy: 0.7230 - loss: 1.0064 - val_accuracy: 0.6875 - val_loss: 0.8543\n",
      "Epoch 69/100\n",
      "\u001B[1m3/3\u001B[0m \u001B[32m━━━━━━━━━━━━━━━━━━━━\u001B[0m\u001B[37m\u001B[0m \u001B[1m0s\u001B[0m 33ms/step - accuracy: 0.6589 - loss: 0.9564 - val_accuracy: 0.6875 - val_loss: 0.8906\n",
      "Epoch 70/100\n",
      "\u001B[1m3/3\u001B[0m \u001B[32m━━━━━━━━━━━━━━━━━━━━\u001B[0m\u001B[37m\u001B[0m \u001B[1m0s\u001B[0m 48ms/step - accuracy: 0.7001 - loss: 0.8145 - val_accuracy: 0.6875 - val_loss: 0.9060\n",
      "Epoch 71/100\n",
      "\u001B[1m3/3\u001B[0m \u001B[32m━━━━━━━━━━━━━━━━━━━━\u001B[0m\u001B[37m\u001B[0m \u001B[1m0s\u001B[0m 49ms/step - accuracy: 0.7602 - loss: 0.8082 - val_accuracy: 0.7500 - val_loss: 0.8273\n",
      "Epoch 72/100\n",
      "\u001B[1m3/3\u001B[0m \u001B[32m━━━━━━━━━━━━━━━━━━━━\u001B[0m\u001B[37m\u001B[0m \u001B[1m0s\u001B[0m 48ms/step - accuracy: 0.6199 - loss: 1.0523 - val_accuracy: 0.7500 - val_loss: 0.7922\n",
      "Epoch 73/100\n",
      "\u001B[1m3/3\u001B[0m \u001B[32m━━━━━━━━━━━━━━━━━━━━\u001B[0m\u001B[37m\u001B[0m \u001B[1m0s\u001B[0m 32ms/step - accuracy: 0.6114 - loss: 1.0131 - val_accuracy: 0.7500 - val_loss: 0.8161\n",
      "Epoch 74/100\n",
      "\u001B[1m3/3\u001B[0m \u001B[32m━━━━━━━━━━━━━━━━━━━━\u001B[0m\u001B[37m\u001B[0m \u001B[1m0s\u001B[0m 50ms/step - accuracy: 0.7825 - loss: 0.9110 - val_accuracy: 0.6875 - val_loss: 0.9146\n",
      "Epoch 75/100\n",
      "\u001B[1m3/3\u001B[0m \u001B[32m━━━━━━━━━━━━━━━━━━━━\u001B[0m\u001B[37m\u001B[0m \u001B[1m0s\u001B[0m 35ms/step - accuracy: 0.6961 - loss: 0.9379 - val_accuracy: 0.7500 - val_loss: 0.8313\n",
      "Epoch 76/100\n",
      "\u001B[1m3/3\u001B[0m \u001B[32m━━━━━━━━━━━━━━━━━━━━\u001B[0m\u001B[37m\u001B[0m \u001B[1m0s\u001B[0m 51ms/step - accuracy: 0.7674 - loss: 0.8844 - val_accuracy: 0.7500 - val_loss: 0.8779\n",
      "Epoch 77/100\n",
      "\u001B[1m3/3\u001B[0m \u001B[32m━━━━━━━━━━━━━━━━━━━━\u001B[0m\u001B[37m\u001B[0m \u001B[1m0s\u001B[0m 51ms/step - accuracy: 0.7228 - loss: 0.7510 - val_accuracy: 0.6875 - val_loss: 0.9286\n",
      "Epoch 78/100\n",
      "\u001B[1m3/3\u001B[0m \u001B[32m━━━━━━━━━━━━━━━━━━━━\u001B[0m\u001B[37m\u001B[0m \u001B[1m0s\u001B[0m 34ms/step - accuracy: 0.6213 - loss: 1.0409 - val_accuracy: 0.7500 - val_loss: 0.8201\n",
      "Epoch 79/100\n",
      "\u001B[1m3/3\u001B[0m \u001B[32m━━━━━━━━━━━━━━━━━━━━\u001B[0m\u001B[37m\u001B[0m \u001B[1m0s\u001B[0m 52ms/step - accuracy: 0.7525 - loss: 0.8949 - val_accuracy: 0.6875 - val_loss: 0.8851\n",
      "Epoch 80/100\n",
      "\u001B[1m3/3\u001B[0m \u001B[32m━━━━━━━━━━━━━━━━━━━━\u001B[0m\u001B[37m\u001B[0m \u001B[1m0s\u001B[0m 49ms/step - accuracy: 0.7527 - loss: 0.8028 - val_accuracy: 0.6250 - val_loss: 0.9865\n",
      "Epoch 81/100\n",
      "\u001B[1m3/3\u001B[0m \u001B[32m━━━━━━━━━━━━━━━━━━━━\u001B[0m\u001B[37m\u001B[0m \u001B[1m0s\u001B[0m 35ms/step - accuracy: 0.6656 - loss: 0.9195 - val_accuracy: 0.7500 - val_loss: 1.0547\n",
      "Epoch 82/100\n",
      "\u001B[1m3/3\u001B[0m \u001B[32m━━━━━━━━━━━━━━━━━━━━\u001B[0m\u001B[37m\u001B[0m \u001B[1m0s\u001B[0m 35ms/step - accuracy: 0.6966 - loss: 0.9031 - val_accuracy: 0.7500 - val_loss: 1.0095\n",
      "Epoch 83/100\n",
      "\u001B[1m3/3\u001B[0m \u001B[32m━━━━━━━━━━━━━━━━━━━━\u001B[0m\u001B[37m\u001B[0m \u001B[1m0s\u001B[0m 36ms/step - accuracy: 0.6461 - loss: 0.9696 - val_accuracy: 0.6875 - val_loss: 1.0681\n",
      "Epoch 84/100\n",
      "\u001B[1m3/3\u001B[0m \u001B[32m━━━━━━━━━━━━━━━━━━━━\u001B[0m\u001B[37m\u001B[0m \u001B[1m0s\u001B[0m 53ms/step - accuracy: 0.7143 - loss: 0.9975 - val_accuracy: 0.4375 - val_loss: 1.1722\n",
      "Epoch 85/100\n",
      "\u001B[1m3/3\u001B[0m \u001B[32m━━━━━━━━━━━━━━━━━━━━\u001B[0m\u001B[37m\u001B[0m \u001B[1m0s\u001B[0m 36ms/step - accuracy: 0.5811 - loss: 1.1054 - val_accuracy: 0.7500 - val_loss: 0.8881\n",
      "Epoch 86/100\n",
      "\u001B[1m3/3\u001B[0m \u001B[32m━━━━━━━━━━━━━━━━━━━━\u001B[0m\u001B[37m\u001B[0m \u001B[1m0s\u001B[0m 35ms/step - accuracy: 0.6364 - loss: 1.0892 - val_accuracy: 0.7500 - val_loss: 0.8840\n",
      "Epoch 87/100\n",
      "\u001B[1m3/3\u001B[0m \u001B[32m━━━━━━━━━━━━━━━━━━━━\u001B[0m\u001B[37m\u001B[0m \u001B[1m0s\u001B[0m 32ms/step - accuracy: 0.6589 - loss: 0.9261 - val_accuracy: 0.8125 - val_loss: 0.8743\n",
      "Epoch 88/100\n",
      "\u001B[1m3/3\u001B[0m \u001B[32m━━━━━━━━━━━━━━━━━━━━\u001B[0m\u001B[37m\u001B[0m \u001B[1m0s\u001B[0m 47ms/step - accuracy: 0.7295 - loss: 0.9566 - val_accuracy: 0.5000 - val_loss: 0.9181\n",
      "Epoch 89/100\n",
      "\u001B[1m3/3\u001B[0m \u001B[32m━━━━━━━━━━━━━━━━━━━━\u001B[0m\u001B[37m\u001B[0m \u001B[1m0s\u001B[0m 45ms/step - accuracy: 0.7823 - loss: 0.9072 - val_accuracy: 0.5625 - val_loss: 0.9863\n",
      "Epoch 90/100\n",
      "\u001B[1m3/3\u001B[0m \u001B[32m━━━━━━━━━━━━━━━━━━━━\u001B[0m\u001B[37m\u001B[0m \u001B[1m0s\u001B[0m 35ms/step - accuracy: 0.6134 - loss: 1.1313 - val_accuracy: 0.6875 - val_loss: 1.0344\n",
      "Epoch 91/100\n",
      "\u001B[1m3/3\u001B[0m \u001B[32m━━━━━━━━━━━━━━━━━━━━\u001B[0m\u001B[37m\u001B[0m \u001B[1m0s\u001B[0m 48ms/step - accuracy: 0.8719 - loss: 0.7483 - val_accuracy: 0.6875 - val_loss: 1.0353\n",
      "Epoch 92/100\n",
      "\u001B[1m3/3\u001B[0m \u001B[32m━━━━━━━━━━━━━━━━━━━━\u001B[0m\u001B[37m\u001B[0m \u001B[1m0s\u001B[0m 48ms/step - accuracy: 0.7600 - loss: 0.7833 - val_accuracy: 0.6875 - val_loss: 1.0417\n",
      "Epoch 93/100\n",
      "\u001B[1m3/3\u001B[0m \u001B[32m━━━━━━━━━━━━━━━━━━━━\u001B[0m\u001B[37m\u001B[0m \u001B[1m0s\u001B[0m 51ms/step - accuracy: 0.7975 - loss: 0.8657 - val_accuracy: 0.6875 - val_loss: 1.0152\n",
      "Epoch 94/100\n",
      "\u001B[1m3/3\u001B[0m \u001B[32m━━━━━━━━━━━━━━━━━━━━\u001B[0m\u001B[37m\u001B[0m \u001B[1m0s\u001B[0m 33ms/step - accuracy: 0.6693 - loss: 0.9465 - val_accuracy: 0.7500 - val_loss: 0.8195\n",
      "Epoch 95/100\n",
      "\u001B[1m3/3\u001B[0m \u001B[32m━━━━━━━━━━━━━━━━━━━━\u001B[0m\u001B[37m\u001B[0m \u001B[1m0s\u001B[0m 47ms/step - accuracy: 0.7752 - loss: 0.7846 - val_accuracy: 0.7500 - val_loss: 0.7055\n",
      "Epoch 96/100\n",
      "\u001B[1m3/3\u001B[0m \u001B[32m━━━━━━━━━━━━━━━━━━━━\u001B[0m\u001B[37m\u001B[0m \u001B[1m0s\u001B[0m 33ms/step - accuracy: 0.7878 - loss: 0.7336 - val_accuracy: 0.7500 - val_loss: 0.6908\n",
      "Epoch 97/100\n",
      "\u001B[1m3/3\u001B[0m \u001B[32m━━━━━━━━━━━━━━━━━━━━\u001B[0m\u001B[37m\u001B[0m \u001B[1m0s\u001B[0m 35ms/step - accuracy: 0.8346 - loss: 0.7157 - val_accuracy: 0.7500 - val_loss: 0.7354\n",
      "Epoch 98/100\n",
      "\u001B[1m3/3\u001B[0m \u001B[32m━━━━━━━━━━━━━━━━━━━━\u001B[0m\u001B[37m\u001B[0m \u001B[1m0s\u001B[0m 34ms/step - accuracy: 0.8268 - loss: 0.6954 - val_accuracy: 0.8125 - val_loss: 0.7146\n",
      "Epoch 99/100\n",
      "\u001B[1m3/3\u001B[0m \u001B[32m━━━━━━━━━━━━━━━━━━━━\u001B[0m\u001B[37m\u001B[0m \u001B[1m0s\u001B[0m 48ms/step - accuracy: 0.8572 - loss: 0.6450 - val_accuracy: 0.7500 - val_loss: 0.7454\n",
      "Epoch 100/100\n",
      "\u001B[1m3/3\u001B[0m \u001B[32m━━━━━━━━━━━━━━━━━━━━\u001B[0m\u001B[37m\u001B[0m \u001B[1m0s\u001B[0m 32ms/step - accuracy: 0.7960 - loss: 0.7411 - val_accuracy: 0.7500 - val_loss: 0.8643\n"
     ]
    }
   ],
   "execution_count": 25
  },
  {
   "cell_type": "code",
   "id": "13e865ad",
   "metadata": {
    "execution": {
     "iopub.execute_input": "2024-07-11T08:40:23.836022Z",
     "iopub.status.busy": "2024-07-11T08:40:23.835708Z",
     "iopub.status.idle": "2024-07-11T08:40:24.131422Z",
     "shell.execute_reply": "2024-07-11T08:40:24.130553Z"
    },
    "papermill": {
     "duration": 0.40359,
     "end_time": "2024-07-11T08:40:24.133656",
     "exception": false,
     "start_time": "2024-07-11T08:40:23.730066",
     "status": "completed"
    },
    "tags": [],
    "ExecuteTime": {
     "end_time": "2024-12-30T10:04:57.375076Z",
     "start_time": "2024-12-30T10:04:57.315448Z"
    }
   },
   "source": [
    "plt.plot(final_history.history['accuracy'],label='acc')\n",
    "plt.plot(final_history.history['val_accuracy'],label='val_acc')\n",
    "plt.plot(final_history.history['loss'],label='loss')\n",
    "plt.plot(final_history.history['val_loss'],label='val_loss')\n",
    "plt.legend();"
   ],
   "outputs": [
    {
     "data": {
      "text/plain": [
       "<Figure size 640x480 with 1 Axes>"
      ],
      "image/png": "[encoded data removed]"
     },
     "metadata": {},
     "output_type": "display_data"
    }
   ],
   "execution_count": 26
  },
  {
   "cell_type": "markdown",
   "id": "2bc550a6",
   "metadata": {
    "papermill": {
     "duration": 0.105436,
     "end_time": "2024-07-11T08:40:24.345943",
     "exception": false,
     "start_time": "2024-07-11T08:40:24.240507",
     "status": "completed"
    },
    "tags": []
   },
   "source": [
    "## Evaluation mit Validierungsdatensatz\n",
    "Eine angemessene Evaluation der Güte des Modells sollte auf dem Validierungsdatensatz passieren. Der Beispiel-Datensatz ist allerdings sehr klein! Entsprechend sind hier keine besonders robusten Resultate zu erwarten. "
   ]
  },
  {
   "cell_type": "code",
   "id": "5af07610",
   "metadata": {
    "execution": {
     "iopub.execute_input": "2024-07-11T08:40:24.560040Z",
     "iopub.status.busy": "2024-07-11T08:40:24.559670Z",
     "iopub.status.idle": "2024-07-11T08:40:24.613994Z",
     "shell.execute_reply": "2024-07-11T08:40:24.613083Z"
    },
    "papermill": {
     "duration": 0.163469,
     "end_time": "2024-07-11T08:40:24.615935",
     "exception": false,
     "start_time": "2024-07-11T08:40:24.452466",
     "status": "completed"
    },
    "tags": [],
    "ExecuteTime": {
     "end_time": "2024-12-30T10:04:57.393609Z",
     "start_time": "2024-12-30T10:04:57.375962Z"
    }
   },
   "source": [
    "#images = np.asarray(list(val_ds2.map(lambda x, y: x)))\n",
    "y = np.asarray(list(val_ds.unbatch().map(lambda x, y: y)))\n",
    "y.shape"
   ],
   "outputs": [
    {
     "data": {
      "text/plain": [
       "(16,)"
      ]
     },
     "execution_count": 27,
     "metadata": {},
     "output_type": "execute_result"
    }
   ],
   "execution_count": 27
  },
  {
   "cell_type": "code",
   "id": "b7e9af4e",
   "metadata": {
    "execution": {
     "iopub.execute_input": "2024-07-11T08:40:24.829289Z",
     "iopub.status.busy": "2024-07-11T08:40:24.828962Z",
     "iopub.status.idle": "2024-07-11T08:40:24.903734Z",
     "shell.execute_reply": "2024-07-11T08:40:24.902847Z"
    },
    "papermill": {
     "duration": 0.182913,
     "end_time": "2024-07-11T08:40:24.905646",
     "exception": false,
     "start_time": "2024-07-11T08:40:24.722733",
     "status": "completed"
    },
    "tags": [],
    "ExecuteTime": {
     "end_time": "2024-12-30T10:04:57.436554Z",
     "start_time": "2024-12-30T10:04:57.394653Z"
    }
   },
   "source": [
    "yhat = final_model.predict(val_ds)\n",
    "yhatnum = yhat.argmax(axis=1)\n",
    "yhatnum"
   ],
   "outputs": [
    {
     "name": "stdout",
     "output_type": "stream",
     "text": [
      "\u001B[1m1/1\u001B[0m \u001B[32m━━━━━━━━━━━━━━━━━━━━\u001B[0m\u001B[37m\u001B[0m \u001B[1m0s\u001B[0m 39ms/step\n"
     ]
    },
    {
     "data": {
      "text/plain": [
       "array([2, 1, 2, 1, 2, 1, 2, 2, 0, 0, 0, 0, 2, 2, 2, 1])"
      ]
     },
     "execution_count": 28,
     "metadata": {},
     "output_type": "execute_result"
    }
   ],
   "execution_count": 28
  },
  {
   "metadata": {
    "SqlCellData": {
     "variableName$1": "df_sql"
    },
    "ExecuteTime": {
     "end_time": "2024-12-30T10:04:57.404963Z",
     "start_time": "2024-12-30T10:04:57.394733Z"
    }
   },
   "cell_type": "code",
   "source": "%%sql\n",
   "id": "465aa7f3d2ee188b",
   "execution_count": null,
   "outputs": []
  },
  {
   "cell_type": "code",
   "id": "933a2d4e",
   "metadata": {
    "execution": {
     "iopub.execute_input": "2024-07-11T08:40:25.119637Z",
     "iopub.status.busy": "2024-07-11T08:40:25.119284Z",
     "iopub.status.idle": "2024-07-11T08:40:25.123216Z",
     "shell.execute_reply": "2024-07-11T08:40:25.122397Z"
    },
    "papermill": {
     "duration": 0.113183,
     "end_time": "2024-07-11T08:40:25.125068",
     "exception": false,
     "start_time": "2024-07-11T08:40:25.011885",
     "status": "completed"
    },
    "tags": [],
    "ExecuteTime": {
     "end_time": "2024-12-30T10:04:57.438728Z",
     "start_time": "2024-12-30T10:04:57.437397Z"
    }
   },
   "source": [
    "#skplt.metrics.plot_confusion_matrix?"
   ],
   "outputs": [],
   "execution_count": 29
  },
  {
   "cell_type": "code",
   "id": "14fb4f9a",
   "metadata": {
    "execution": {
     "iopub.execute_input": "2024-07-11T08:40:25.339391Z",
     "iopub.status.busy": "2024-07-11T08:40:25.338802Z",
     "iopub.status.idle": "2024-07-11T08:40:25.343566Z",
     "shell.execute_reply": "2024-07-11T08:40:25.342563Z"
    },
    "papermill": {
     "duration": 0.11422,
     "end_time": "2024-07-11T08:40:25.345635",
     "exception": false,
     "start_time": "2024-07-11T08:40:25.231415",
     "status": "completed"
    },
    "tags": [],
    "ExecuteTime": {
     "end_time": "2024-12-30T10:04:57.448402Z",
     "start_time": "2024-12-30T10:04:57.446997Z"
    }
   },
   "source": [
    "y_str = np.array(class_names)[y]\n",
    "yhat_str = np.array(class_names)[yhatnum]"
   ],
   "outputs": [],
   "execution_count": 30
  },
  {
   "metadata": {
    "ExecuteTime": {
     "end_time": "2024-12-30T10:04:57.450669Z",
     "start_time": "2024-12-30T10:04:57.449160Z"
    }
   },
   "cell_type": "code",
   "source": [
    "from sklearn.metrics import confusion_matrix, ConfusionMatrixDisplay\n",
    "import matplotlib.pyplot as plt\n"
   ],
   "id": "86e20d1629917f32",
   "outputs": [],
   "execution_count": 31
  },
  {
   "cell_type": "code",
   "id": "998fcdba",
   "metadata": {
    "execution": {
     "iopub.execute_input": "2024-07-11T08:40:25.559097Z",
     "iopub.status.busy": "2024-07-11T08:40:25.558749Z",
     "iopub.status.idle": "2024-07-11T08:40:27.695082Z",
     "shell.execute_reply": "2024-07-11T08:40:27.694153Z"
    },
    "papermill": {
     "duration": 2.245985,
     "end_time": "2024-07-11T08:40:27.697853",
     "exception": false,
     "start_time": "2024-07-11T08:40:25.451868",
     "status": "completed"
    },
    "tags": [],
    "ExecuteTime": {
     "end_time": "2024-12-30T10:04:57.692146Z",
     "start_time": "2024-12-30T10:04:57.457708Z"
    }
   },
   "source": [
    "fig,axlist = plt.subplots(1,2,figsize=(25,10));\n",
    "skplt.metrics.plot_confusion_matrix(y_str, yhat_str, normalize=True,ax=axlist[0]);axlist[0].tick_params(axis='x', rotation=45)\n",
    "skplt.metrics.plot_confusion_matrix(y_str, yhat_str, normalize=False,ax=axlist[1]);axlist[1].tick_params(axis='x', rotation=45)"
   ],
   "outputs": [
    {
     "data": {
      "text/plain": [
       "<Figure size 2500x1000 with 4 Axes>"
      ],
      "image/png": "[encoded data removed]"
     },
     "metadata": {},
     "output_type": "display_data"
    }
   ],
   "execution_count": 32
  },
  {
   "cell_type": "markdown",
   "id": "75f0956e",
   "metadata": {
    "papermill": {
     "duration": 0.10752,
     "end_time": "2024-07-11T08:40:27.915437",
     "exception": false,
     "start_time": "2024-07-11T08:40:27.807917",
     "status": "completed"
    },
    "tags": []
   },
   "source": [
    "# Abspeichern des Modells als Keras-Modell\n"
   ]
  },
  {
   "cell_type": "code",
   "id": "fb65346a",
   "metadata": {
    "execution": {
     "iopub.execute_input": "2024-07-11T08:40:28.132616Z",
     "iopub.status.busy": "2024-07-11T08:40:28.131774Z",
     "iopub.status.idle": "2024-07-11T08:40:28.212152Z",
     "shell.execute_reply": "2024-07-11T08:40:28.211081Z"
    },
    "papermill": {
     "duration": 0.190597,
     "end_time": "2024-07-11T08:40:28.214175",
     "exception": false,
     "start_time": "2024-07-11T08:40:28.023578",
     "status": "completed"
    },
    "tags": [],
    "ExecuteTime": {
     "end_time": "2024-12-30T10:04:57.726387Z",
     "start_time": "2024-12-30T10:04:57.693023Z"
    }
   },
   "source": [
    "Keras_Dateiname = f'model_{Datensatzname}.keras'\n",
    "voller_Keras_Dateiname = str(Path(model_output_path)/Keras_Dateiname)\n",
    "final_model.save(voller_Keras_Dateiname)\n",
    "print(f'Keras-Modell nach {voller_Keras_Dateiname} abgespeichert.')"
   ],
   "outputs": [
    {
     "name": "stdout",
     "output_type": "stream",
     "text": [
      "Keras-Modell nach Training/working/model/model_Besteck.keras abgespeichert.\n"
     ]
    }
   ],
   "execution_count": 33
  },
  {
   "cell_type": "markdown",
   "id": "d24917d8",
   "metadata": {
    "papermill": {
     "duration": 0.107432,
     "end_time": "2024-07-11T08:40:28.430639",
     "exception": false,
     "start_time": "2024-07-11T08:40:28.323207",
     "status": "completed"
    },
    "tags": []
   },
   "source": [
    "So kann man das Modell wieder laden:\n",
    "\n",
    "    model = tf.keras.models.load_model(voller_Keras_Dateiname)\n",
    "\n",
    "(Es gibt aber verwirrend viele Formate- .h5, .keras, etc. Siehe auch [hier](https://www.tensorflow.org/tutorials/keras/save_and_load). Wir möchten uns an das .h5-Format halten.)  \n",
    "Der folgende Befehl kann zur Vorhersage genutzt werden:"
   ]
  },
  {
   "cell_type": "code",
   "id": "6a1db20b",
   "metadata": {
    "execution": {
     "iopub.execute_input": "2024-07-11T08:40:28.649392Z",
     "iopub.status.busy": "2024-07-11T08:40:28.649028Z",
     "iopub.status.idle": "2024-07-11T08:40:28.810579Z",
     "shell.execute_reply": "2024-07-11T08:40:28.809802Z"
    },
    "papermill": {
     "duration": 0.274025,
     "end_time": "2024-07-11T08:40:28.812834",
     "exception": false,
     "start_time": "2024-07-11T08:40:28.538809",
     "status": "completed"
    },
    "tags": [],
    "ExecuteTime": {
     "end_time": "2024-12-30T10:04:57.777588Z",
     "start_time": "2024-12-30T10:04:57.727361Z"
    }
   },
   "source": [
    "loaded_model = tf.keras.models.load_model(voller_Keras_Dateiname)"
   ],
   "outputs": [],
   "execution_count": 34
  },
  {
   "cell_type": "code",
   "id": "2537990f",
   "metadata": {
    "execution": {
     "iopub.execute_input": "2024-07-11T08:40:29.032807Z",
     "iopub.status.busy": "2024-07-11T08:40:29.032055Z",
     "iopub.status.idle": "2024-07-11T08:40:29.111017Z",
     "shell.execute_reply": "2024-07-11T08:40:29.110120Z"
    },
    "papermill": {
     "duration": 0.19163,
     "end_time": "2024-07-11T08:40:29.113055",
     "exception": false,
     "start_time": "2024-07-11T08:40:28.921425",
     "status": "completed"
    },
    "tags": [],
    "ExecuteTime": {
     "end_time": "2024-12-30T10:04:57.819713Z",
     "start_time": "2024-12-30T10:04:57.778406Z"
    }
   },
   "source": [
    "loaded_model.predict(val_ds)"
   ],
   "outputs": [
    {
     "name": "stdout",
     "output_type": "stream",
     "text": [
      "\u001B[1m1/1\u001B[0m \u001B[32m━━━━━━━━━━━━━━━━━━━━\u001B[0m\u001B[37m\u001B[0m \u001B[1m0s\u001B[0m 38ms/step\n"
     ]
    },
    {
     "data": {
      "text/plain": [
       "array([[7.6261209e-03, 1.4200923e-08, 9.9237394e-01],\n",
       "       [2.7138047e-04, 9.9972695e-01, 1.7188164e-06],\n",
       "       [4.5258783e-02, 4.2298092e-07, 9.5474082e-01],\n",
       "       [2.7089380e-03, 9.9728143e-01, 9.5708101e-06],\n",
       "       [1.2584159e-01, 6.5592899e-06, 8.7415189e-01],\n",
       "       [2.5518765e-03, 9.9743783e-01, 1.0257620e-05],\n",
       "       [2.7964912e-02, 1.5700358e-07, 9.7203493e-01],\n",
       "       [6.2431702e-03, 3.8543221e-10, 9.9375677e-01],\n",
       "       [8.4902793e-01, 9.9816066e-07, 1.5097111e-01],\n",
       "       [7.2181231e-01, 2.6757798e-01, 1.0609721e-02],\n",
       "       [9.7087610e-01, 9.5944510e-05, 2.9027957e-02],\n",
       "       [8.3609426e-01, 5.4984439e-02, 1.0892128e-01],\n",
       "       [3.9069441e-01, 8.7021697e-05, 6.0921866e-01],\n",
       "       [2.0831032e-02, 2.0057967e-05, 9.7914892e-01],\n",
       "       [3.5198417e-02, 1.5821622e-07, 9.6480143e-01],\n",
       "       [2.7520484e-03, 9.9724323e-01, 4.6636346e-06]], dtype=float32)"
      ]
     },
     "execution_count": 35,
     "metadata": {},
     "output_type": "execute_result"
    }
   ],
   "execution_count": 35
  },
  {
   "cell_type": "markdown",
   "id": "f40100f7",
   "metadata": {
    "papermill": {
     "duration": 0.108301,
     "end_time": "2024-07-11T08:40:29.329668",
     "exception": false,
     "start_time": "2024-07-11T08:40:29.221367",
     "status": "completed"
    },
    "tags": []
   },
   "source": [
    "Das wär's! Nach dem Speichern (\"Save Version\" in Kaggle) kann das Modell heruntergeladen werden. Vergessen Sie nicht, welche Bilder Trainingsbilder, und welche Testbilder sind. Ein Modell, das overfittet, wird auf den Trainingsdaten eine viel bessere Performanz zeigen, als auf den Testbildern. Nur jene der Testbilder darf rapportiert werden, denn nur so gut ist die Verallgemeinerungsleistung des neuronalen Netzes. Wir speichern daher noch eine Excel-Datei mit den entsprechenden Zuordnungen ab:"
   ]
  },
  {
   "cell_type": "code",
   "id": "6fc61717",
   "metadata": {
    "execution": {
     "iopub.execute_input": "2024-07-11T08:40:29.546561Z",
     "iopub.status.busy": "2024-07-11T08:40:29.546206Z",
     "iopub.status.idle": "2024-07-11T08:40:29.554421Z",
     "shell.execute_reply": "2024-07-11T08:40:29.553531Z"
    },
    "papermill": {
     "duration": 0.118507,
     "end_time": "2024-07-11T08:40:29.556419",
     "exception": false,
     "start_time": "2024-07-11T08:40:29.437912",
     "status": "completed"
    },
    "tags": [],
    "ExecuteTime": {
     "end_time": "2024-12-30T10:04:57.823506Z",
     "start_time": "2024-12-30T10:04:57.820615Z"
    }
   },
   "source": [
    "ser = pd.Series(train_or_test)\n",
    "ser"
   ],
   "outputs": [
    {
     "data": {
      "text/plain": [
       "knife-big_1_03.jpg    train\n",
       "fork-big_2_01.jpg     train\n",
       "knife-big_3_12.jpg    train\n",
       "fork-big_0_10.jpg     train\n",
       "fork-big_0_04.jpg     train\n",
       "                      ...  \n",
       "spoon-big_0_11.jpg     test\n",
       "spoon-big_0_05.jpg     test\n",
       "spoon-big_0_04.jpg     test\n",
       "spoon-big_0_10.jpg     test\n",
       "fork-big_0_09.jpg      test\n",
       "Length: 140, dtype: object"
      ]
     },
     "execution_count": 36,
     "metadata": {},
     "output_type": "execute_result"
    }
   ],
   "execution_count": 36
  },
  {
   "cell_type": "code",
   "id": "e9e54d1e",
   "metadata": {
    "execution": {
     "iopub.execute_input": "2024-07-11T08:40:29.778330Z",
     "iopub.status.busy": "2024-07-11T08:40:29.777469Z",
     "iopub.status.idle": "2024-07-11T08:40:30.078920Z",
     "shell.execute_reply": "2024-07-11T08:40:30.077958Z"
    },
    "papermill": {
     "duration": 0.413716,
     "end_time": "2024-07-11T08:40:30.081115",
     "exception": false,
     "start_time": "2024-07-11T08:40:29.667399",
     "status": "completed"
    },
    "tags": [],
    "ExecuteTime": {
     "end_time": "2024-12-30T10:04:57.904072Z",
     "start_time": "2024-12-30T10:04:57.834607Z"
    }
   },
   "source": [
    "ser.to_excel('train_test_split.xlsx')\n",
    "ser.value_counts()"
   ],
   "outputs": [
    {
     "data": {
      "text/plain": [
       "train    82\n",
       "test     58\n",
       "Name: count, dtype: int64"
      ]
     },
     "execution_count": 37,
     "metadata": {},
     "output_type": "execute_result"
    }
   ],
   "execution_count": 37
  },
  {
   "cell_type": "markdown",
   "id": "2aeeba34",
   "metadata": {
    "papermill": {
     "duration": 0.108057,
     "end_time": "2024-07-11T08:40:30.298553",
     "exception": false,
     "start_time": "2024-07-11T08:40:30.190496",
     "status": "completed"
    },
    "tags": []
   },
   "source": [
    "Weiter geht's mit dem Notebook [Giraffenpuzzle-Evaluation](https://www.kaggle.com/code/toedtlifhsg/giraffenpuzzle-evaluation). Dort wollen wir die Performanz eines Modells evaluieren."
   ]
  },
  {
   "cell_type": "code",
   "id": "342b7ff3",
   "metadata": {
    "papermill": {
     "duration": 0.147517,
     "end_time": "2024-07-11T08:40:30.554415",
     "exception": false,
     "start_time": "2024-07-11T08:40:30.406898",
     "status": "completed"
    },
    "tags": [],
    "ExecuteTime": {
     "end_time": "2024-12-30T10:04:57.906190Z",
     "start_time": "2024-12-30T10:04:57.904970Z"
    }
   },
   "source": [],
   "outputs": [],
   "execution_count": null
  }
 ],
 "metadata": {
  "kaggle": {
   "accelerator": "none",
   "dataSources": [
    {
     "datasetId": 5200216,
     "sourceId": 8675720,
     "sourceType": "datasetVersion"
    }
   ],
   "dockerImageVersionId": 30733,
   "isGpuEnabled": false,
   "isInternetEnabled": true,
   "language": "python",
   "sourceType": "notebook"
  },
  "kernelspec": {
   "display_name": "Python 3",
   "language": "python",
   "name": "python3"
  },
  "language_info": {
   "codemirror_mode": {
    "name": "ipython",
    "version": 3
   },
   "file_extension": ".py",
   "mimetype": "text/x-python",
   "name": "python",
   "nbconvert_exporter": "python",
   "pygments_lexer": "ipython3",
   "version": "3.10.13"
  },
  "papermill": {
   "default_parameters": {},
   "duration": 55.247553,
   "end_time": "2024-07-11T08:40:33.454016",
   "environment_variables": {},
   "exception": null,
   "input_path": "__notebook__.ipynb",
   "output_path": "__notebook__.ipynb",
   "parameters": {},
   "start_time": "2024-07-11T08:39:38.206463",
   "version": "2.5.0"
  }
 },
 "nbformat": 4,
 "nbformat_minor": 5
}
