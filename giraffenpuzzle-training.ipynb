{
 "cells": [
  {
   "cell_type": "markdown",
   "id": "09a1a990",
   "metadata": {
    "papermill": {
     "duration": 0.015638,
     "end_time": "2024-07-11T08:39:40.910230",
     "exception": false,
     "start_time": "2024-07-11T08:39:40.894592",
     "status": "completed"
    },
    "tags": []
   },
   "source": [
    "# Model training\n",
    "In diesem Notebook trainieren wir ein Neuronales Netz auf den Trainingsdaten, welche wir im Schritt [Objektextraktion](https://www.kaggle.com/code/toedtlifhsg/giraffenpuzzle-objektextraktion) erstellt haben. Die Daten sollten in einer sog. Baumstruktur angeordnet sein: Wir brauchen ein Verzeichnis für jede Klasse, und darin alle Bilder dieser Klasse."
   ]
  },
  {
   "cell_type": "markdown",
   "id": "3573d187",
   "metadata": {
    "papermill": {
     "duration": 0.01473,
     "end_time": "2024-07-11T08:39:40.940125",
     "exception": false,
     "start_time": "2024-07-11T08:39:40.925395",
     "status": "completed"
    },
    "tags": []
   },
   "source": [
    "Zunächst müssen wir unsere Objektbilder finden. Dies sind Bilder mit einer engen *Bounding Box* um das Objekt herum: "
   ]
  },
  {
   "cell_type": "code",
   "id": "bb99564e",
   "metadata": {
    "execution": {
     "iopub.execute_input": "2024-07-11T08:39:40.972376Z",
     "iopub.status.busy": "2024-07-11T08:39:40.972036Z",
     "iopub.status.idle": "2024-07-11T08:39:41.994548Z",
     "shell.execute_reply": "2024-07-11T08:39:41.993638Z"
    },
    "papermill": {
     "duration": 1.04168,
     "end_time": "2024-07-11T08:39:41.996730",
     "exception": false,
     "start_time": "2024-07-11T08:39:40.955050",
     "status": "completed"
    },
    "tags": []
   },
   "source": [
    "#Der folgende Befehl ist ein Linux-Befehl\n",
    "!ls 1_object_extraction_output/Ausschnitte | head   # gebe nur die ersten 10 Dateien aus "
   ],
   "outputs": [],
   "execution_count": null
  },
  {
   "cell_type": "markdown",
   "id": "f01c46fe",
   "metadata": {
    "papermill": {
     "duration": 0.014839,
     "end_time": "2024-07-11T08:39:42.026940",
     "exception": false,
     "start_time": "2024-07-11T08:39:42.012101",
     "status": "completed"
    },
    "tags": []
   },
   "source": [
    "In der nächsten Zelle extrahieren wir die Klasse aus dem Dateinamen des Bildes"
   ]
  },
  {
   "cell_type": "code",
   "id": "c13f6b0b5d123053",
   "metadata": {},
   "source": [
    "from pathlib import Path\n",
    "import numpy as np\n",
    "import pandas as pd"
   ],
   "outputs": [],
   "execution_count": null
  },
  {
   "metadata": {
    "execution": {
     "iopub.execute_input": "2024-07-11T08:39:42.058433Z",
     "iopub.status.busy": "2024-07-11T08:39:42.058113Z",
     "iopub.status.idle": "2024-07-11T08:39:42.068175Z",
     "shell.execute_reply": "2024-07-11T08:39:42.067502Z"
    },
    "papermill": {
     "duration": 0.028291,
     "end_time": "2024-07-11T08:39:42.070154",
     "exception": false,
     "start_time": "2024-07-11T08:39:42.041863",
     "status": "completed"
    },
    "tags": []
   },
   "cell_type": "code",
   "source": [
    "\n",
    "files = [f for f in Path('1_object_extraction_output/Ausschnitte').glob('*')]\n",
    "s = files[0].name\n",
    "idx = s.find('_')\n",
    "Klassenliste = []\n",
    "filenameliste = [fn for fn in Path('1_object_extraction_output/Ausschnitte').glob('*')]\n",
    "for filename in filenameliste:\n",
    "    idx=filename.name.find('_')\n",
    "    klasse = filename.name[:idx]\n",
    "    Klassenliste.append(klasse)\n",
    "len(Klassenliste)\n",
    "Klassennamen = np.unique(Klassenliste).tolist()"
   ],
   "id": "905a1db2",
   "outputs": [],
   "execution_count": null
  },
  {
   "cell_type": "code",
   "id": "b93fdb8a",
   "metadata": {
    "execution": {
     "iopub.execute_input": "2024-07-11T08:39:42.101409Z",
     "iopub.status.busy": "2024-07-11T08:39:42.101141Z",
     "iopub.status.idle": "2024-07-11T08:39:42.847661Z",
     "shell.execute_reply": "2024-07-11T08:39:42.846746Z"
    },
    "papermill": {
     "duration": 0.764567,
     "end_time": "2024-07-11T08:39:42.849747",
     "exception": false,
     "start_time": "2024-07-11T08:39:42.085180",
     "status": "completed"
    },
    "tags": []
   },
   "source": [
    "\n",
    "Anzahl_Trainingsbeispiele = np.floor(pd.Series(Klassenliste).value_counts()*0.6).astype('int')\n",
    "Anzahl_Trainingsbeispiele"
   ],
   "outputs": [],
   "execution_count": null
  },
  {
   "cell_type": "markdown",
   "id": "28d12489",
   "metadata": {
    "papermill": {
     "duration": 0.01557,
     "end_time": "2024-07-11T08:39:42.881069",
     "exception": false,
     "start_time": "2024-07-11T08:39:42.865499",
     "status": "completed"
    },
    "tags": []
   },
   "source": [
    "Nun erstellen wir die Baumstruktur, und zwar unter dem folgenden Pfad (nicht in allen Pfaden lassen sich Unterverzeichnisse erstellen!):"
   ]
  },
  {
   "cell_type": "code",
   "id": "da3be040",
   "metadata": {
    "execution": {
     "iopub.execute_input": "2024-07-11T08:39:42.913006Z",
     "iopub.status.busy": "2024-07-11T08:39:42.912537Z",
     "iopub.status.idle": "2024-07-11T08:39:42.921551Z",
     "shell.execute_reply": "2024-07-11T08:39:42.920888Z"
    },
    "papermill": {
     "duration": 0.027014,
     "end_time": "2024-07-11T08:39:42.923400",
     "exception": false,
     "start_time": "2024-07-11T08:39:42.896386",
     "status": "completed"
    },
    "tags": []
   },
   "source": [
    "Baumstrukturpfad = 'Training'\n",
    "Baumstrukturpfad=Path(Baumstrukturpfad)\n",
    "(Baumstrukturpfad/'train').mkdir(parents=True,exist_ok=True)\n",
    "(Baumstrukturpfad/'test').mkdir(parents=True,exist_ok=True)\n",
    "for klasse in Klassennamen:\n",
    "    pfad_train = (Baumstrukturpfad/'train'/klasse)\n",
    "    pfad_test = (Baumstrukturpfad/'test'/klasse)\n",
    "\n",
    "    pfad_train.mkdir(parents=True,exist_ok=True)\n",
    "    pfad_test.mkdir(parents=True,exist_ok=True)"
   ],
   "outputs": [],
   "execution_count": null
  },
  {
   "cell_type": "markdown",
   "id": "f35ab373",
   "metadata": {
    "papermill": {
     "duration": 0.014833,
     "end_time": "2024-07-11T08:39:42.953470",
     "exception": false,
     "start_time": "2024-07-11T08:39:42.938637",
     "status": "completed"
    },
    "tags": []
   },
   "source": [
    "[DefaultDict-Dictionaries](https://www.python-kurs.eu/python3_dictionaries.php) sind im folgenden nützlich. [Dieses Video](https://ingo-janssen.de/python-erweiterte-datentypen-was-ist-defaultdict/) gibt eine gute Einführung."
   ]
  },
  {
   "cell_type": "code",
   "id": "528bd384",
   "metadata": {
    "execution": {
     "iopub.execute_input": "2024-07-11T08:39:42.984650Z",
     "iopub.status.busy": "2024-07-11T08:39:42.984367Z",
     "iopub.status.idle": "2024-07-11T08:39:42.990190Z",
     "shell.execute_reply": "2024-07-11T08:39:42.989323Z"
    },
    "papermill": {
     "duration": 0.023529,
     "end_time": "2024-07-11T08:39:42.992019",
     "exception": false,
     "start_time": "2024-07-11T08:39:42.968490",
     "status": "completed"
    },
    "tags": []
   },
   "source": [
    "from collections import defaultdict\n",
    "already_copied=defaultdict(lambda :0) #defaultdict's sind Dictionaries mit einem Default-Returnwert, hier 0 \n",
    "already_copied['noch nicht existierender Key']"
   ],
   "outputs": [],
   "execution_count": null
  },
  {
   "cell_type": "markdown",
   "id": "3f6ee880",
   "metadata": {
    "papermill": {
     "duration": 0.015055,
     "end_time": "2024-07-11T08:39:43.022158",
     "exception": false,
     "start_time": "2024-07-11T08:39:43.007103",
     "status": "completed"
    },
    "tags": []
   },
   "source": [
    "Wir bauen damit nun eine if/else-Klausel, so dass die in `Anzahl_Trainingsbeispiele` angegebene Anzahl Dateien als Trainingsdaten verwendet  (in das Unterverzeichnis 'train' kopiert) werden, und der Rest als Testdaten verwendet werden."
   ]
  },
  {
   "cell_type": "code",
   "id": "de617e76",
   "metadata": {
    "execution": {
     "iopub.execute_input": "2024-07-11T08:39:43.054016Z",
     "iopub.status.busy": "2024-07-11T08:39:43.053716Z",
     "iopub.status.idle": "2024-07-11T08:39:43.638208Z",
     "shell.execute_reply": "2024-07-11T08:39:43.637151Z"
    },
    "papermill": {
     "duration": 0.602769,
     "end_time": "2024-07-11T08:39:43.640219",
     "exception": false,
     "start_time": "2024-07-11T08:39:43.037450",
     "status": "completed"
    },
    "tags": []
   },
   "source": [
    "import shutil\n",
    "train_or_test=dict()\n",
    "i=0\n",
    "for ifile,(filename,klasse) in enumerate(zip(filenameliste,Klassenliste)):\n",
    "    if ifile<6: #einfach, um ein paar Erklärungen zu erhalten, aber nicht zu viele\n",
    "        print('kopiere',filename,'nach',Baumstrukturpfad/klasse/filename.name)\n",
    "    elif ifile==6:\n",
    "        print('...')\n",
    "    if already_copied[klasse]<Anzahl_Trainingsbeispiele[klasse]:\n",
    "        shutil.copyfile(filename,Baumstrukturpfad/'train'/klasse/filename.name)\n",
    "        already_copied[klasse]+=1 # zähle mit, wieviele Beispiele schon in das Verzeichnis 'train' kopiert wurden.\n",
    "        train_or_test[filename.name]='train'\n",
    "    else:\n",
    "        shutil.copyfile(filename,Baumstrukturpfad/'test'/klasse/filename.name)\n",
    "        train_or_test[filename.name]='test'\n",
    "    \n",
    "print('Done.')"
   ],
   "outputs": [],
   "execution_count": null
  },
  {
   "cell_type": "markdown",
   "id": "7c3fdc43",
   "metadata": {
    "papermill": {
     "duration": 0.015538,
     "end_time": "2024-07-11T08:39:43.671719",
     "exception": false,
     "start_time": "2024-07-11T08:39:43.656181",
     "status": "completed"
    },
    "tags": []
   },
   "source": [
    "Überprüfen wir, dass die Bilder an die richtige Stelle kopiert wurden!"
   ]
  },
  {
   "cell_type": "code",
   "id": "e0bf6fc3",
   "metadata": {
    "execution": {
     "iopub.execute_input": "2024-07-11T08:39:43.703768Z",
     "iopub.status.busy": "2024-07-11T08:39:43.703451Z",
     "iopub.status.idle": "2024-07-11T08:39:44.691728Z",
     "shell.execute_reply": "2024-07-11T08:39:44.690584Z"
    },
    "papermill": {
     "duration": 1.007226,
     "end_time": "2024-07-11T08:39:44.694268",
     "exception": false,
     "start_time": "2024-07-11T08:39:43.687042",
     "status": "completed"
    },
    "tags": []
   },
   "source": [
    "!ls {Baumstrukturpfad}/*/*"
   ],
   "outputs": [],
   "execution_count": null
  },
  {
   "cell_type": "markdown",
   "id": "1d3ff8bb",
   "metadata": {
    "papermill": {
     "duration": 0.015633,
     "end_time": "2024-07-11T08:39:44.725887",
     "exception": false,
     "start_time": "2024-07-11T08:39:44.710254",
     "status": "completed"
    },
    "tags": []
   },
   "source": [
    "Wir sollten im Folgenden *nur noch Trainingsbeispiele zum Training des neuronalen Netzes verwenden*. Die Testbeispiele nutzen wir erst, wenn das Neuronale Netzwerk fertig optimiert ist und kurz vor der Inbetriebnahme steht."
   ]
  },
  {
   "cell_type": "code",
   "id": "29e9375f",
   "metadata": {
    "execution": {
     "iopub.execute_input": "2024-07-11T08:39:44.758808Z",
     "iopub.status.busy": "2024-07-11T08:39:44.758449Z",
     "iopub.status.idle": "2024-07-11T08:39:57.687247Z",
     "shell.execute_reply": "2024-07-11T08:39:57.686367Z"
    },
    "papermill": {
     "duration": 12.947663,
     "end_time": "2024-07-11T08:39:57.689189",
     "exception": false,
     "start_time": "2024-07-11T08:39:44.741526",
     "status": "completed"
    },
    "tags": []
   },
   "source": [
    "import os,datetime\n",
    "os.environ[\"TF_CPP_MIN_LOG_LEVEL\"] = '1'\n",
    "#os.environ[\"CUDA_VISIBLE_DEVICES\"] = \"-1\" #dies schaltet die GPU aus. GPU-Nutzung führt bei mir zu einem Kernel-Crash... \n",
    "import tensorflow as tf\n",
    "import matplotlib.pyplot as plt\n",
    "from tensorflow.keras import layers\n",
    "import scikitplot as skplt\n",
    "from sklearn import metrics\n",
    "import numpy as np\n",
    "tf.config.list_physical_devices('GPU') #Wenn keine GPU Verfügbar ist, ist das nicht weiter schlimm (nur langsamer)"
   ],
   "outputs": [],
   "execution_count": null
  },
  {
   "cell_type": "markdown",
   "id": "fda9131e",
   "metadata": {
    "papermill": {
     "duration": 0.015704,
     "end_time": "2024-07-11T08:39:57.721174",
     "exception": false,
     "start_time": "2024-07-11T08:39:57.705470",
     "status": "completed"
    },
    "tags": []
   },
   "source": [
    "Die Unterverzeichnisse von `path` (2_labelling/Beispiel/Bauteile/) stellen die Klassen dar, welche gelernt werden. In jedem Unterverzeichniss sollten sich Bilder dieser Klasse befinden."
   ]
  },
  {
   "cell_type": "code",
   "id": "d66be1a9",
   "metadata": {
    "execution": {
     "iopub.execute_input": "2024-07-11T08:39:57.754058Z",
     "iopub.status.busy": "2024-07-11T08:39:57.753487Z",
     "iopub.status.idle": "2024-07-11T08:39:57.757696Z",
     "shell.execute_reply": "2024-07-11T08:39:57.756859Z"
    },
    "papermill": {
     "duration": 0.02279,
     "end_time": "2024-07-11T08:39:57.759679",
     "exception": false,
     "start_time": "2024-07-11T08:39:57.736889",
     "status": "completed"
    },
    "tags": []
   },
   "source": "Datensatzname = 'Besteck'  #Unbedingt anpassen! Das Trainierte Modell wird später mit diesem String bezeichnet.",
   "outputs": [],
   "execution_count": null
  },
  {
   "cell_type": "code",
   "id": "e8688a39",
   "metadata": {
    "execution": {
     "iopub.execute_input": "2024-07-11T08:39:57.792699Z",
     "iopub.status.busy": "2024-07-11T08:39:57.792209Z",
     "iopub.status.idle": "2024-07-11T08:39:57.797790Z",
     "shell.execute_reply": "2024-07-11T08:39:57.796966Z"
    },
    "papermill": {
     "duration": 0.024215,
     "end_time": "2024-07-11T08:39:57.799809",
     "exception": false,
     "start_time": "2024-07-11T08:39:57.775594",
     "status": "completed"
    },
    "tags": []
   },
   "source": [
    "Baumstrukturpfad = Path(os.path.expanduser(Baumstrukturpfad))\n",
    "downloadable_output_path = 'Training/working' #Nach Klick auf \"Save Version\" wird der Inhalt dieses Verzeichnisses als Output zugänglich.\n",
    "model_output_path = os.path.join(downloadable_output_path,'model')  # kann angepasst werden! Gut überprüfen\n",
    "if not os.path.exists(model_output_path):\n",
    "    os.mkdir(model_output_path)\n",
    "print(f'Modell wird nach {model_output_path} geschrieben')"
   ],
   "outputs": [],
   "execution_count": null
  },
  {
   "cell_type": "code",
   "id": "61536efb",
   "metadata": {
    "execution": {
     "iopub.execute_input": "2024-07-11T08:39:57.833404Z",
     "iopub.status.busy": "2024-07-11T08:39:57.832956Z",
     "iopub.status.idle": "2024-07-11T08:39:58.830727Z",
     "shell.execute_reply": "2024-07-11T08:39:58.829577Z"
    },
    "papermill": {
     "duration": 1.017661,
     "end_time": "2024-07-11T08:39:58.833470",
     "exception": false,
     "start_time": "2024-07-11T08:39:57.815809",
     "status": "completed"
    },
    "tags": []
   },
   "source": [
    "!ls {Baumstrukturpfad}/'train'"
   ],
   "outputs": [],
   "execution_count": null
  },
  {
   "cell_type": "markdown",
   "id": "09793b3f",
   "metadata": {
    "papermill": {
     "duration": 0.017232,
     "end_time": "2024-07-11T08:39:58.867833",
     "exception": false,
     "start_time": "2024-07-11T08:39:58.850601",
     "status": "completed"
    },
    "tags": []
   },
   "source": [
    "**In der letzten Zelle sollten die Klassen der Aufgabe angezeigt werden (nicht etwa die einzelnen Dateien). Ansonsten ist die Zeile mit `path=...` anzupassen!**  \n",
    "Wir trainieren auf Bildern, welche 64x64 Pixel gross sein sollten. Wenn sie es im obigen Pfad nicht sind, werden sie entsprechend angepasst."
   ]
  },
  {
   "cell_type": "code",
   "id": "208a3122",
   "metadata": {
    "execution": {
     "iopub.execute_input": "2024-07-11T08:39:58.941665Z",
     "iopub.status.busy": "2024-07-11T08:39:58.940778Z",
     "iopub.status.idle": "2024-07-11T08:39:58.945505Z",
     "shell.execute_reply": "2024-07-11T08:39:58.944649Z"
    },
    "papermill": {
     "duration": 0.024379,
     "end_time": "2024-07-11T08:39:58.947472",
     "exception": false,
     "start_time": "2024-07-11T08:39:58.923093",
     "status": "completed"
    },
    "tags": []
   },
   "source": [
    "image_size=(64,64)\n",
    "batch_size=32"
   ],
   "outputs": [],
   "execution_count": null
  },
  {
   "cell_type": "code",
   "id": "094cf0f0",
   "metadata": {
    "execution": {
     "iopub.execute_input": "2024-07-11T08:39:58.981198Z",
     "iopub.status.busy": "2024-07-11T08:39:58.980724Z",
     "iopub.status.idle": "2024-07-11T08:40:01.144980Z",
     "shell.execute_reply": "2024-07-11T08:40:01.144238Z"
    },
    "papermill": {
     "duration": 2.18328,
     "end_time": "2024-07-11T08:40:01.147059",
     "exception": false,
     "start_time": "2024-07-11T08:39:58.963779",
     "status": "completed"
    },
    "tags": []
   },
   "source": [
    "train_ds = tf.keras.utils.image_dataset_from_directory(\n",
    "  Baumstrukturpfad/'train',\n",
    "  validation_split=0.2,\n",
    "  subset=\"training\",\n",
    "  seed=123,\n",
    "  image_size=image_size,\n",
    "  batch_size=batch_size)\n",
    "\n",
    "val_ds = tf.keras.utils.image_dataset_from_directory(\n",
    "  Baumstrukturpfad/'train',  #es ist wichtig, dass zur Validierung keine Testdaten verwendet werden!\n",
    "  validation_split=0.2,\n",
    "  subset=\"validation\",\n",
    "  seed=123,\n",
    "  image_size=image_size,\n",
    "  batch_size=batch_size)\n"
   ],
   "outputs": [],
   "execution_count": null
  },
  {
   "cell_type": "markdown",
   "id": "37d94a40",
   "metadata": {
    "papermill": {
     "duration": 0.016218,
     "end_time": "2024-07-11T08:40:01.180121",
     "exception": false,
     "start_time": "2024-07-11T08:40:01.163903",
     "status": "completed"
    },
    "tags": []
   },
   "source": [
    "Keras hat nun alle Unterverzeichnisse eingelesen. Die Reihenfolge der Klassennamen können wir so ausgeben:"
   ]
  },
  {
   "cell_type": "code",
   "id": "a6bc9e74",
   "metadata": {
    "execution": {
     "iopub.execute_input": "2024-07-11T08:40:01.214106Z",
     "iopub.status.busy": "2024-07-11T08:40:01.213821Z",
     "iopub.status.idle": "2024-07-11T08:40:01.220139Z",
     "shell.execute_reply": "2024-07-11T08:40:01.219136Z"
    },
    "papermill": {
     "duration": 0.025565,
     "end_time": "2024-07-11T08:40:01.222057",
     "exception": false,
     "start_time": "2024-07-11T08:40:01.196492",
     "status": "completed"
    },
    "tags": []
   },
   "source": [
    "class_names = train_ds.class_names\n",
    "class_names"
   ],
   "outputs": [],
   "execution_count": null
  },
  {
   "cell_type": "markdown",
   "id": "781bc2e5",
   "metadata": {
    "papermill": {
     "duration": 0.016362,
     "end_time": "2024-07-11T08:40:01.254869",
     "exception": false,
     "start_time": "2024-07-11T08:40:01.238507",
     "status": "completed"
    },
    "tags": []
   },
   "source": [
    "Unser Modell wird später einfach nur z.B. \"Klasse 3\" ausspucken. Dies bedeutet dann, dass ein Bild der Klasse vorliegt, welche den namen des 4. Eintrags in obiger Liste hat.  \n",
    "\n",
    "Schauen wir uns ein paar Trainingsbilder an! Wenn Sie denken ,dass diese Bilder für das neuronale Netz eine zu geringe Auflösung haben, als dass etwas erkannt werden könnte: dann kann weiter oben der Wert der Variablen image_size angepasst werden. `image_size=(64,64)` sollte aber meist ausreichen."
   ]
  },
  {
   "cell_type": "code",
   "id": "2d521127",
   "metadata": {
    "execution": {
     "iopub.execute_input": "2024-07-11T08:40:01.289166Z",
     "iopub.status.busy": "2024-07-11T08:40:01.288896Z",
     "iopub.status.idle": "2024-07-11T08:40:01.862455Z",
     "shell.execute_reply": "2024-07-11T08:40:01.861657Z"
    },
    "papermill": {
     "duration": 0.593716,
     "end_time": "2024-07-11T08:40:01.865132",
     "exception": false,
     "start_time": "2024-07-11T08:40:01.271416",
     "status": "completed"
    },
    "tags": []
   },
   "source": [
    "import matplotlib.pyplot as plt\n",
    "\n",
    "plt.figure(figsize=(10, 10))\n",
    "for images, labels in train_ds.take(1):\n",
    "    for i in range(5):\n",
    "        ax = plt.subplot(3, 2, i + 1)\n",
    "        im = images[i].numpy().astype(\"uint8\")\n",
    "        plt.imshow(im)\n",
    "        plt.title(class_names[labels[i]])\n",
    "        plt.axis(\"off\")"
   ],
   "outputs": [],
   "execution_count": null
  },
  {
   "cell_type": "markdown",
   "id": "fcc4bec9",
   "metadata": {
    "papermill": {
     "duration": 0.017413,
     "end_time": "2024-07-11T08:40:01.900519",
     "exception": false,
     "start_time": "2024-07-11T08:40:01.883106",
     "status": "completed"
    },
    "tags": []
   },
   "source": [
    "Die folgende Zelle versucht, die Hardware gut auszulasten. Es gäbe [viel dazu zu sagen](https://www.tensorflow.org/guide/data_performance), aber sagen wir einfach, dass die Daten für einen raschen Zugriff vorbereitet werden:"
   ]
  },
  {
   "cell_type": "code",
   "id": "2070a48e",
   "metadata": {
    "execution": {
     "iopub.execute_input": "2024-07-11T08:40:01.936862Z",
     "iopub.status.busy": "2024-07-11T08:40:01.936546Z",
     "iopub.status.idle": "2024-07-11T08:40:01.950409Z",
     "shell.execute_reply": "2024-07-11T08:40:01.949740Z"
    },
    "papermill": {
     "duration": 0.03434,
     "end_time": "2024-07-11T08:40:01.952297",
     "exception": false,
     "start_time": "2024-07-11T08:40:01.917957",
     "status": "completed"
    },
    "tags": []
   },
   "source": [
    "train_ds = train_ds.cache().shuffle(100).prefetch(buffer_size=tf.data.AUTOTUNE)\n",
    "val_ds = val_ds.cache().prefetch(buffer_size=tf.data.AUTOTUNE)"
   ],
   "outputs": [],
   "execution_count": null
  },
  {
   "cell_type": "markdown",
   "id": "380e22f1",
   "metadata": {
    "papermill": {
     "duration": 0.017347,
     "end_time": "2024-07-11T08:40:01.987568",
     "exception": false,
     "start_time": "2024-07-11T08:40:01.970221",
     "status": "completed"
    },
    "tags": []
   },
   "source": [
    "Nun definieren wir unser Modell! Hier können Sie Schichten von Neuronalen Netzen hinzufügen, die Aktivierungsfunktionen verändern und vieles mehr. Wichtig ist, dass `num_classes` stimmt, die Anzahl der Klassen und gleichzeitig die Anzahl Neuronen in der letzten (Ausgabe-)Schicht. Und natürlich die Grösse des Eingabebildes, `image_size`. "
   ]
  },
  {
   "cell_type": "code",
   "id": "296aba71",
   "metadata": {
    "execution": {
     "iopub.execute_input": "2024-07-11T08:40:02.023883Z",
     "iopub.status.busy": "2024-07-11T08:40:02.023560Z",
     "iopub.status.idle": "2024-07-11T08:40:02.141438Z",
     "shell.execute_reply": "2024-07-11T08:40:02.140566Z"
    },
    "papermill": {
     "duration": 0.138213,
     "end_time": "2024-07-11T08:40:02.143305",
     "exception": false,
     "start_time": "2024-07-11T08:40:02.005092",
     "status": "completed"
    },
    "tags": []
   },
   "source": [
    "#functional API (https://keras.io/guides/functional_api/):\n",
    "num_classes = len(class_names)\n",
    "color_image_size=(*image_size,3)\n",
    "def make_model():\n",
    "    img_inputs = tf.keras.Input(shape=color_image_size,name='Eingabe')\n",
    "\n",
    "    # Datenvorverarbeitung und Augmentierung\n",
    "    x = layers.Rescaling(1./255, input_shape=color_image_size)(img_inputs)\n",
    "    x = layers.RandomFlip(\"horizontal\")(x)\n",
    "    x = layers.RandomRotation(0.1)(x)  # Kleinere Drehung realistischer für Besteck\n",
    "    \n",
    "    # Convolutional Layers mit erhöhter Komplexität\n",
    "    x = layers.Conv2D(32, (5, 5), padding='same', activation='relu')(x)  \n",
    "    x = layers.MaxPooling2D(pool_size=(2, 2))(x)\n",
    "    x = layers.Conv2D(64, (3, 3), padding='same', activation='relu')(x)\n",
    "    x = layers.MaxPooling2D(pool_size=(2, 2))(x)\n",
    "    x = layers.Conv2D(128, (3, 3), padding='same', activation='relu')(x)\n",
    "    x = layers.MaxPooling2D(pool_size=(2, 2))(x)\n",
    "    x = layers.Conv2D(256, (3, 3), padding='same', activation='relu')(x)\n",
    "    x = layers.MaxPooling2D(pool_size=(2, 2))(x)\n",
    "    \n",
    "    # Regularisierung\n",
    "    x = layers.Dropout(0.3)(x)  # Dropout für Convolutional Layers\n",
    "    \n",
    "    # Übergang zu Dense Layers\n",
    "    x = layers.Flatten()(x)\n",
    "    x = layers.Dense(256, activation='relu', kernel_regularizer=tf.keras.regularizers.l2(0.01))(x)\n",
    "    x = layers.Dropout(0.5)(x)  # Dropout für Fully-Connected Layer\n",
    "    x = layers.Dense(128, activation='relu', kernel_regularizer=tf.keras.regularizers.l2(0.01))(x)\n",
    "\n",
    "    outputs = layers.Dense(num_classes,name='Ausgabe',activation='softmax')(x)\n",
    "    \n",
    "    model = tf.keras.Model(inputs=img_inputs,outputs=outputs,name='Conv-Model-Standard') #Geben Sie Ihrem Modell doch einen hübschen, wiedererkennbaren Namen!\n",
    "    return model \n",
    "\n",
    "model = make_model()\n",
    "\n",
    "model.summary()"
   ],
   "outputs": [],
   "execution_count": null
  },
  {
   "cell_type": "markdown",
   "id": "09f38ee0",
   "metadata": {
    "papermill": {
     "duration": 0.018362,
     "end_time": "2024-07-11T08:40:02.180410",
     "exception": false,
     "start_time": "2024-07-11T08:40:02.162048",
     "status": "completed"
    },
    "tags": []
   },
   "source": [
    "Kompilieren des Modells heisst, dass der Gradientenabstieg und das Lernverfahren spezifiziert werden, und der low-level Code vorbereitet wird, welcher dann später die Hauptarbeit leistet. "
   ]
  },
  {
   "cell_type": "code",
   "id": "f62d7b01",
   "metadata": {
    "execution": {
     "iopub.execute_input": "2024-07-11T08:40:02.218675Z",
     "iopub.status.busy": "2024-07-11T08:40:02.218373Z",
     "iopub.status.idle": "2024-07-11T08:40:02.230396Z",
     "shell.execute_reply": "2024-07-11T08:40:02.229493Z"
    },
    "papermill": {
     "duration": 0.033381,
     "end_time": "2024-07-11T08:40:02.232383",
     "exception": false,
     "start_time": "2024-07-11T08:40:02.199002",
     "status": "completed"
    },
    "tags": []
   },
   "source": [
    "model.compile(optimizer='adam',\n",
    "              loss=tf.keras.losses.SparseCategoricalCrossentropy(from_logits=False),\n",
    "              metrics=['accuracy'])"
   ],
   "outputs": [],
   "execution_count": null
  },
  {
   "cell_type": "markdown",
   "id": "1e860dba",
   "metadata": {
    "papermill": {
     "duration": 0.018549,
     "end_time": "2024-07-11T08:40:02.269431",
     "exception": false,
     "start_time": "2024-07-11T08:40:02.250882",
     "status": "completed"
    },
    "tags": []
   },
   "source": [
    "Es ist immer gut zu verstehen, was während des Trainings passiert- und allenfalls im richtigen Moment zu reagieren. Tensorboard ist eine Web-Applikation, mit der Sie den Trainingsfortschritt verfolgen können. EarlyStopping ist ein Callback, der genau das tut: Er unterbricht das Training, sobald sich die gemonitorte Grösse (hier die Validierungsgenauigkeit) nicht mehr verbessert."
   ]
  },
  {
   "cell_type": "code",
   "id": "ce3d1348",
   "metadata": {
    "execution": {
     "iopub.execute_input": "2024-07-11T08:40:02.307535Z",
     "iopub.status.busy": "2024-07-11T08:40:02.307265Z",
     "iopub.status.idle": "2024-07-11T08:40:02.311573Z",
     "shell.execute_reply": "2024-07-11T08:40:02.310754Z"
    },
    "papermill": {
     "duration": 0.025598,
     "end_time": "2024-07-11T08:40:02.313554",
     "exception": false,
     "start_time": "2024-07-11T08:40:02.287956",
     "status": "completed"
    },
    "tags": []
   },
   "source": [
    "early_stopping_callback = tf.keras.callbacks.EarlyStopping(monitor='val_accuracy',patience=200) #patience = 0? patience = 40? patience=200? \n",
    "lr_schedule = tf.keras.callbacks.ReduceLROnPlateau(\n",
    "    monitor='val_loss', factor=0.5, patience=10, min_lr=1e-6\n",
    ")"
   ],
   "outputs": [],
   "execution_count": null
  },
  {
   "cell_type": "markdown",
   "id": "dc9624bd",
   "metadata": {
    "papermill": {
     "duration": 0.018439,
     "end_time": "2024-07-11T08:40:02.350555",
     "exception": false,
     "start_time": "2024-07-11T08:40:02.332116",
     "status": "completed"
    },
    "tags": []
   },
   "source": [
    "Und...**LOS GEHT'S!** Je nach Grösse des Trainingsdatensatzes kann die nächste Zeile länger dauern. Die Anzahl Epochen kann auch limitiert werden. Stellen Sie sie vorerst so ein, dass Sie sich das Warten *leisten* können. Ev. ist es besser, vorerst mal ein sehr schlechtes Modell zu erzeugen- einfach um zu sehen, ob der Rest des Codes auch wirklich funktioniert."
   ]
  },
  {
   "cell_type": "code",
   "id": "32ec5ee4",
   "metadata": {
    "execution": {
     "iopub.execute_input": "2024-07-11T08:40:02.389004Z",
     "iopub.status.busy": "2024-07-11T08:40:02.388754Z",
     "iopub.status.idle": "2024-07-11T08:40:16.783695Z",
     "shell.execute_reply": "2024-07-11T08:40:16.782928Z"
    },
    "papermill": {
     "duration": 14.416311,
     "end_time": "2024-07-11T08:40:16.785674",
     "exception": false,
     "start_time": "2024-07-11T08:40:02.369363",
     "status": "completed"
    },
    "tags": []
   },
   "source": [
    "epochs=10000\n",
    "history = model.fit(\n",
    "  train_ds,\n",
    "  validation_data=val_ds,\n",
    "  epochs=epochs,\n",
    "  callbacks=[early_stopping_callback,lr_schedule]\n",
    ")"
   ],
   "outputs": [],
   "execution_count": null
  },
  {
   "cell_type": "markdown",
   "id": "6dba5bb3",
   "metadata": {
    "papermill": {
     "duration": 0.080444,
     "end_time": "2024-07-11T08:40:16.947764",
     "exception": false,
     "start_time": "2024-07-11T08:40:16.867320",
     "status": "completed"
    },
    "tags": []
   },
   "source": [
    "Das Modell hat hier (hoffentlich) fertig trainiert, und keinen Fehler produziert (möglich wären z.B. OutofMemory-Fehler o.ä.). Überprüfen Sie das! Denn nur bei Erfolgreichem Training lohnt es sich nun, die Validierungsgenauigkeit angeben zu lassen."
   ]
  },
  {
   "cell_type": "code",
   "id": "f943ed8d",
   "metadata": {
    "execution": {
     "iopub.execute_input": "2024-07-11T08:40:17.111247Z",
     "iopub.status.busy": "2024-07-11T08:40:17.110581Z",
     "iopub.status.idle": "2024-07-11T08:40:17.126270Z",
     "shell.execute_reply": "2024-07-11T08:40:17.125475Z"
    },
    "papermill": {
     "duration": 0.099431,
     "end_time": "2024-07-11T08:40:17.128319",
     "exception": false,
     "start_time": "2024-07-11T08:40:17.028888",
     "status": "completed"
    },
    "tags": []
   },
   "source": [
    "loss, metrics = model.evaluate(val_ds)"
   ],
   "outputs": [],
   "execution_count": null
  },
  {
   "cell_type": "code",
   "id": "cdee4cac",
   "metadata": {
    "execution": {
     "iopub.execute_input": "2024-07-11T08:40:17.291711Z",
     "iopub.status.busy": "2024-07-11T08:40:17.290972Z",
     "iopub.status.idle": "2024-07-11T08:40:17.296949Z",
     "shell.execute_reply": "2024-07-11T08:40:17.296050Z"
    },
    "papermill": {
     "duration": 0.089752,
     "end_time": "2024-07-11T08:40:17.298941",
     "exception": false,
     "start_time": "2024-07-11T08:40:17.209189",
     "status": "completed"
    },
    "tags": []
   },
   "source": [
    "loss, metrics ,history.history.keys()"
   ],
   "outputs": [],
   "execution_count": null
  },
  {
   "cell_type": "markdown",
   "id": "6201957b",
   "metadata": {
    "papermill": {
     "duration": 0.080051,
     "end_time": "2024-07-11T08:40:17.459404",
     "exception": false,
     "start_time": "2024-07-11T08:40:17.379353",
     "status": "completed"
    },
    "tags": []
   },
   "source": [
    "Das `history`-Objekt ist interessant, um zu sehen, wie der Trainingsverlauf war (wenn Sie das nicht schon auf Tensorboard gesehen haben."
   ]
  },
  {
   "cell_type": "code",
   "id": "03994b88",
   "metadata": {
    "execution": {
     "iopub.execute_input": "2024-07-11T08:40:17.623652Z",
     "iopub.status.busy": "2024-07-11T08:40:17.623013Z",
     "iopub.status.idle": "2024-07-11T08:40:17.870673Z",
     "shell.execute_reply": "2024-07-11T08:40:17.869813Z"
    },
    "papermill": {
     "duration": 0.333331,
     "end_time": "2024-07-11T08:40:17.873065",
     "exception": false,
     "start_time": "2024-07-11T08:40:17.539734",
     "status": "completed"
    },
    "tags": []
   },
   "source": [
    "plt.plot(history.history['accuracy'],label='acc')\n",
    "plt.plot(history.history['val_accuracy'],label='val_acc')\n",
    "plt.plot(history.history['loss'],label='loss')\n",
    "plt.plot(history.history['val_loss'],label='val_loss')\n",
    "plt.legend()\n",
    "#plt.savefig('Trainingskurven.png')"
   ],
   "outputs": [],
   "execution_count": null
  },
  {
   "cell_type": "markdown",
   "id": "602bd5b1",
   "metadata": {
    "papermill": {
     "duration": 0.081808,
     "end_time": "2024-07-11T08:40:18.037024",
     "exception": false,
     "start_time": "2024-07-11T08:40:17.955216",
     "status": "completed"
    },
    "tags": []
   },
   "source": [
    "Es lohnt sich, die Zeile\n",
    "\n",
    "    early_stopping_callback = tf.keras.callbacks.EarlyStopping(monitor='val_accuracy',patience=20)\n",
    "\n",
    "mal auf \n",
    "\n",
    "    early_stopping_callback = tf.keras.callbacks.EarlyStopping(monitor='val_accuracy',patience=200)\n",
    "\n",
    "o.ä. zu setzen, und ab der Zelle welche die Modelldefinition enthält (mit `model = keras.Model(...)`) den Code nochmals auszuführen (das Modell enthält die aktuellen Gewichte und trainiert bei erneutem Ausführen der `.fit`-Methode das bisherige Modell weiter, anstatt wieder neu bei zufällig initialisierten Gewichten zu beginnen!). Das Modell wird dann deutlich länger trainiert."
   ]
  },
  {
   "attachments": {
    "9a5e1b07-5a39-4763-a28a-81d7ebe52116.PNG": {
     "image/png": "[encoded data removed]"
    }
   },
   "cell_type": "markdown",
   "id": "13ec007d",
   "metadata": {
    "papermill": {
     "duration": 0.081143,
     "end_time": "2024-07-11T08:40:18.200055",
     "exception": false,
     "start_time": "2024-07-11T08:40:18.118912",
     "status": "completed"
    },
    "tags": []
   },
   "source": [
    "![Trainingskurven.PNG](attachment:9a5e1b07-5a39-4763-a28a-81d7ebe52116.PNG)"
   ]
  },
  {
   "cell_type": "markdown",
   "id": "0c1f27f2",
   "metadata": {
    "papermill": {
     "duration": 0.081264,
     "end_time": "2024-07-11T08:40:18.362398",
     "exception": false,
     "start_time": "2024-07-11T08:40:18.281134",
     "status": "completed"
    },
    "tags": []
   },
   "source": [
    "Beachten Sie, wie die Validierungsgenauigkeit schon lange stagniert, der Validierungsloss, d.h. der Wert der Verlustfunktion ausgewertet auf dem Validierungsdatensatz, seit etwa der 40. Epoche nur noch zunimmt. Der Validierungsdatensatz ist hier zu klein, um mehr sagen zu können, aber auch die Validierungsgenauigkeit scheint nach etwa der 40. Epoche abzunehmen! Es ist daher Wohl sinnvoll, dieses Modell auf diesem Datensatz nur 40 Epochen lang zu trainieren.\n",
    "\n",
    "Dazu können Sie also nochmals das Modell erstellen, die Anzahl Epochen auf 40 setzen und Ihr finales Modell trainieren.\n",
    "\n",
    "### Modell eine vorgegebene Anzahl Epochen lang trainieren"
   ]
  },
  {
   "cell_type": "code",
   "id": "a385e037",
   "metadata": {
    "execution": {
     "iopub.execute_input": "2024-07-11T08:40:18.526790Z",
     "iopub.status.busy": "2024-07-11T08:40:18.526416Z",
     "iopub.status.idle": "2024-07-11T08:40:23.620819Z",
     "shell.execute_reply": "2024-07-11T08:40:23.620001Z"
    },
    "papermill": {
     "duration": 5.17919,
     "end_time": "2024-07-11T08:40:23.623003",
     "exception": false,
     "start_time": "2024-07-11T08:40:18.443813",
     "status": "completed"
    },
    "tags": []
   },
   "source": [
    "vorgegebene_Anzahl_Epochen = 100 # Hier den Wert gemäss dem obigen Plot anpassen!\n",
    "final_model = make_model() # Die bisherigen Gewichte sind damit zurückgesetzt, d.h. es wird nicht weitertrainiert, sondern nochmals ganz von vorne.\n",
    "final_model.compile(optimizer='adam',\n",
    "              loss=tf.keras.losses.SparseCategoricalCrossentropy(from_logits=False),\n",
    "              metrics=['accuracy'])\n",
    "\n",
    "final_history = final_model.fit(\n",
    "  train_ds,\n",
    "  validation_data=val_ds,\n",
    "  epochs=vorgegebene_Anzahl_Epochen\n",
    ")"
   ],
   "outputs": [],
   "execution_count": null
  },
  {
   "cell_type": "code",
   "id": "13e865ad",
   "metadata": {
    "execution": {
     "iopub.execute_input": "2024-07-11T08:40:23.836022Z",
     "iopub.status.busy": "2024-07-11T08:40:23.835708Z",
     "iopub.status.idle": "2024-07-11T08:40:24.131422Z",
     "shell.execute_reply": "2024-07-11T08:40:24.130553Z"
    },
    "papermill": {
     "duration": 0.40359,
     "end_time": "2024-07-11T08:40:24.133656",
     "exception": false,
     "start_time": "2024-07-11T08:40:23.730066",
     "status": "completed"
    },
    "tags": []
   },
   "source": [
    "plt.plot(final_history.history['accuracy'],label='acc')\n",
    "plt.plot(final_history.history['val_accuracy'],label='val_acc')\n",
    "plt.plot(final_history.history['loss'],label='loss')\n",
    "plt.plot(final_history.history['val_loss'],label='val_loss')\n",
    "plt.legend();"
   ],
   "outputs": [],
   "execution_count": null
  },
  {
   "cell_type": "markdown",
   "id": "2bc550a6",
   "metadata": {
    "papermill": {
     "duration": 0.105436,
     "end_time": "2024-07-11T08:40:24.345943",
     "exception": false,
     "start_time": "2024-07-11T08:40:24.240507",
     "status": "completed"
    },
    "tags": []
   },
   "source": [
    "## Evaluation mit Validierungsdatensatz\n",
    "Eine angemessene Evaluation der Güte des Modells sollte auf dem Validierungsdatensatz passieren. Der Beispiel-Datensatz ist allerdings sehr klein! Entsprechend sind hier keine besonders robusten Resultate zu erwarten. "
   ]
  },
  {
   "cell_type": "code",
   "id": "5af07610",
   "metadata": {
    "execution": {
     "iopub.execute_input": "2024-07-11T08:40:24.560040Z",
     "iopub.status.busy": "2024-07-11T08:40:24.559670Z",
     "iopub.status.idle": "2024-07-11T08:40:24.613994Z",
     "shell.execute_reply": "2024-07-11T08:40:24.613083Z"
    },
    "papermill": {
     "duration": 0.163469,
     "end_time": "2024-07-11T08:40:24.615935",
     "exception": false,
     "start_time": "2024-07-11T08:40:24.452466",
     "status": "completed"
    },
    "tags": []
   },
   "source": [
    "#images = np.asarray(list(val_ds2.map(lambda x, y: x)))\n",
    "y = np.asarray(list(val_ds.unbatch().map(lambda x, y: y)))\n",
    "y.shape"
   ],
   "outputs": [],
   "execution_count": null
  },
  {
   "cell_type": "code",
   "id": "b7e9af4e",
   "metadata": {
    "execution": {
     "iopub.execute_input": "2024-07-11T08:40:24.829289Z",
     "iopub.status.busy": "2024-07-11T08:40:24.828962Z",
     "iopub.status.idle": "2024-07-11T08:40:24.903734Z",
     "shell.execute_reply": "2024-07-11T08:40:24.902847Z"
    },
    "papermill": {
     "duration": 0.182913,
     "end_time": "2024-07-11T08:40:24.905646",
     "exception": false,
     "start_time": "2024-07-11T08:40:24.722733",
     "status": "completed"
    },
    "tags": []
   },
   "source": [
    "yhat = final_model.predict(val_ds)\n",
    "yhatnum = yhat.argmax(axis=1)\n",
    "yhatnum"
   ],
   "outputs": [],
   "execution_count": null
  },
  {
   "metadata": {
    "SqlCellData": {
     "variableName$1": "df_sql"
    }
   },
   "cell_type": "code",
   "source": "%%sql\n",
   "id": "465aa7f3d2ee188b",
   "outputs": [],
   "execution_count": null
  },
  {
   "cell_type": "code",
   "id": "933a2d4e",
   "metadata": {
    "execution": {
     "iopub.execute_input": "2024-07-11T08:40:25.119637Z",
     "iopub.status.busy": "2024-07-11T08:40:25.119284Z",
     "iopub.status.idle": "2024-07-11T08:40:25.123216Z",
     "shell.execute_reply": "2024-07-11T08:40:25.122397Z"
    },
    "papermill": {
     "duration": 0.113183,
     "end_time": "2024-07-11T08:40:25.125068",
     "exception": false,
     "start_time": "2024-07-11T08:40:25.011885",
     "status": "completed"
    },
    "tags": []
   },
   "source": [
    "#skplt.metrics.plot_confusion_matrix?"
   ],
   "outputs": [],
   "execution_count": null
  },
  {
   "cell_type": "code",
   "id": "14fb4f9a",
   "metadata": {
    "execution": {
     "iopub.execute_input": "2024-07-11T08:40:25.339391Z",
     "iopub.status.busy": "2024-07-11T08:40:25.338802Z",
     "iopub.status.idle": "2024-07-11T08:40:25.343566Z",
     "shell.execute_reply": "2024-07-11T08:40:25.342563Z"
    },
    "papermill": {
     "duration": 0.11422,
     "end_time": "2024-07-11T08:40:25.345635",
     "exception": false,
     "start_time": "2024-07-11T08:40:25.231415",
     "status": "completed"
    },
    "tags": []
   },
   "source": [
    "y_str = np.array(class_names)[y]\n",
    "yhat_str = np.array(class_names)[yhatnum]"
   ],
   "outputs": [],
   "execution_count": null
  },
  {
   "metadata": {},
   "cell_type": "code",
   "source": [
    "from sklearn.metrics import confusion_matrix, ConfusionMatrixDisplay\n",
    "import matplotlib.pyplot as plt\n"
   ],
   "id": "86e20d1629917f32",
   "outputs": [],
   "execution_count": null
  },
  {
   "cell_type": "code",
   "id": "998fcdba",
   "metadata": {
    "execution": {
     "iopub.execute_input": "2024-07-11T08:40:25.559097Z",
     "iopub.status.busy": "2024-07-11T08:40:25.558749Z",
     "iopub.status.idle": "2024-07-11T08:40:27.695082Z",
     "shell.execute_reply": "2024-07-11T08:40:27.694153Z"
    },
    "papermill": {
     "duration": 2.245985,
     "end_time": "2024-07-11T08:40:27.697853",
     "exception": false,
     "start_time": "2024-07-11T08:40:25.451868",
     "status": "completed"
    },
    "tags": []
   },
   "source": [
    "fig,axlist = plt.subplots(1,2,figsize=(25,10));\n",
    "skplt.metrics.plot_confusion_matrix(y_str, yhat_str, normalize=True,ax=axlist[0]);axlist[0].tick_params(axis='x', rotation=45)\n",
    "skplt.metrics.plot_confusion_matrix(y_str, yhat_str, normalize=False,ax=axlist[1]);axlist[1].tick_params(axis='x', rotation=45)"
   ],
   "outputs": [],
   "execution_count": null
  },
  {
   "cell_type": "markdown",
   "id": "75f0956e",
   "metadata": {
    "papermill": {
     "duration": 0.10752,
     "end_time": "2024-07-11T08:40:27.915437",
     "exception": false,
     "start_time": "2024-07-11T08:40:27.807917",
     "status": "completed"
    },
    "tags": []
   },
   "source": [
    "# Abspeichern des Modells als Keras-Modell\n"
   ]
  },
  {
   "cell_type": "code",
   "id": "fb65346a",
   "metadata": {
    "execution": {
     "iopub.execute_input": "2024-07-11T08:40:28.132616Z",
     "iopub.status.busy": "2024-07-11T08:40:28.131774Z",
     "iopub.status.idle": "2024-07-11T08:40:28.212152Z",
     "shell.execute_reply": "2024-07-11T08:40:28.211081Z"
    },
    "papermill": {
     "duration": 0.190597,
     "end_time": "2024-07-11T08:40:28.214175",
     "exception": false,
     "start_time": "2024-07-11T08:40:28.023578",
     "status": "completed"
    },
    "tags": []
   },
   "source": [
    "Keras_Dateiname = f'model_{Datensatzname}.keras'\n",
    "voller_Keras_Dateiname = str(Path(model_output_path)/Keras_Dateiname)\n",
    "final_model.save(voller_Keras_Dateiname)\n",
    "print(f'Keras-Modell nach {voller_Keras_Dateiname} abgespeichert.')"
   ],
   "outputs": [],
   "execution_count": null
  },
  {
   "cell_type": "markdown",
   "id": "d24917d8",
   "metadata": {
    "papermill": {
     "duration": 0.107432,
     "end_time": "2024-07-11T08:40:28.430639",
     "exception": false,
     "start_time": "2024-07-11T08:40:28.323207",
     "status": "completed"
    },
    "tags": []
   },
   "source": [
    "So kann man das Modell wieder laden:\n",
    "\n",
    "    model = tf.keras.models.load_model(voller_Keras_Dateiname)\n",
    "\n",
    "(Es gibt aber verwirrend viele Formate- .h5, .keras, etc. Siehe auch [hier](https://www.tensorflow.org/tutorials/keras/save_and_load). Wir möchten uns an das .h5-Format halten.)  \n",
    "Der folgende Befehl kann zur Vorhersage genutzt werden:"
   ]
  },
  {
   "cell_type": "code",
   "id": "6a1db20b",
   "metadata": {
    "execution": {
     "iopub.execute_input": "2024-07-11T08:40:28.649392Z",
     "iopub.status.busy": "2024-07-11T08:40:28.649028Z",
     "iopub.status.idle": "2024-07-11T08:40:28.810579Z",
     "shell.execute_reply": "2024-07-11T08:40:28.809802Z"
    },
    "papermill": {
     "duration": 0.274025,
     "end_time": "2024-07-11T08:40:28.812834",
     "exception": false,
     "start_time": "2024-07-11T08:40:28.538809",
     "status": "completed"
    },
    "tags": []
   },
   "source": [
    "loaded_model = tf.keras.models.load_model(voller_Keras_Dateiname)"
   ],
   "outputs": [],
   "execution_count": null
  },
  {
   "cell_type": "code",
   "id": "2537990f",
   "metadata": {
    "execution": {
     "iopub.execute_input": "2024-07-11T08:40:29.032807Z",
     "iopub.status.busy": "2024-07-11T08:40:29.032055Z",
     "iopub.status.idle": "2024-07-11T08:40:29.111017Z",
     "shell.execute_reply": "2024-07-11T08:40:29.110120Z"
    },
    "papermill": {
     "duration": 0.19163,
     "end_time": "2024-07-11T08:40:29.113055",
     "exception": false,
     "start_time": "2024-07-11T08:40:28.921425",
     "status": "completed"
    },
    "tags": []
   },
   "source": [
    "loaded_model.predict(val_ds)"
   ],
   "outputs": [],
   "execution_count": null
  },
  {
   "cell_type": "markdown",
   "id": "f40100f7",
   "metadata": {
    "papermill": {
     "duration": 0.108301,
     "end_time": "2024-07-11T08:40:29.329668",
     "exception": false,
     "start_time": "2024-07-11T08:40:29.221367",
     "status": "completed"
    },
    "tags": []
   },
   "source": [
    "Das wär's! Nach dem Speichern (\"Save Version\" in Kaggle) kann das Modell heruntergeladen werden. Vergessen Sie nicht, welche Bilder Trainingsbilder, und welche Testbilder sind. Ein Modell, das overfittet, wird auf den Trainingsdaten eine viel bessere Performanz zeigen, als auf den Testbildern. Nur jene der Testbilder darf rapportiert werden, denn nur so gut ist die Verallgemeinerungsleistung des neuronalen Netzes. Wir speichern daher noch eine Excel-Datei mit den entsprechenden Zuordnungen ab:"
   ]
  },
  {
   "cell_type": "code",
   "id": "6fc61717",
   "metadata": {
    "execution": {
     "iopub.execute_input": "2024-07-11T08:40:29.546561Z",
     "iopub.status.busy": "2024-07-11T08:40:29.546206Z",
     "iopub.status.idle": "2024-07-11T08:40:29.554421Z",
     "shell.execute_reply": "2024-07-11T08:40:29.553531Z"
    },
    "papermill": {
     "duration": 0.118507,
     "end_time": "2024-07-11T08:40:29.556419",
     "exception": false,
     "start_time": "2024-07-11T08:40:29.437912",
     "status": "completed"
    },
    "tags": []
   },
   "source": [
    "ser = pd.Series(train_or_test)\n",
    "ser"
   ],
   "outputs": [],
   "execution_count": null
  },
  {
   "cell_type": "code",
   "id": "e9e54d1e",
   "metadata": {
    "execution": {
     "iopub.execute_input": "2024-07-11T08:40:29.778330Z",
     "iopub.status.busy": "2024-07-11T08:40:29.777469Z",
     "iopub.status.idle": "2024-07-11T08:40:30.078920Z",
     "shell.execute_reply": "2024-07-11T08:40:30.077958Z"
    },
    "papermill": {
     "duration": 0.413716,
     "end_time": "2024-07-11T08:40:30.081115",
     "exception": false,
     "start_time": "2024-07-11T08:40:29.667399",
     "status": "completed"
    },
    "tags": []
   },
   "source": [
    "ser.to_excel('train_test_split.xlsx')\n",
    "ser.value_counts()"
   ],
   "outputs": [],
   "execution_count": null
  },
  {
   "cell_type": "markdown",
   "id": "2aeeba34",
   "metadata": {
    "papermill": {
     "duration": 0.108057,
     "end_time": "2024-07-11T08:40:30.298553",
     "exception": false,
     "start_time": "2024-07-11T08:40:30.190496",
     "status": "completed"
    },
    "tags": []
   },
   "source": [
    "Weiter geht's mit dem Notebook [Giraffenpuzzle-Evaluation](https://www.kaggle.com/code/toedtlifhsg/giraffenpuzzle-evaluation). Dort wollen wir die Performanz eines Modells evaluieren."
   ]
  },
  {
   "cell_type": "code",
   "id": "342b7ff3",
   "metadata": {
    "papermill": {
     "duration": 0.147517,
     "end_time": "2024-07-11T08:40:30.554415",
     "exception": false,
     "start_time": "2024-07-11T08:40:30.406898",
     "status": "completed"
    },
    "tags": []
   },
   "source": [],
   "outputs": [],
   "execution_count": null
  }
 ],
 "metadata": {
  "kaggle": {
   "accelerator": "none",
   "dataSources": [
    {
     "datasetId": 5200216,
     "sourceId": 8675720,
     "sourceType": "datasetVersion"
    }
   ],
   "dockerImageVersionId": 30733,
   "isGpuEnabled": false,
   "isInternetEnabled": true,
   "language": "python",
   "sourceType": "notebook"
  },
  "kernelspec": {
   "display_name": "Python 3",
   "language": "python",
   "name": "python3"
  },
  "language_info": {
   "codemirror_mode": {
    "name": "ipython",
    "version": 3
   },
   "file_extension": ".py",
   "mimetype": "text/x-python",
   "name": "python",
   "nbconvert_exporter": "python",
   "pygments_lexer": "ipython3",
   "version": "3.10.13"
  },
  "papermill": {
   "default_parameters": {},
   "duration": 55.247553,
   "end_time": "2024-07-11T08:40:33.454016",
   "environment_variables": {},
   "exception": null,
   "input_path": "__notebook__.ipynb",
   "output_path": "__notebook__.ipynb",
   "parameters": {},
   "start_time": "2024-07-11T08:39:38.206463",
   "version": "2.5.0"
  }
 },
 "nbformat": 4,
 "nbformat_minor": 5
}
