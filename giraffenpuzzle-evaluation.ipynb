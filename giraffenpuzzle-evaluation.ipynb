{
 "metadata": {
  "kernelspec": {
   "language": "python",
   "display_name": "Python 3",
   "name": "python3"
  },
  "language_info": {
   "name": "python",
   "version": "3.10.13",
   "mimetype": "text/x-python",
   "codemirror_mode": {
    "name": "ipython",
    "version": 3
   },
   "pygments_lexer": "ipython3",
   "nbconvert_exporter": "python",
   "file_extension": ".py"
  },
  "kaggle": {
   "accelerator": "none",
   "dataSources": [
    {
     "sourceId": 8675720,
     "sourceType": "datasetVersion",
     "datasetId": 5200216
    },
    {
     "sourceId": 76355,
     "sourceType": "modelInstanceVersion",
     "isSourceIdPinned": true,
     "modelInstanceId": 64165
    }
   ],
   "dockerImageVersionId": 30732,
   "isInternetEnabled": true,
   "language": "python",
   "sourceType": "notebook",
   "isGpuEnabled": false
  }
 },
 "nbformat_minor": 4,
 "nbformat": 4,
 "cells": [
  {
   "cell_type": "markdown",
   "source": "# Evaluation des Neuronalen Netzes zur Giraffenpuzzle-Erkennung\nDas Notebook [Giraffenpuzzle-Training](https://www.kaggle.com/code/toedtlifhsg/giraffenpuzzle-training?scriptVersionId=187781292) produzierte als Ausgabe ein fertig trainiertes neuronales Netz, sowie eine Aufsplittung des Giraffenpuzzleteile-Datensatzes in einen Trainings- und einen Testdatensatz. Hier wollen wir das Modell laden und auf dem Testdatensatz evaluieren.",
   "metadata": {}
  },
  {
   "cell_type": "code",
   "source": "import matplotlib.pyplot as plt #Plottingroutinen zur Visualisierung\nimport numpy as np # Arrays- \"The fundamental package for scientific computing with Python\" \nimport pandas as pd #Umgang mit Tabellen- hier nur zum Laden der Klassenlabels\nimport tensorflow as tf #Tensorflow, trainieren von neuronale Netzen (inkl. Keras)\nimport shutil # Dateisystemmanipulationen, insbesondere für das Kopieren von Dateien\nfrom pathlib import Path #Pathlib, Umgang mit Dateipfaden\nimport scikitplot # Visualisierungen von Klassifikationsperformanz",
   "metadata": {
    "execution": {
     "iopub.status.busy": "2024-08-05T13:06:43.920923Z",
     "iopub.execute_input": "2024-08-05T13:06:43.921389Z",
     "iopub.status.idle": "2024-08-05T13:06:43.927671Z",
     "shell.execute_reply.started": "2024-08-05T13:06:43.921357Z",
     "shell.execute_reply": "2024-08-05T13:06:43.926450Z"
    },
    "trusted": true
   },
   "outputs": [],
   "execution_count": null
  },
  {
   "cell_type": "code",
   "source": [
    "# Modell laden:\n",
    "loaded_model = tf.keras.models.load_model('Training/working/model/model_Besteck.keras')\n",
    "# Excel-Datei mit Angabe, ob ein Bild ein Test- oder ein Trainingsbild ist:\n",
    "train_or_test = pd.read_excel('train_test_split.xlsx')\n",
    "train_or_test.columns = ['Dateiname','TrainOrTest']"
   ],
   "metadata": {
    "execution": {
     "iopub.status.busy": "2024-08-05T13:01:18.056946Z",
     "iopub.execute_input": "2024-08-05T13:01:18.057474Z",
     "iopub.status.idle": "2024-08-05T13:01:18.592757Z",
     "shell.execute_reply.started": "2024-08-05T13:01:18.057429Z",
     "shell.execute_reply": "2024-08-05T13:01:18.591703Z"
    },
    "trusted": true
   },
   "outputs": [],
   "execution_count": null
  },
  {
   "cell_type": "markdown",
   "source": "Hiermit haben wir die Zuordnung unserer Daten zu den Trainings- und Testdaten. Wir wollen hier nur noch Bilder, mit welchen das Modell nicht trainiert wurde.",
   "metadata": {}
  },
  {
   "cell_type": "code",
   "source": "train_or_test",
   "metadata": {
    "execution": {
     "iopub.status.busy": "2024-08-05T13:01:22.339157Z",
     "iopub.execute_input": "2024-08-05T13:01:22.340556Z",
     "iopub.status.idle": "2024-08-05T13:01:22.366028Z",
     "shell.execute_reply.started": "2024-08-05T13:01:22.340503Z",
     "shell.execute_reply": "2024-08-05T13:01:22.364560Z"
    },
    "trusted": true
   },
   "outputs": [],
   "execution_count": null
  },
  {
   "cell_type": "markdown",
   "source": "Wir erstellen nun zwei Baumstrukturen (für Trainings- und Testdaten). Das Klassenlabel extrahieren wir aus dem Dateinamen- hier ist es alles vor dem ersten Underscore, \"_\".",
   "metadata": {}
  },
  {
   "cell_type": "code",
   "source": [
    "# Extrahiere Klassenlabel aus Dateiname\n",
    "Klassenlabel = train_or_test.Dateiname.map(lambda s:s[:s.find('_')])\n",
    "train_or_test['Klasse'] = Klassenlabel\n",
    "\n",
    "# Wähle nur die Testdaten\n",
    "testbilder = train_or_test[ train_or_test['TrainOrTest']=='test' ]\n",
    "y_test = Klassenlabel[ train_or_test['TrainOrTest']=='test' ]\n",
    "\n",
    "# Kopiere die Testbilder in eine Baumstruktur\n",
    "for irow,row in testbilder.iterrows():\n",
    "    Dateiname,TrainOrTest,Klasse = (row.Dateiname,row.TrainOrTest,row.Klasse)\n",
    "    fullfilename = Path('1_object_extraction_output/Ausschnitte')/Dateiname\n",
    "    Baumstrukturpfad = Path('Training/working')/'test'\n",
    "    (Baumstrukturpfad/Klasse).mkdir(exist_ok=True,parents=True)\n",
    "    shutil.copyfile(fullfilename,Baumstrukturpfad/Klasse/Dateiname)"
   ],
   "metadata": {
    "execution": {
     "iopub.status.busy": "2024-08-05T13:03:12.846814Z",
     "iopub.execute_input": "2024-08-05T13:03:12.847295Z",
     "iopub.status.idle": "2024-08-05T13:03:13.369015Z",
     "shell.execute_reply.started": "2024-08-05T13:03:12.847258Z",
     "shell.execute_reply": "2024-08-05T13:03:13.367933Z"
    },
    "trusted": true
   },
   "outputs": [],
   "execution_count": null
  },
  {
   "cell_type": "markdown",
   "source": "Überprüfen wir das Resultat:",
   "metadata": {}
  },
  {
   "cell_type": "code",
   "source": [
    "!ls Training/working/test\n",
    "#!ls /kaggle/working/test/*   #Ausgabe ist etwas lang, aber nützlich für die Überprüfung der Vollständigkeit\n",
    "print('-'*70) #nur zur visuellen Strukturierung; 3*\"a\" ergibt \"aaa\"\n",
    "!ls Training/working/test/fork-big"
   ],
   "metadata": {
    "execution": {
     "iopub.status.busy": "2024-08-05T13:04:40.042507Z",
     "iopub.execute_input": "2024-08-05T13:04:40.043652Z",
     "iopub.status.idle": "2024-08-05T13:04:42.175958Z",
     "shell.execute_reply.started": "2024-08-05T13:04:40.043605Z",
     "shell.execute_reply": "2024-08-05T13:04:42.174353Z"
    },
    "trusted": true
   },
   "outputs": [],
   "execution_count": null
  },
  {
   "cell_type": "markdown",
   "source": "tf.Dataset ist eine Tensorflowklasse, welche effizient Trainingsbilder aus der Baumstruktur lädt.",
   "metadata": {}
  },
  {
   "cell_type": "code",
   "source": "image_size=(64,64)\nbatch_size=32\ntest_ds = tf.keras.utils.image_dataset_from_directory(\n    Baumstrukturpfad,  #es ist wichtig, dass zur Validierung keine Testdaten verwendet werden!\n    validation_split=0.0,\n    #subset=\"validation\",\n    shuffle=False, # Das ist wichtig, da wir später die Bilder in der gleichen Reihenfolge aus dem Dataset extrahieren müssen, in der wir sie dem Modell zur prediction gefüttert haben.\n    seed=123,\n    image_size=image_size,\n    batch_size=batch_size)",
   "metadata": {
    "execution": {
     "iopub.status.busy": "2024-08-05T13:05:43.219825Z",
     "iopub.execute_input": "2024-08-05T13:05:43.220275Z",
     "iopub.status.idle": "2024-08-05T13:05:43.293142Z",
     "shell.execute_reply.started": "2024-08-05T13:05:43.220238Z",
     "shell.execute_reply": "2024-08-05T13:05:43.292000Z"
    },
    "trusted": true
   },
   "outputs": [],
   "execution_count": null
  },
  {
   "cell_type": "markdown",
   "source": "Steht da in der letzten Zeile `Found 94 files belonging to 20 classes.`, o.ä.? Gut!\nLaden wir diese Bilder nun als Numpy-Arrays. Es gibt andere Möglichkeiten, das gleiche zu erreichen, aber jedenfalls erhalten wir einen Numpy-Array mit den Dimensionen (Anzahl Bilder, 64,64, Anzahl Farbkanäle).",
   "metadata": {}
  },
  {
   "cell_type": "code",
   "source": "L = [x for x in test_ds] # wir extrahieren die Testbilder aus dem Dataset\n#X_test = [x.numpy().shape for x,y in L]\nX_test = np.vstack([x.numpy() for x,y in L])\ny_test = np.hstack([y.numpy() for x,y in L])\nX_test.shape,y_test.shape",
   "metadata": {
    "execution": {
     "iopub.status.busy": "2024-08-05T13:10:32.067961Z",
     "iopub.execute_input": "2024-08-05T13:10:32.068446Z",
     "iopub.status.idle": "2024-08-05T13:10:32.103504Z",
     "shell.execute_reply.started": "2024-08-05T13:10:32.068409Z",
     "shell.execute_reply": "2024-08-05T13:10:32.102305Z"
    },
    "trusted": true
   },
   "outputs": [],
   "execution_count": null
  },
  {
   "cell_type": "markdown",
   "source": "Wir überprüfen, dass zumindest das erste Bild in Xtest dem ersten eintrag in der testbilder-Liste entspricht:",
   "metadata": {}
  },
  {
   "cell_type": "code",
   "source": "testbildname = sorted(testbilder.Dateiname)[0] # \"[0]\": erstes Bild\ndfrow = testbilder[testbilder.Dateiname==testbildname]\ntestbildklasse = dfrow.Klasse.iloc[0]\ndfrow",
   "metadata": {
    "execution": {
     "iopub.status.busy": "2024-08-05T13:10:37.789721Z",
     "iopub.execute_input": "2024-08-05T13:10:37.790141Z",
     "iopub.status.idle": "2024-08-05T13:10:37.804287Z",
     "shell.execute_reply.started": "2024-08-05T13:10:37.790106Z",
     "shell.execute_reply": "2024-08-05T13:10:37.803126Z"
    },
    "trusted": true
   },
   "outputs": [],
   "execution_count": null
  },
  {
   "cell_type": "code",
   "source": "testbild1 = plt.imread(Baumstrukturpfad/testbildklasse/testbildname)\nplt.imshow(testbild1)\nplt.title(testbildname);",
   "metadata": {
    "execution": {
     "iopub.status.busy": "2024-08-05T13:10:44.129909Z",
     "iopub.execute_input": "2024-08-05T13:10:44.130348Z",
     "iopub.status.idle": "2024-08-05T13:10:44.445923Z",
     "shell.execute_reply.started": "2024-08-05T13:10:44.130311Z",
     "shell.execute_reply": "2024-08-05T13:10:44.444586Z"
    },
    "trusted": true
   },
   "outputs": [],
   "execution_count": null
  },
  {
   "cell_type": "markdown",
   "source": "Das entsprechende Bild in `X_test` wurde zentriert, d.h. die Farben stimmen nicht mehr:",
   "metadata": {}
  },
  {
   "cell_type": "code",
   "source": "import matplotlib.pyplot as plt\nplt.imshow(X_test[0]);",
   "metadata": {
    "execution": {
     "iopub.status.busy": "2024-08-05T13:11:52.547875Z",
     "iopub.execute_input": "2024-08-05T13:11:52.548326Z",
     "iopub.status.idle": "2024-08-05T13:11:52.822666Z",
     "shell.execute_reply.started": "2024-08-05T13:11:52.548289Z",
     "shell.execute_reply": "2024-08-05T13:11:52.821386Z"
    },
    "trusted": true
   },
   "outputs": [],
   "execution_count": null
  },
  {
   "cell_type": "markdown",
   "source": "Die obigen zwei Bilder könnten das gleiche Bild sein (jenes unten ist so, wie es das neuronale Netz in etwa sieht...). D.h. wir verstehen nun die Reihenfolge der Predictions: ",
   "metadata": {}
  },
  {
   "cell_type": "code",
   "source": "yhat_test = loaded_model.predict(X_test)\nyhatnum_test = yhat_test.argmax(axis=1)\nyhat_test.shape",
   "metadata": {
    "execution": {
     "iopub.status.busy": "2024-08-05T13:13:23.292914Z",
     "iopub.execute_input": "2024-08-05T13:13:23.293431Z",
     "iopub.status.idle": "2024-08-05T13:13:23.457705Z",
     "shell.execute_reply.started": "2024-08-05T13:13:23.293386Z",
     "shell.execute_reply": "2024-08-05T13:13:23.456590Z"
    },
    "trusted": true
   },
   "outputs": [],
   "execution_count": null
  },
  {
   "cell_type": "code",
   "source": "y_test,yhatnum_test",
   "metadata": {
    "execution": {
     "iopub.status.busy": "2024-08-05T13:13:26.593569Z",
     "iopub.execute_input": "2024-08-05T13:13:26.593974Z",
     "iopub.status.idle": "2024-08-05T13:13:26.602289Z",
     "shell.execute_reply.started": "2024-08-05T13:13:26.593940Z",
     "shell.execute_reply": "2024-08-05T13:13:26.601082Z"
    },
    "trusted": true
   },
   "outputs": [],
   "execution_count": null
  },
  {
   "cell_type": "markdown",
   "source": "Das ist nun also der Klassenindex- da wir die Bilder nicht \"geshuffled\" haben, ist zumindest die Sequenz `y_test` monoton. Bei `yhatnum_test` (also unseren Vorhersagen auf diesen Bildern) gibt es einige wenige Abweichungen. Das ist zu erwarten. Wenn wir nur wüssten, welcher Klasse das zugehört?!  \nAber weil wir zu neugierig sind, wie gut das Modell sein könnte, rechnen wir ohne dieses Wissen mal die Genauigkeit aus:",
   "metadata": {}
  },
  {
   "cell_type": "code",
   "source": "Genauigkeit = np.mean(np.where(y_test==yhatnum_test,1,0)) \n# np.where könnte man auch weglassen, so: Genauigkeit = np.mean(y_test==yhatnum_test). \n# Aber was ist der Mittelwert von True, False, True? \n# Klarer ist's wenn wir mit where ersetzen: True->1 und False->0\nassert Genauigkeit==np.mean(y_test==yhatnum_test) # Ergibt einen Fehler, sollte das mal nicht mehr stimmen\nprint(f'Die Testgenauigkeit ist {100*Genauigkeit:3.1f}%.')",
   "metadata": {
    "execution": {
     "iopub.status.busy": "2024-07-11T11:11:42.795546Z",
     "iopub.execute_input": "2024-07-11T11:11:42.795953Z",
     "iopub.status.idle": "2024-07-11T11:11:42.807982Z",
     "shell.execute_reply.started": "2024-07-11T11:11:42.795920Z",
     "shell.execute_reply": "2024-07-11T11:11:42.804414Z"
    },
    "trusted": true
   },
   "outputs": [],
   "execution_count": null
  },
  {
   "cell_type": "markdown",
   "source": "Nun würden wir also auch gerne die Label kennen. Wir müssen den Labelindex (die Zahl) mit dem Namen der Klasse in Verbindung bringen. Zum Glück werden die Klassenlabel sortiert durchgezählt, so dass dieser Schritt nicht schwer ist:",
   "metadata": {}
  },
  {
   "cell_type": "code",
   "source": "sorted_class_labels = np.array(sorted(Klassenlabel.unique())) #Labels in Keras der Funktion image_dataset_from_directory werden immer alphanummerisch sortiert den Indices zugeordnet\nsorted_class_labels",
   "metadata": {
    "execution": {
     "iopub.status.busy": "2024-08-05T13:16:34.311360Z",
     "iopub.execute_input": "2024-08-05T13:16:34.312198Z",
     "iopub.status.idle": "2024-08-05T13:16:34.319479Z",
     "shell.execute_reply.started": "2024-08-05T13:16:34.312160Z",
     "shell.execute_reply": "2024-08-05T13:16:34.318366Z"
    },
    "trusted": true
   },
   "outputs": [],
   "execution_count": null
  },
  {
   "cell_type": "code",
   "source": "yhat_label = pd.Series(sorted_class_labels[yhatnum_test],index=testbilder.index)\ny_test_label = pd.Series(sorted_class_labels[y_test],index=testbilder.index)\n# das vorhergesagte Label:\nyhat_label",
   "metadata": {
    "execution": {
     "iopub.status.busy": "2024-08-05T13:16:47.310317Z",
     "iopub.execute_input": "2024-08-05T13:16:47.310724Z",
     "iopub.status.idle": "2024-08-05T13:16:47.321277Z",
     "shell.execute_reply.started": "2024-08-05T13:16:47.310692Z",
     "shell.execute_reply": "2024-08-05T13:16:47.319974Z"
    },
    "trusted": true
   },
   "outputs": [],
   "execution_count": null
  },
  {
   "cell_type": "code",
   "source": "# und das Tatsächliche:\ny_test_label",
   "metadata": {
    "execution": {
     "iopub.status.busy": "2024-08-05T13:16:52.408765Z",
     "iopub.execute_input": "2024-08-05T13:16:52.409180Z",
     "iopub.status.idle": "2024-08-05T13:16:52.418270Z",
     "shell.execute_reply.started": "2024-08-05T13:16:52.409146Z",
     "shell.execute_reply": "2024-08-05T13:16:52.416832Z"
    },
    "trusted": true
   },
   "outputs": [],
   "execution_count": null
  },
  {
   "cell_type": "code",
   "source": "# Natürlich muss die gleiche Genauigkeit rauskommen, wenn wir sie mit den Labels berechnen, anstatt mit den Labelindices:\nGenauigkeit2 = (yhat_label==y_test_label).mean()\nprint(f'Die Testgenauigkeit ist {100*Genauigkeit2:3.1f}%.')",
   "metadata": {
    "execution": {
     "iopub.status.busy": "2024-08-05T13:16:55.091109Z",
     "iopub.execute_input": "2024-08-05T13:16:55.092425Z",
     "iopub.status.idle": "2024-08-05T13:16:55.099422Z",
     "shell.execute_reply.started": "2024-08-05T13:16:55.092375Z",
     "shell.execute_reply": "2024-08-05T13:16:55.098280Z"
    },
    "trusted": true
   },
   "outputs": [],
   "execution_count": null
  },
  {
   "cell_type": "markdown",
   "source": "Schliesslich können wir uns noch die Wahrscheinlichkeit merken, mit welcher das Neuronale Netz eine Klasse identifiziert hat. Dies ist also die grösste Zahl unter den $P(y=c_i|X)$ für alle Klassen $c_1$,...,$c_C$ ($C$ der Anzahl Klassen unseres Problems, `yhat_test.shape[1]`.",
   "metadata": {}
  },
  {
   "cell_type": "code",
   "source": "P = np.max(yhat_test,axis=1)\nP.shape",
   "metadata": {
    "execution": {
     "iopub.status.busy": "2024-08-05T13:16:56.799274Z",
     "iopub.execute_input": "2024-08-05T13:16:56.801055Z",
     "iopub.status.idle": "2024-08-05T13:16:56.808304Z",
     "shell.execute_reply.started": "2024-08-05T13:16:56.801007Z",
     "shell.execute_reply": "2024-08-05T13:16:56.807037Z"
    },
    "trusted": true
   },
   "outputs": [],
   "execution_count": null
  },
  {
   "cell_type": "markdown",
   "source": "# Scikit-Plot\nWir sind bereit! Wir kennen die Testbilder, deren zugehörige Klassenlabel und Vorhersagen durch das geladene Modell. Wir folgen der Dokumentation [hier](https://scikit-plot.readthedocs.io/en/stable/metrics.html). Berechnen wir Metriken! Wir beginnen mit der Confusion Matrix:",
   "metadata": {}
  },
  {
   "cell_type": "code",
   "source": [
    "from scikitplot.metrics import plot_confusion_matrix\n",
    "plot_confusion_matrix(y_test_label,yhat_label,labels=sorted_class_labels,x_tick_rotation=45)"
   ],
   "metadata": {
    "execution": {
     "iopub.status.busy": "2024-08-05T13:17:09.338460Z",
     "iopub.execute_input": "2024-08-05T13:17:09.338943Z",
     "iopub.status.idle": "2024-08-05T13:17:10.669102Z",
     "shell.execute_reply.started": "2024-08-05T13:17:09.338907Z",
     "shell.execute_reply": "2024-08-05T13:17:10.667931Z"
    },
    "trusted": true
   },
   "outputs": [],
   "execution_count": null
  },
  {
   "cell_type": "markdown",
   "source": "Beachten Sie, wie hübsch blockdiagonal die confusion matrix geworden ist. Dies zeigt, dass das Modell sich meist in der Form, und selten bis nie in der Farbe irrt.  \nEin offensichtliches Problem ist natürlich, dass wir den Grossteil der Daten zum Training benutzt haben (das ist gängige Praxis), und nun nur wenige Beispiele (pro Klasse) übrig haben, um die Präzision und den Recall der Klasse zu schätzen. Mehr Daten wären schon praktisch...",
   "metadata": {}
  },
  {
   "cell_type": "code",
   "source": "display((y_test_label==yhat_label).value_counts())\nprint('-'*30)\nfor curr_class_str in yhat_label.unique():\n    curr_class_results=(y_test_label[y_test_label==curr_class_str]==yhat_label[y_test_label==curr_class_str])\n    print(f'{curr_class_str:<10}:{100*curr_class_results.mean():3.0f}%')",
   "metadata": {
    "execution": {
     "iopub.status.busy": "2024-08-05T13:25:02.643633Z",
     "iopub.execute_input": "2024-08-05T13:25:02.644083Z",
     "iopub.status.idle": "2024-08-05T13:25:02.673093Z",
     "shell.execute_reply.started": "2024-08-05T13:25:02.644014Z",
     "shell.execute_reply": "2024-08-05T13:25:02.671954Z"
    },
    "trusted": true
   },
   "outputs": [],
   "execution_count": null
  },
  {
   "cell_type": "code",
   "source": "ax = plt.subplot(1,1,1)\nscikitplot.metrics.plot_precision_recall(y_test_label,yhat_test,ax=ax)\nax.legend(bbox_to_anchor=(1.1, 1.05)); #Legende ausserhalb des Plots- sonst sieht man nichts",
   "metadata": {
    "execution": {
     "iopub.status.busy": "2024-08-05T13:25:14.881491Z",
     "iopub.execute_input": "2024-08-05T13:25:14.881895Z",
     "iopub.status.idle": "2024-08-05T13:25:15.630788Z",
     "shell.execute_reply.started": "2024-08-05T13:25:14.881864Z",
     "shell.execute_reply": "2024-08-05T13:25:15.629604Z"
    },
    "trusted": true
   },
   "outputs": [],
   "execution_count": null
  },
  {
   "cell_type": "code",
   "source": "ax = plt.subplot(1,1,1)\nscikitplot.metrics.plot_roc(y_test_label,yhat_test,ax=ax)\nax.legend(bbox_to_anchor=(1.1, 1.05)); #Legende ausserhalb des Plots- sonst sieht man nichts",
   "metadata": {
    "execution": {
     "iopub.status.busy": "2024-08-05T13:25:28.313405Z",
     "iopub.execute_input": "2024-08-05T13:25:28.313810Z",
     "iopub.status.idle": "2024-08-05T13:25:29.019462Z",
     "shell.execute_reply.started": "2024-08-05T13:25:28.313772Z",
     "shell.execute_reply": "2024-08-05T13:25:29.018276Z"
    },
    "trusted": true
   },
   "outputs": [],
   "execution_count": null
  },
  {
   "cell_type": "markdown",
   "source": "Ein Problem hier ist, dass das neuronale Netz für recht viele Klassen (\"area=1.000\") eine extreme Precision-Recall-Kurve ausgibt- von (0,1) über (1,1) nach (1,0). Aber wer würde sich schon darüber beklagen!",
   "metadata": {}
  },
  {
   "cell_type": "markdown",
   "source": "Zur Erinnerung, dies ist das Modell, das die obigen Resultate erziehlt hat. Wir können es grundsätzlich irgendwo (auf einem Raspberry-Pi?) laden und dort Vorhersagen generieren.",
   "metadata": {}
  },
  {
   "cell_type": "code",
   "source": "loaded_model ",
   "metadata": {
    "execution": {
     "iopub.status.busy": "2024-08-05T13:25:37.704168Z",
     "iopub.execute_input": "2024-08-05T13:25:37.704586Z",
     "iopub.status.idle": "2024-08-05T13:25:37.711593Z",
     "shell.execute_reply.started": "2024-08-05T13:25:37.704556Z",
     "shell.execute_reply": "2024-08-05T13:25:37.710473Z"
    },
    "trusted": true
   },
   "outputs": [],
   "execution_count": null
  }
 ]
}
